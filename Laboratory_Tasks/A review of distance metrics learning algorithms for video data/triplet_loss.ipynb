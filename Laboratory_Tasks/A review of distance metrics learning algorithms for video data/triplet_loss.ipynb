{
  "cells": [
    {
      "cell_type": "markdown",
      "metadata": {
        "id": "TYKbRujqiUyH"
      },
      "source": [
        "##### AI TECH - Akademia Innowacyjnych Zastosowań Technologii Cyfrowych. Programu Operacyjnego Polska Cyfrowa na lata 2014-2020\n",
        "<hr>"
      ]
    },
    {
      "cell_type": "markdown",
      "metadata": {
        "id": "eDi6jGoViUyK"
      },
      "source": [
        "<br>\n",
        "<br>\n",
        "<br>\n",
        "<br>\n",
        "<br>\n",
        "<br>\n",
        "<br>\n",
        "<center>\n",
        "    <h1 style = \"font-size:48px; font-weight:normal\"><b>AI</b>-TECH</style></h1>\n",
        "    <br>\n",
        "<br>\n",
        "<br>\n",
        "<br>\n",
        "    <h1 style = \"font-size:24px; font-weight:normal\">DO LABORATORIUM 3</style></h1>\n",
        "    <h1 style = \"font-size:24px\">z Przetwarzania multimediów w systemach decyzyjnych</style></h1>\n",
        "    <h1 style = \"font-size:24px\">Przegląd algorytmów uczących się metryk dystansu dla\n",
        "danych wizyjnych</style></h1>\n",
        "    <h1 style = \"font-size:24px\">Przemysław Rośleń</style></h1>\n",
        "    <h3 style = \"font-size:21px\">algorytm straty trójkowej (triplet loss)</h3>\n",
        "    <h3 style =\n",
        "</center>\n",
        "<br>\n",
        "<br>\n",
        "<br>\n",
        "<br>\n",
        "<br>\n",
        "<br>\n",
        "<br>\n",
        "<br>\n",
        "<br>\n",
        "    </body>\n",
        "    </html>"
      ]
    },
    {
      "cell_type": "markdown",
      "metadata": {
        "id": "2_egW-zViUyL"
      },
      "source": [
        "![stopka.svg](stopka.svg)"
      ]
    },
    {
      "cell_type": "markdown",
      "metadata": {
        "id": "nlP3h4jDiUyM"
      },
      "source": [
        "<center>\n",
        "Projekt współfinansowany ze środków Unii Europejskiej w ramach Europejskiego Funduszu Rozwoju Regionalnego\n",
        "Program Operacyjny Polska Cyfrowa na lata 2014-2020,\n",
        "Oś Priorytetowa nr 3 \"Cyfrowe kompetencje społeczeństwa\" Działanie  nr 3.2 \"Innowacyjne rozwiązania na rzecz aktywizacji cyfrowej\"\n",
        "Tytuł projektu:  „Akademia Innowacyjnych Zastosowań Technologii Cyfrowych (AI Tech)”\n",
        "    </center>"
      ]
    },
    {
      "cell_type": "markdown",
      "metadata": {
        "id": "eOQZOlxfiUyM"
      },
      "source": [
        "<hr>"
      ]
    },
    {
      "cell_type": "markdown",
      "metadata": {
        "id": "jfpR99WoiUyM"
      },
      "source": [
        "# Trening sieci algorytmem straty trójkowej\n"
      ]
    },
    {
      "cell_type": "markdown",
      "metadata": {
        "id": "A4kNxlT3iUyM"
      },
      "source": [
        "Algorytm straty trójkowej jest mniej \"zachłanny\" jeśli chodzi o szybkie umieszczanie punktów w przestrzeni decyzyjnej. Zmniejsza to ryzyko słabej generalizacji modelu, jednak okupione jest wolniejszym treningiem."
      ]
    },
    {
      "cell_type": "code",
      "execution_count": null,
      "metadata": {
        "id": "z5kE_BFsiUyN"
      },
      "outputs": [],
      "source": [
        "# Import bibliotek\n",
        "import numpy as np\n",
        "import os\n",
        "import matplotlib.pyplot as plt\n",
        "import tensorflow as tf\n",
        "import tensorflow_datasets as tfds\n",
        "from tensorflow.keras.optimizers import Adam\n",
        "from tensorflow.keras.layers     import Input, Dense, Conv2D, Flatten, PReLU, MaxPooling2D, Lambda\n",
        "from tensorflow.keras.models     import Model\n",
        "from tensorflow.keras.utils      import to_categorical\n",
        "from tensorflow.keras            import backend as K\n",
        "from numpy.linalg                import norm\n",
        "from sklearn.decomposition       import PCA\n",
        "from tqdm                        import tqdm"
      ]
    },
    {
      "cell_type": "markdown",
      "metadata": {
        "id": "EpwtV075iUyO"
      },
      "source": [
        "# Nastawy pracy algorytmu:"
      ]
    },
    {
      "cell_type": "code",
      "execution_count": null,
      "metadata": {
        "id": "BWhDU3WYiUyO",
        "scrolled": true
      },
      "outputs": [],
      "source": [
        "# Nastawy algorytmu treningu\n",
        "learning_rate       = 0.001\n",
        "batches_per_epoch   = 10\n",
        "batch_size          = 16\n",
        "num_training_epochs = 3\n",
        "\n",
        "# Nastawy algorytmu uczącego się metryk odległości\n",
        "embedding_length  = 20 # długość wektora reprezentacji\n",
        "margin            = 1  # ograniczenie na docelową odległość między klastrami punktów\n",
        "distance_norm     = 'euclidean' # metryka odległości Ln, może być też 1,2, czy np.inf\n",
        "\n",
        "# Nazwy folderów na dane:\n",
        "folder_model_weights    = \"_weights\"\n",
        "folder_repspace_preview = \"_previews\""
      ]
    },
    {
      "cell_type": "markdown",
      "metadata": {
        "id": "zuECutadiUyO"
      },
      "source": [
        "Odczyt danych z reporytorium TensorFlow Datasets"
      ]
    },
    {
      "cell_type": "code",
      "execution_count": null,
      "metadata": {
        "id": "di8Jj9sDiUyO",
        "colab": {
          "base_uri": "https://localhost:8080/",
          "height": 84,
          "referenced_widgets": [
            "61183eacaa714bba975737e23b891a65",
            "d55b9ebd96c74ad59fc3659513f09033",
            "7e4c5275ccd34b449b0cb5dad0a098ab",
            "9a1f3aa739eb487eadd35d008f61d8f5",
            "4f0b1d115e48410a85e480fc43318bf1",
            "bf59bda34089401f95345100e2ef7017",
            "bb42cd66208c4ffbb3e3610fe2a610c0",
            "565e1c27f5d34f75b43f0d1b6b726370",
            "23feab8713804c34b14dc22610dc6584",
            "6ba39ccd20424ab98b78a56210d154bc",
            "dc1b9dd0d2ba4d0d85cd132c35688eac"
          ]
        },
        "outputId": "5fe759bd-c9bd-4c9e-eb3a-49b55593d1dd"
      },
      "outputs": [
        {
          "output_type": "stream",
          "name": "stdout",
          "text": [
            "Downloading and preparing dataset 11.06 MiB (download: 11.06 MiB, generated: 21.00 MiB, total: 32.06 MiB) to /root/tensorflow_datasets/mnist/3.0.1...\n"
          ]
        },
        {
          "output_type": "display_data",
          "data": {
            "text/plain": [
              "Dl Completed...:   0%|          | 0/5 [00:00<?, ? file/s]"
            ],
            "application/vnd.jupyter.widget-view+json": {
              "version_major": 2,
              "version_minor": 0,
              "model_id": "61183eacaa714bba975737e23b891a65"
            }
          },
          "metadata": {}
        },
        {
          "output_type": "stream",
          "name": "stdout",
          "text": [
            "Dataset mnist downloaded and prepared to /root/tensorflow_datasets/mnist/3.0.1. Subsequent calls will reuse this data.\n"
          ]
        }
      ],
      "source": [
        "# Wykorzystamy zbiór MNIST.\n",
        "trn_dst, test_dst = tfds.load('mnist', split=['train','test'], shuffle_files=True, as_supervised = True, batch_size=-1)\n",
        "\n",
        "# Skrypt napisany jest z myślą, że zbiór danych podzielony jest\n",
        "# na standardowe cztery tablice (X - wzorce wejściowe, Y - etykiety).\n",
        "trn_X,   trn_Y  = tfds.as_numpy(trn_dst)\n",
        "test_X,  test_Y = tfds.as_numpy(test_dst)\n",
        "\n",
        "# Konwertujemy dane wejściowe na format zmiennoprzecinkowy:\n",
        "trn_X  = trn_X.astype(np.float16)\n",
        "test_X = test_X.astype(np.float16)\n",
        "\n",
        "# Pobieramy informację o rozmiarze wejścia.\n",
        "# (dla MNIST jest to (28, 28, 1))\n",
        "input_dims = trn_X[0].shape\n",
        "\n",
        "# Normalizacja danych:\n",
        "\n",
        "def normalize_dataset(dataset):\n",
        "    for i in range(len(dataset)):\n",
        "        dataset[i] = dataset[i]/np.max(np.abs(dataset[i]))\n",
        "    return dataset\n",
        "\n",
        "trn_X  = normalize_dataset(trn_X)\n",
        "test_X = normalize_dataset(test_X)"
      ]
    },
    {
      "cell_type": "markdown",
      "metadata": {
        "id": "R7Bp_kZ-iUyO"
      },
      "source": [
        "# Definicja pojedynczej gałęzi sieci.\n",
        "\n",
        "Teoretycznie w kontekście algorytmów uczących się metryk dystansu mówi się o sieci syjamskiej, jednak definiowanie jej struktury wprost w kodzie jest nadmiarowe.\n",
        "\n",
        "W praktyce definiuje się strukturę tylko jednej z odnóg sieci - druga jest identyczna, więc ta pojedyncza sieć jest w procesie treningu uruchamiana dwa razy.\n",
        "\n",
        "Moduł obliczający odległość na podstawie dwóch reprezentacji zrealizowany jest w funkcji straty zdefiniowanej w dalszej części skryptu\n"
      ]
    },
    {
      "cell_type": "code",
      "execution_count": null,
      "metadata": {
        "id": "TTgO3JHAiUyP",
        "outputId": "0b1249a1-bb41-4187-dee4-b1eeecbacde1",
        "colab": {
          "base_uri": "https://localhost:8080/"
        }
      },
      "outputs": [
        {
          "output_type": "stream",
          "name": "stdout",
          "text": [
            "Struktura kodera:\n",
            "Model: \"model\"\n",
            "_________________________________________________________________\n",
            " Layer (type)                Output Shape              Param #   \n",
            "=================================================================\n",
            " left_input (InputLayer)     [(None, 28, 28, 1)]       0         \n",
            "                                                                 \n",
            " conv2d (Conv2D)             (None, 28, 28, 8)         6480      \n",
            "                                                                 \n",
            " conv2d_1 (Conv2D)           (None, 28, 28, 8)         7880      \n",
            "                                                                 \n",
            " flatten (Flatten)           (None, 6272)              0         \n",
            "                                                                 \n",
            " dense (Dense)               (None, 128)               802944    \n",
            "                                                                 \n",
            " dense_1 (Dense)             (None, 20)                2580      \n",
            "                                                                 \n",
            "=================================================================\n",
            "Total params: 819884 (3.13 MB)\n",
            "Trainable params: 819884 (3.13 MB)\n",
            "Non-trainable params: 0 (0.00 Byte)\n",
            "_________________________________________________________________\n",
            "\n"
          ]
        }
      ],
      "source": [
        "network_input = Input(shape=input_dims, name=\"left_input\")\n",
        "x = Conv2D(8,(5,5),  activation=PReLU(), padding='same')(network_input)\n",
        "x = Conv2D(8,(5,5),  activation=PReLU(), padding='same')(x)\n",
        "x = Flatten()(x)\n",
        "x = Dense(128)(x)\n",
        "embedding_vector = Dense(embedding_length, activation=None)(x)\n",
        "encoder_model    = Model(inputs=network_input, outputs=embedding_vector)\n",
        "\n",
        "print(\"Struktura kodera:\")\n",
        "encoder_model.summary()\n",
        "print()\n"
      ]
    },
    {
      "cell_type": "code",
      "source": [
        "import sklearn.neighbors as sk\n",
        "import sklearn.metrics as metric\n",
        "\n",
        "vectors_train = encoder_model.predict(trn_X)\n",
        "vectors_test = encoder_model.predict(test_X)\n",
        "\n",
        "classifier = sk.KNeighborsClassifier()\n",
        "classifier.fit(vectors_train, trn_Y)\n",
        "\n",
        "print(test_Y)\n",
        "predicted = classifier.predict(vectors_test)\n",
        "metric.confusion_matrix(test_Y, predicted)"
      ],
      "metadata": {
        "colab": {
          "base_uri": "https://localhost:8080/"
        },
        "id": "LmLqrZk7qS_u",
        "outputId": "f4b4c696-10dc-429b-b7f9-755d3d893dd0"
      },
      "execution_count": null,
      "outputs": [
        {
          "output_type": "stream",
          "name": "stdout",
          "text": [
            "1875/1875 [==============================] - 15s 4ms/step\n",
            "313/313 [==============================] - 1s 2ms/step\n",
            "[2 0 4 ... 8 0 5]\n"
          ]
        },
        {
          "output_type": "execute_result",
          "data": {
            "text/plain": [
              "array([[ 882,    0,   13,    8,    9,   26,   28,    3,    6,    5],\n",
              "       [   0, 1122,    1,    6,    0,    1,    2,    1,    1,    1],\n",
              "       [  45,   15,  744,   44,   24,   20,   48,   39,   35,   18],\n",
              "       [  29,   26,   42,  754,   20,   38,   20,   13,   31,   37],\n",
              "       [   4,   34,    7,    6,  755,    4,   32,   15,    4,  121],\n",
              "       [  58,   10,   10,   59,   44,  588,   30,   18,   37,   38],\n",
              "       [  29,    8,   13,    2,   41,   13,  823,    3,   13,   13],\n",
              "       [   2,   40,   12,    5,   44,    9,   20,  845,    4,   47],\n",
              "       [  50,   28,   45,   59,   43,   90,   70,   25,  540,   24],\n",
              "       [  20,   12,    7,   12,   91,    7,   17,   84,    8,  751]])"
            ]
          },
          "metadata": {},
          "execution_count": 7
        }
      ]
    },
    {
      "cell_type": "code",
      "source": [
        "metric.accuracy_score(test_Y, predicted)"
      ],
      "metadata": {
        "colab": {
          "base_uri": "https://localhost:8080/"
        },
        "id": "NdQcyvXsqWa6",
        "outputId": "acf031e7-2b85-4630-d3de-8b6aa7d2207e"
      },
      "execution_count": null,
      "outputs": [
        {
          "output_type": "execute_result",
          "data": {
            "text/plain": [
              "0.7804"
            ]
          },
          "metadata": {},
          "execution_count": 8
        }
      ]
    },
    {
      "cell_type": "markdown",
      "metadata": {
        "id": "fPD7HCFjiUyP"
      },
      "source": [
        "# Definicje funkcji składowych algorytmu triplet loss i trening"
      ]
    },
    {
      "cell_type": "code",
      "execution_count": null,
      "metadata": {
        "id": "-og8VwUViUyP",
        "colab": {
          "base_uri": "https://localhost:8080/"
        },
        "outputId": "190599d4-e64c-4c2f-d4da-0571eb5d1ba8"
      },
      "outputs": [
        {
          "output_type": "stream",
          "name": "stdout",
          "text": [
            "trening sieci neuronowej algorytmem triplet loss został rozpoczęty\n",
            "\n",
            "epoka: 1\n"
          ]
        },
        {
          "output_type": "stream",
          "name": "stderr",
          "text": [
            "100%|██████████| 10/10 [00:05<00:00,  1.70it/s]\n",
            "WARNING:tensorflow:5 out of the last 5 calls to <function _BaseOptimizer._update_step_xla at 0x7f42bc551870> triggered tf.function retracing. Tracing is expensive and the excessive number of tracings could be due to (1) creating @tf.function repeatedly in a loop, (2) passing tensors with different shapes, (3) passing Python objects instead of tensors. For (1), please define your @tf.function outside of the loop. For (2), @tf.function has reduce_retracing=True option that can avoid unnecessary retracing. For (3), please refer to https://www.tensorflow.org/guide/function#controlling_retracing and https://www.tensorflow.org/api_docs/python/tf/function for  more details.\n",
            "WARNING:tensorflow:6 out of the last 6 calls to <function _BaseOptimizer._update_step_xla at 0x7f42bc551870> triggered tf.function retracing. Tracing is expensive and the excessive number of tracings could be due to (1) creating @tf.function repeatedly in a loop, (2) passing tensors with different shapes, (3) passing Python objects instead of tensors. For (1), please define your @tf.function outside of the loop. For (2), @tf.function has reduce_retracing=True option that can avoid unnecessary retracing. For (3), please refer to https://www.tensorflow.org/guide/function#controlling_retracing and https://www.tensorflow.org/api_docs/python/tf/function for  more details.\n"
          ]
        },
        {
          "output_type": "stream",
          "name": "stdout",
          "text": [
            "wartość straty trójkowej (triplet loss): 0.9478495121002197\n",
            "\n",
            "epoka: 2\n"
          ]
        },
        {
          "output_type": "stream",
          "name": "stderr",
          "text": [
            "100%|██████████| 10/10 [00:08<00:00,  1.13it/s]\n"
          ]
        },
        {
          "output_type": "stream",
          "name": "stdout",
          "text": [
            "wartość straty trójkowej (triplet loss): 0.804814875125885\n",
            "\n",
            "epoka: 3\n"
          ]
        },
        {
          "output_type": "stream",
          "name": "stderr",
          "text": [
            "100%|██████████| 10/10 [00:07<00:00,  1.29it/s]\n"
          ]
        },
        {
          "output_type": "stream",
          "name": "stdout",
          "text": [
            "wartość straty trójkowej (triplet loss): 0.816415011882782\n",
            "\n"
          ]
        }
      ],
      "source": [
        "# Funkcja straty trójkowej (ang. triplet loss). Struktura samej funkcji straty jest dość prosta, a jej\n",
        "# główna idea zawarta jest w linijce obliczającej wartość zmiennej partial_losses.\n",
        "def triplet_loss_function(anchor_repr, positive_repr, negative_repr, distance_norm='euclidean', margin=1, return_partials = False):\n",
        "    distance_ap    = tf.norm(anchor_repr - positive_repr, ord=distance_norm, axis=1)\n",
        "    distance_an    = tf.norm(anchor_repr - negative_repr, ord=distance_norm, axis=1)\n",
        "    partial_losses = tf.math.maximum(0, distance_ap - distance_an + margin)\n",
        "    loss_value     = tf.math.reduce_mean(partial_losses)\n",
        "\n",
        "    if return_partials:\n",
        "        return partial_losses\n",
        "    else:\n",
        "        return loss_value\n",
        "\n",
        "# Poważnym problemem do rozwiązania w trakcie treningu sieci jest pozyskiwanie trójek reprezentacji,\n",
        "# które nie generują wartości funkcji straty równej zeru. Dlatego też generowanie trójek przykładów\n",
        "# (ang. triplet mining) ma dość złożoną postać w postaci dwóch funkcji poniżej:\n",
        "\n",
        "# Generowanie pojedynczej trójki wzorców do treningu:\n",
        "def mine_triplet(trn_X, trn_Y):\n",
        "\n",
        "    # Na początku sprawdzamy, jakie klasy mamy do dyspozycji i wybieramy klasę kotwicy (ang. anchor):\n",
        "    classes_available = np.unique(trn_Y)\n",
        "    anchor_class      = np.random.choice(classes_available)\n",
        "\n",
        "    # Dla wygody podzielimy sobie zbiór na dane z klasy kotwicy i spoza tej klasy:\n",
        "    anchor_class_examples    = trn_X[trn_Y==anchor_class]\n",
        "    nonanchor_class_examples = trn_X[trn_Y!=anchor_class]\n",
        "\n",
        "    # Następnie wybieramy indeks konkretnego przykładu kotwicy i przykładu pozytywnego\n",
        "    # czyli takiego, który należy do tej samej klasy co kotwica:\n",
        "    anchor_pattern_idx    = np.random.choice(len(anchor_class_examples),1)\n",
        "    positive_pattern_idx  = np.random.choice(len(anchor_class_examples),1)\n",
        "\n",
        "    # Jeśli wylosowaliśmy takie same indeksy, to losujemy jeszcze raz, aż uzyskamy różne indeksy:\n",
        "    while positive_pattern_idx == anchor_pattern_idx:\n",
        "        positive_pattern_idx  = np.random.choice(len(anchor_class_examples),1)\n",
        "\n",
        "    # Na koniec losujemy przykład negatywny (spoza klasy kotwicy):\n",
        "    negative_pattern_idx  = np.random.choice(len(nonanchor_class_examples),1)\n",
        "\n",
        "    # Przygotowujemy dane do zwrócenia z funkcji, pobieramy wzorce spod wybranych indeksów\n",
        "    # i przekazujemy je do dalszej części skryptu.\n",
        "    anchor_pattern   = anchor_class_examples[anchor_pattern_idx]\n",
        "    positive_pattern = anchor_class_examples[positive_pattern_idx]\n",
        "    negative_pattern = nonanchor_class_examples[negative_pattern_idx]\n",
        "\n",
        "    return (anchor_pattern, positive_pattern, negative_pattern)\n",
        "\n",
        "# Proces treningu przeprowadzany jest w podgrupach danych (ang. batches), stąd nie wystarczy tylko generować trójek danych,\n",
        "# konieczne jest także określenie sposobu generowania całych podgrup:\n",
        "def mine_batch_of_triplets(encoder_model, trn_X, trn_Y, batch_size, input_dims, distance_norm='euclidean', margin=1, eps=0.001):\n",
        "\n",
        "    # Na początku określamy jaki kształt ma macierz przechowująca grupę danych.\n",
        "    # Rezerwujemy też miejsce na macierze przechowujące poszczególne składowe trójek\n",
        "    # reprezentacji.\n",
        "    batch_matrix_shape = tuple([batch_size] + list(input_dims))\n",
        "    anchors_mtx        = np.zeros(batch_matrix_shape)\n",
        "    positive_mtx       = np.zeros(batch_matrix_shape)\n",
        "    negative_mtx       = np.zeros(batch_matrix_shape)\n",
        "\n",
        "    # Główną trudnością w generowaniu trójek przykładów jest wybranie takich trójek, które\n",
        "    # charakteryzują się wartością straty większą od 0 (bo jeśli wartość ta jest równa 0, to\n",
        "    # przykład taki jest bezużyteczny w treningu - nie generuje poprawek dla wag sieci).\n",
        "    #\n",
        "    # Dlatego w pierwszym przejściu poniższej pętli generujemy wstępne propozycje trójek w grupie danych,\n",
        "    # a następnie jeszcze raz generujemy trójki, dla których strata trójkowa wynosi 0:\n",
        "    first_pass = True\n",
        "    while True:\n",
        "        # Policzmy reprezentacje dla wybranych trójek przykładów:\n",
        "        representations_anchor   = encoder_model(anchors_mtx)\n",
        "        representations_positive = encoder_model(positive_mtx)\n",
        "        representations_negative = encoder_model(negative_mtx)\n",
        "\n",
        "        # Teraz obliczmy funkcję straty dla wybranego zestawu trójek wzorców:\n",
        "        partial_losses = triplet_loss_function(representations_anchor, representations_positive, representations_negative, distance_norm, margin, return_partials = True)\n",
        "\n",
        "        # Zobaczmy, gdzie wartość straty jest bliska zeru (mniejsza od eps):\n",
        "        zero_loss_triplet_mask = partial_losses.numpy() <= eps\n",
        "\n",
        "        # Jeśli którakolwiek wartość straty jest równa zeru to...\n",
        "        if zero_loss_triplet_mask.any() or first_pass:\n",
        "            for i in range(batch_size):\n",
        "                # ... losujemy nową trójkę w miejsce tej, która dała zerową stratę i jeszcze raz\n",
        "                # sprawdzamy, czy w naszej grupie danych wszystkie trójki generują niezerową\n",
        "                # wartość funkcji straty.\n",
        "                if (zero_loss_triplet_mask[i] == False) and (not first_pass): continue\n",
        "                anchor_pattern, positive_pattern, negative_pattern = mine_triplet(trn_X, trn_Y)\n",
        "                anchors_mtx[i,::]  = anchor_pattern\n",
        "                positive_mtx[i,::] = positive_pattern\n",
        "                negative_mtx[i,::] = negative_pattern\n",
        "        else:\n",
        "            break\n",
        "\n",
        "        first_pass = False\n",
        "\n",
        "    loss_value = tf.math.reduce_mean(partial_losses)\n",
        "    return anchors_mtx, positive_mtx, negative_mtx, representations_anchor, representations_positive, representations_negative, loss_value\n",
        "\n",
        "# Przygotowanie środowiska pracy:\n",
        "if not os.path.isdir(folder_repspace_preview): os.mkdir(folder_repspace_preview)\n",
        "if not os.path.isdir(folder_model_weights):    os.mkdir(folder_model_weights)\n",
        "\n",
        "# Jeśli w folderze z wizualizacjami pozostały pliki po poprzednim uruchomieniu skryptu, to\n",
        "# te pliki usuwamy.\n",
        "for fname in os.listdir(folder_repspace_preview):\n",
        "    fpath = os.path.join(folder_repspace_preview, fname)\n",
        "    os.remove(fpath)\n",
        "\n",
        "# Opcjonalnie - można załadować wagi modelu:\n",
        "if os.path.isfile(os.path.join(folder_model_weights,'model_weights.h5')):\n",
        "    try:\n",
        "        encoder_model.load_weights(os.path.join(folder_model_weights,\"model_weights.h5\"))\n",
        "    except ValueError as e:\n",
        "        print()\n",
        "        print(\"uwaga: nie udało się wczytać poprzednich wag modelu (np. dlatego, że zmieniła się struktura sieci, lub z innego powodu)\")\n",
        "        print(\"opis błędu odczytu:\")\n",
        "        print(e)\n",
        "        print()\n",
        "\n",
        "# Na koniec rozpoczynamy właściwy trening sieci:\n",
        "optimizer     = tf.keras.optimizers.Adam(learning_rate)\n",
        "\n",
        "print(\"trening sieci neuronowej algorytmem triplet loss został rozpoczęty\")\n",
        "print()\n",
        "\n",
        "# trenujemy, aż nie otrzymamy sygnału wstrzymania z klawiatury (ctrl+c):\n",
        "for epoch_number in range(1, num_training_epochs+1):\n",
        "\n",
        "    # --------------------------------------------------------\n",
        "    # właściwy algorytm treningu sieci:\n",
        "\n",
        "    print(f\"epoka: {epoch_number}\")\n",
        "\n",
        "    # Korzystamy z własnego zdefiniowania algorytmu treningu, stąd musimy posłuzyć się kontekstem GradientTape:\n",
        "    with tf.GradientTape() as tape:\n",
        "        accumulated_loss = 0\n",
        "\n",
        "        # Dla każdej grupy danych:\n",
        "        for batch_idx in tqdm(range(batches_per_epoch)):\n",
        "            # Wygeneruj trójki przykładów, które generują niezerową wartość funkcji straty:\n",
        "            anchors_mtx, positive_mtx, negative_mtx, representations_anchor, representations_positive, representations_negative, loss_value = mine_batch_of_triplets(encoder_model, trn_X, trn_Y, batch_size, input_dims, distance_norm, margin)\n",
        "\n",
        "            # Dodajemy stratę grupy danych do zmiennej, która na koniec wykonania wewnętrznej pętli będzie zawierać\n",
        "            # średnią wartość straty dla całej epoki:\n",
        "            accumulated_loss += loss_value*tf.constant(1./batches_per_epoch)\n",
        "\n",
        "    # Wylicz gradienty na podstawie funkcji straty:\n",
        "    grads = tape.gradient(accumulated_loss, encoder_model.trainable_weights)\n",
        "\n",
        "    # Zaaplikuj poprawki do wag sieci za pomocą algorytmu wstecznej propagacji błędów\n",
        "    optimizer.apply_gradients(zip(grads, encoder_model.trainable_weights))\n",
        "\n",
        "    # --------------------------------------------------------\n",
        "    # wizualizacja, zapis wag i raportowanie postępów\n",
        "    info_text = f\"wartość straty trójkowej (triplet loss): {accumulated_loss}\"\n",
        "    print(info_text)\n",
        "    print()\n",
        "\n",
        "    # Zapis wag do późniejszego użycia:\n",
        "    encoder_model.save_weights(os.path.join(folder_model_weights,'model_weights.h5'),save_format=\"h5\")\n",
        "\n",
        "    # Wizualizacja przestrzeni reprezentacji za pomocą PCA, jest to konieczne,\n",
        "    # bo wizualizacja ma tylko 2 wymiary, a reprezentacje typowo mają wymiarów\n",
        "    # znacznie więcej.\n",
        "    test_embeddings = encoder_model(test_X)\n",
        "    pca             = PCA(n_components=2, svd_solver='full')\n",
        "    reduced         = pca.fit_transform(test_embeddings)\n",
        "\n",
        "    # Rysujemy obliczoną wcześniej wizualizację i zapisujemy na dysk:\n",
        "    plt.figure(figsize=(16,9))\n",
        "    for class_name in np.unique(test_Y):\n",
        "        mask = test_Y == class_name\n",
        "        plt.scatter(reduced[mask,0],reduced[mask,1], label=class_name, s=10)\n",
        "    plt.legend()\n",
        "    plt.title(info_text)\n",
        "    plt.grid()\n",
        "\n",
        "    epoch_num_str = str(epoch_number).zfill(5)\n",
        "    plt.savefig(os.path.join(folder_repspace_preview,f\"preview_{epoch_num_str}.png\"))\n",
        "    plt.close()\n",
        "\n",
        "    epoch_number += 1\n"
      ]
    },
    {
      "cell_type": "code",
      "source": [
        "import sklearn.neighbors as sk\n",
        "import sklearn.metrics as metric\n",
        "\n",
        "vectors_train = encoder_model.predict(trn_X)\n",
        "vectors_test = encoder_model.predict(test_X)\n",
        "\n",
        "classifier = sk.KNeighborsClassifier()\n",
        "classifier.fit(vectors_train, trn_Y)\n",
        "\n",
        "print(test_Y)\n",
        "predicted = classifier.predict(vectors_test)\n",
        "metric.confusion_matrix(test_Y, predicted)"
      ],
      "metadata": {
        "colab": {
          "base_uri": "https://localhost:8080/"
        },
        "id": "kKs8C047osNV",
        "outputId": "1daf7b45-56b6-42bf-be50-6ee8deaf2789"
      },
      "execution_count": null,
      "outputs": [
        {
          "output_type": "stream",
          "name": "stdout",
          "text": [
            "1875/1875 [==============================] - 3s 2ms/step\n",
            "313/313 [==============================] - 1s 2ms/step\n",
            "[2 0 4 ... 8 0 5]\n"
          ]
        },
        {
          "output_type": "execute_result",
          "data": {
            "text/plain": [
              "array([[ 948,    0,    2,    2,    1,    8,   15,    1,    2,    1],\n",
              "       [   0, 1114,    1,    5,    1,    1,    6,    2,    3,    2],\n",
              "       [  23,    0,  920,   18,    4,    0,   36,    6,   20,    5],\n",
              "       [  19,    5,   24,  833,    6,   47,    5,    6,   56,    9],\n",
              "       [   1,    0,    2,    1,  823,    4,   16,    7,    3,  125],\n",
              "       [  46,    0,    8,   55,    9,  722,   15,    5,   24,    8],\n",
              "       [  16,    4,    9,    0,    6,    8,  903,    0,    8,    4],\n",
              "       [   2,   12,   10,    5,   23,    3,    4,  915,   12,   42],\n",
              "       [  25,    5,   29,   58,   12,   66,   16,   15,  728,   20],\n",
              "       [  12,    5,    2,   11,   99,   10,    3,   30,   12,  825]])"
            ]
          },
          "metadata": {},
          "execution_count": 10
        }
      ]
    },
    {
      "cell_type": "code",
      "source": [
        "metric.accuracy_score(test_Y, predicted)"
      ],
      "metadata": {
        "colab": {
          "base_uri": "https://localhost:8080/"
        },
        "id": "PPid2qdnqOl-",
        "outputId": "e758bba6-e51a-46e3-8524-16b3aa493298"
      },
      "execution_count": null,
      "outputs": [
        {
          "output_type": "execute_result",
          "data": {
            "text/plain": [
              "0.8731"
            ]
          },
          "metadata": {},
          "execution_count": 11
        }
      ]
    },
    {
      "cell_type": "markdown",
      "source": [
        "**Zadanie 4**"
      ],
      "metadata": {
        "id": "j2fGTYsT6Vsx"
      }
    },
    {
      "cell_type": "code",
      "source": [
        "def find_similar_and_different(mnist_example, model, mnist_set,\n",
        "                               mnist_vector_set, distance_norm):\n",
        "  vector_example = model(mnist_example.reshape(1, 28, 28, 1))\n",
        "  distances_indexes = []\n",
        "  data_type = [('distance', float), ('index', int)]\n",
        "  for index, vector in enumerate(mnist_vector_set):\n",
        "    distance = tf.norm(vector_example - vector, ord=distance_norm, axis=1)\n",
        "    distances_indexes.append((distance, index))\n",
        "  distances_indexes = np.array(distances_indexes, dtype=data_type)\n",
        "  distances_indexes = np.sort(distances_indexes, order='distance')\n",
        "  indexes = distances_indexes['index']\n",
        "  similar = mnist_set[indexes[1:5]]\n",
        "  different = mnist_set[indexes[-5:-1]]\n",
        "  return [similar, different]\n",
        "\n",
        "mnist_example = test_X[7254]\n",
        "model = encoder_model\n",
        "mnist_set = test_X\n",
        "mnist_vector_set = encoder_model(test_X)\n",
        "\n",
        "[similar, different] = find_similar_and_different(mnist_example, model,\n",
        "                                                  mnist_set, mnist_vector_set,\n",
        "                                                  distance_norm)"
      ],
      "metadata": {
        "id": "e_svjd-u6UpG"
      },
      "execution_count": null,
      "outputs": []
    },
    {
      "cell_type": "code",
      "source": [
        "plt.figure()\n",
        "print('Image')\n",
        "plt.imshow(mnist_example)\n",
        "plt.show()"
      ],
      "metadata": {
        "id": "Q1AZfs9D6dEa",
        "colab": {
          "base_uri": "https://localhost:8080/",
          "height": 447
        },
        "outputId": "9b5c970c-ce4d-4ad9-c1bd-1f4e36ab7559"
      },
      "execution_count": null,
      "outputs": [
        {
          "output_type": "stream",
          "name": "stdout",
          "text": [
            "Image\n"
          ]
        },
        {
          "output_type": "display_data",
          "data": {
            "text/plain": [
              "<Figure size 640x480 with 1 Axes>"
            ],
            "image/png": "[encoded data removed]"
          },
          "metadata": {}
        }
      ]
    },
    {
      "cell_type": "code",
      "source": [
        "fig = plt.figure()\n",
        "print('Similar')\n",
        "for index, image in enumerate(similar):\n",
        "  fig.add_subplot(1, 4, index + 1)\n",
        "  plt.imshow(image)\n",
        "plt.show()"
      ],
      "metadata": {
        "id": "WBxvWUby6gSS",
        "colab": {
          "base_uri": "https://localhost:8080/",
          "height": 189
        },
        "outputId": "51f8d2eb-708e-4665-c820-f2ec692cd67a"
      },
      "execution_count": null,
      "outputs": [
        {
          "output_type": "stream",
          "name": "stdout",
          "text": [
            "Similar\n"
          ]
        },
        {
          "output_type": "display_data",
          "data": {
            "text/plain": [
              "<Figure size 640x480 with 4 Axes>"
            ],
            "image/png": "[encoded data removed]"
          },
          "metadata": {}
        }
      ]
    },
    {
      "cell_type": "code",
      "source": [
        "fig = plt.figure()\n",
        "print('Different')\n",
        "for index, image in enumerate(different):\n",
        "  fig.add_subplot(1, 4, index + 1)\n",
        "\n",
        "  plt.imshow(image)\n",
        "plt.show()"
      ],
      "metadata": {
        "id": "3ys6-Y4h6iog",
        "colab": {
          "base_uri": "https://localhost:8080/",
          "height": 189
        },
        "outputId": "cb1b02aa-770f-46a7-c487-d95fe46674c7"
      },
      "execution_count": null,
      "outputs": [
        {
          "output_type": "stream",
          "name": "stdout",
          "text": [
            "Different\n"
          ]
        },
        {
          "output_type": "display_data",
          "data": {
            "text/plain": [
              "<Figure size 640x480 with 4 Axes>"
            ],
            "image/png": "[encoded data removed]"
          },
          "metadata": {}
        }
      ]
    }
  ],
  "metadata": {
    "accelerator": "GPU",
    "colab": {
      "provenance": [],
      "gpuType": "T4"
    },
    "kernelspec": {
      "display_name": "Python 3",
      "name": "python3"
    },
    "language_info": {
      "codemirror_mode": {
        "name": "ipython",
        "version": 3
      },
      "file_extension": ".py",
      "mimetype": "text/x-python",
      "name": "python",
      "nbconvert_exporter": "python",
      "pygments_lexer": "ipython3",
      "version": "3.9.7"
    },
    "widgets": {
      "application/vnd.jupyter.widget-state+json": {
        "61183eacaa714bba975737e23b891a65": {
          "model_module": "@jupyter-widgets/controls",
          "model_name": "HBoxModel",
          "model_module_version": "1.5.0",
          "state": {
            "_dom_classes": [],
            "_model_module": "@jupyter-widgets/controls",
            "_model_module_version": "1.5.0",
            "_model_name": "HBoxModel",
            "_view_count": null,
            "_view_module": "@jupyter-widgets/controls",
            "_view_module_version": "1.5.0",
            "_view_name": "HBoxView",
            "box_style": "",
            "children": [
              "IPY_MODEL_d55b9ebd96c74ad59fc3659513f09033",
              "IPY_MODEL_7e4c5275ccd34b449b0cb5dad0a098ab",
              "IPY_MODEL_9a1f3aa739eb487eadd35d008f61d8f5"
            ],
            "layout": "IPY_MODEL_4f0b1d115e48410a85e480fc43318bf1"
          }
        },
        "d55b9ebd96c74ad59fc3659513f09033": {
          "model_module": "@jupyter-widgets/controls",
          "model_name": "HTMLModel",
          "model_module_version": "1.5.0",
          "state": {
            "_dom_classes": [],
            "_model_module": "@jupyter-widgets/controls",
            "_model_module_version": "1.5.0",
            "_model_name": "HTMLModel",
            "_view_count": null,
            "_view_module": "@jupyter-widgets/controls",
            "_view_module_version": "1.5.0",
            "_view_name": "HTMLView",
            "description": "",
            "description_tooltip": null,
            "layout": "IPY_MODEL_bf59bda34089401f95345100e2ef7017",
            "placeholder": "​",
            "style": "IPY_MODEL_bb42cd66208c4ffbb3e3610fe2a610c0",
            "value": "Dl Completed...: 100%"
          }
        },
        "7e4c5275ccd34b449b0cb5dad0a098ab": {
          "model_module": "@jupyter-widgets/controls",
          "model_name": "FloatProgressModel",
          "model_module_version": "1.5.0",
          "state": {
            "_dom_classes": [],
            "_model_module": "@jupyter-widgets/controls",
            "_model_module_version": "1.5.0",
            "_model_name": "FloatProgressModel",
            "_view_count": null,
            "_view_module": "@jupyter-widgets/controls",
            "_view_module_version": "1.5.0",
            "_view_name": "ProgressView",
            "bar_style": "success",
            "description": "",
            "description_tooltip": null,
            "layout": "IPY_MODEL_565e1c27f5d34f75b43f0d1b6b726370",
            "max": 5,
            "min": 0,
            "orientation": "horizontal",
            "style": "IPY_MODEL_23feab8713804c34b14dc22610dc6584",
            "value": 5
          }
        },
        "9a1f3aa739eb487eadd35d008f61d8f5": {
          "model_module": "@jupyter-widgets/controls",
          "model_name": "HTMLModel",
          "model_module_version": "1.5.0",
          "state": {
            "_dom_classes": [],
            "_model_module": "@jupyter-widgets/controls",
            "_model_module_version": "1.5.0",
            "_model_name": "HTMLModel",
            "_view_count": null,
            "_view_module": "@jupyter-widgets/controls",
            "_view_module_version": "1.5.0",
            "_view_name": "HTMLView",
            "description": "",
            "description_tooltip": null,
            "layout": "IPY_MODEL_6ba39ccd20424ab98b78a56210d154bc",
            "placeholder": "​",
            "style": "IPY_MODEL_dc1b9dd0d2ba4d0d85cd132c35688eac",
            "value": " 5/5 [00:03&lt;00:00,  1.24 file/s]"
          }
        },
        "4f0b1d115e48410a85e480fc43318bf1": {
          "model_module": "@jupyter-widgets/base",
          "model_name": "LayoutModel",
          "model_module_version": "1.2.0",
          "state": {
            "_model_module": "@jupyter-widgets/base",
            "_model_module_version": "1.2.0",
            "_model_name": "LayoutModel",
            "_view_count": null,
            "_view_module": "@jupyter-widgets/base",
            "_view_module_version": "1.2.0",
            "_view_name": "LayoutView",
            "align_content": null,
            "align_items": null,
            "align_self": null,
            "border": null,
            "bottom": null,
            "display": null,
            "flex": null,
            "flex_flow": null,
            "grid_area": null,
            "grid_auto_columns": null,
            "grid_auto_flow": null,
            "grid_auto_rows": null,
            "grid_column": null,
            "grid_gap": null,
            "grid_row": null,
            "grid_template_areas": null,
            "grid_template_columns": null,
            "grid_template_rows": null,
            "height": null,
            "justify_content": null,
            "justify_items": null,
            "left": null,
            "margin": null,
            "max_height": null,
            "max_width": null,
            "min_height": null,
            "min_width": null,
            "object_fit": null,
            "object_position": null,
            "order": null,
            "overflow": null,
            "overflow_x": null,
            "overflow_y": null,
            "padding": null,
            "right": null,
            "top": null,
            "visibility": null,
            "width": null
          }
        },
        "bf59bda34089401f95345100e2ef7017": {
          "model_module": "@jupyter-widgets/base",
          "model_name": "LayoutModel",
          "model_module_version": "1.2.0",
          "state": {
            "_model_module": "@jupyter-widgets/base",
            "_model_module_version": "1.2.0",
            "_model_name": "LayoutModel",
            "_view_count": null,
            "_view_module": "@jupyter-widgets/base",
            "_view_module_version": "1.2.0",
            "_view_name": "LayoutView",
            "align_content": null,
            "align_items": null,
            "align_self": null,
            "border": null,
            "bottom": null,
            "display": null,
            "flex": null,
            "flex_flow": null,
            "grid_area": null,
            "grid_auto_columns": null,
            "grid_auto_flow": null,
            "grid_auto_rows": null,
            "grid_column": null,
            "grid_gap": null,
            "grid_row": null,
            "grid_template_areas": null,
            "grid_template_columns": null,
            "grid_template_rows": null,
            "height": null,
            "justify_content": null,
            "justify_items": null,
            "left": null,
            "margin": null,
            "max_height": null,
            "max_width": null,
            "min_height": null,
            "min_width": null,
            "object_fit": null,
            "object_position": null,
            "order": null,
            "overflow": null,
            "overflow_x": null,
            "overflow_y": null,
            "padding": null,
            "right": null,
            "top": null,
            "visibility": null,
            "width": null
          }
        },
        "bb42cd66208c4ffbb3e3610fe2a610c0": {
          "model_module": "@jupyter-widgets/controls",
          "model_name": "DescriptionStyleModel",
          "model_module_version": "1.5.0",
          "state": {
            "_model_module": "@jupyter-widgets/controls",
            "_model_module_version": "1.5.0",
            "_model_name": "DescriptionStyleModel",
            "_view_count": null,
            "_view_module": "@jupyter-widgets/base",
            "_view_module_version": "1.2.0",
            "_view_name": "StyleView",
            "description_width": ""
          }
        },
        "565e1c27f5d34f75b43f0d1b6b726370": {
          "model_module": "@jupyter-widgets/base",
          "model_name": "LayoutModel",
          "model_module_version": "1.2.0",
          "state": {
            "_model_module": "@jupyter-widgets/base",
            "_model_module_version": "1.2.0",
            "_model_name": "LayoutModel",
            "_view_count": null,
            "_view_module": "@jupyter-widgets/base",
            "_view_module_version": "1.2.0",
            "_view_name": "LayoutView",
            "align_content": null,
            "align_items": null,
            "align_self": null,
            "border": null,
            "bottom": null,
            "display": null,
            "flex": null,
            "flex_flow": null,
            "grid_area": null,
            "grid_auto_columns": null,
            "grid_auto_flow": null,
            "grid_auto_rows": null,
            "grid_column": null,
            "grid_gap": null,
            "grid_row": null,
            "grid_template_areas": null,
            "grid_template_columns": null,
            "grid_template_rows": null,
            "height": null,
            "justify_content": null,
            "justify_items": null,
            "left": null,
            "margin": null,
            "max_height": null,
            "max_width": null,
            "min_height": null,
            "min_width": null,
            "object_fit": null,
            "object_position": null,
            "order": null,
            "overflow": null,
            "overflow_x": null,
            "overflow_y": null,
            "padding": null,
            "right": null,
            "top": null,
            "visibility": null,
            "width": null
          }
        },
        "23feab8713804c34b14dc22610dc6584": {
          "model_module": "@jupyter-widgets/controls",
          "model_name": "ProgressStyleModel",
          "model_module_version": "1.5.0",
          "state": {
            "_model_module": "@jupyter-widgets/controls",
            "_model_module_version": "1.5.0",
            "_model_name": "ProgressStyleModel",
            "_view_count": null,
            "_view_module": "@jupyter-widgets/base",
            "_view_module_version": "1.2.0",
            "_view_name": "StyleView",
            "bar_color": null,
            "description_width": ""
          }
        },
        "6ba39ccd20424ab98b78a56210d154bc": {
          "model_module": "@jupyter-widgets/base",
          "model_name": "LayoutModel",
          "model_module_version": "1.2.0",
          "state": {
            "_model_module": "@jupyter-widgets/base",
            "_model_module_version": "1.2.0",
            "_model_name": "LayoutModel",
            "_view_count": null,
            "_view_module": "@jupyter-widgets/base",
            "_view_module_version": "1.2.0",
            "_view_name": "LayoutView",
            "align_content": null,
            "align_items": null,
            "align_self": null,
            "border": null,
            "bottom": null,
            "display": null,
            "flex": null,
            "flex_flow": null,
            "grid_area": null,
            "grid_auto_columns": null,
            "grid_auto_flow": null,
            "grid_auto_rows": null,
            "grid_column": null,
            "grid_gap": null,
            "grid_row": null,
            "grid_template_areas": null,
            "grid_template_columns": null,
            "grid_template_rows": null,
            "height": null,
            "justify_content": null,
            "justify_items": null,
            "left": null,
            "margin": null,
            "max_height": null,
            "max_width": null,
            "min_height": null,
            "min_width": null,
            "object_fit": null,
            "object_position": null,
            "order": null,
            "overflow": null,
            "overflow_x": null,
            "overflow_y": null,
            "padding": null,
            "right": null,
            "top": null,
            "visibility": null,
            "width": null
          }
        },
        "dc1b9dd0d2ba4d0d85cd132c35688eac": {
          "model_module": "@jupyter-widgets/controls",
          "model_name": "DescriptionStyleModel",
          "model_module_version": "1.5.0",
          "state": {
            "_model_module": "@jupyter-widgets/controls",
            "_model_module_version": "1.5.0",
            "_model_name": "DescriptionStyleModel",
            "_view_count": null,
            "_view_module": "@jupyter-widgets/base",
            "_view_module_version": "1.2.0",
            "_view_name": "StyleView",
            "description_width": ""
          }
        }
      }
    }
  },
  "nbformat": 4,
  "nbformat_minor": 0
}
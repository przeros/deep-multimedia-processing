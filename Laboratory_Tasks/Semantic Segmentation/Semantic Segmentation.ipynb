{
  "nbformat": 4,
  "nbformat_minor": 0,
  "metadata": {
    "colab": {
      "provenance": [],
      "toc_visible": true
    },
    "kernelspec": {
      "name": "python3",
      "display_name": "Python 3"
    },
    "accelerator": "GPU"
  },
  "cells": [
    {
      "cell_type": "markdown",
      "metadata": {
        "id": "7rwx0mYOONUl"
      },
      "source": [
        "<br>\n",
        "<br>\n",
        "<br>\n",
        "<br>\n",
        "<br>\n",
        "<br>\n",
        "<br>\n",
        "<center>\n",
        "    <h1 style = \"font-size:48px; font-weight:normal\"><b>AI</b>-TECH</style></h1>\n",
        "    <br>\n",
        "<br>\n",
        "<br>\n",
        "<br>\n",
        "    <h1 style = \"font-size:24px; font-weight:normal\">LABORATORIUM</style></h1>\n",
        "    <h1 style = \"font-size:24px\">Przetwarzanie Multimediów w\n",
        "Systemach Decyzyjnych\n",
        "</style></h1>\n",
        "    <h1 style = \"font-size:24px\">Segmentacja Semantyczna</style></h1>\n",
        "    <h1 style = \"font-size:24px\">Przemysław Rośleń</style></h1>\n",
        "    \n",
        "   \n",
        "</center>\n",
        "<br>\n",
        "<br>\n",
        "<br>\n",
        "<br>\n",
        "<br>\n",
        "<br>\n",
        "<br>\n",
        "<br>\n",
        "<br>\n",
        "    </body>\n",
        "    </html>"
      ]
    },
    {
      "cell_type": "markdown",
      "metadata": {
        "id": "P1UoAzKwOaZP"
      },
      "source": [
        "<center>\n",
        "Projekt współfinansowany ze środków Unii Europejskiej w ramach Europejskiego Funduszu Rozwoju Regionalnego\n",
        "Program Operacyjny Polska Cyfrowa na lata 2014-2020,\n",
        "Oś Priorytetowa nr 3 \"Cyfrowe kompetencje społeczeństwa\" Działanie  nr 3.2 \"Innowacyjne rozwiązania na rzecz aktywizacji cyfrowej\"\n",
        "Tytuł projektu:  „Akademia Innowacyjnych Zastosowań Technologii Cyfrowych (AI Tech)”\n",
        "    </center>"
      ]
    },
    {
      "cell_type": "markdown",
      "metadata": {
        "id": "S3nVQ6o9UOz3"
      },
      "source": [
        "# 1. Konfiguracja środowiska"
      ]
    },
    {
      "cell_type": "code",
      "source": [
        "!pip install torch==1.13.1 torchvision==0.14.1 torchaudio==0.13.1\n",
        "#INSTALL OLDER TORCH VERSION\n",
        "\n",
        "#IMPORTANT\n",
        "#After running this code block click RUNTIME -> RESTART SESSION\n",
        "#and continue from the NEXT code block. This will allow to use older torch version"
      ],
      "metadata": {
        "id": "s1OVD8IRY03_",
        "outputId": "2a79d675-9f67-4ba1-b714-0e3b29e9072e",
        "colab": {
          "base_uri": "https://localhost:8080/"
        }
      },
      "execution_count": null,
      "outputs": [
        {
          "output_type": "stream",
          "name": "stdout",
          "text": [
            "Collecting torch==1.13.1\n",
            "  Downloading torch-1.13.1-cp310-cp310-manylinux1_x86_64.whl (887.5 MB)\n",
            "\u001b[2K     \u001b[91m━━━━━━━━━━━━━━━━━━━━━━━━━━━━━━━━━━━━━━━\u001b[0m\u001b[91m╸\u001b[0m \u001b[32m887.3/887.5 MB\u001b[0m \u001b[31m24.2 MB/s\u001b[0m eta \u001b[36m0:00:01\u001b[0m"
          ]
        }
      ]
    },
    {
      "cell_type": "code",
      "metadata": {
        "id": "N_Co6ouF7Cro"
      },
      "source": [
        "#!pip install mxnet==1.8.0\n",
        "#!pip install gluoncv==0.10.4.post4\n",
        "!pip install mxnet\n",
        "!pip install gluoncv\n",
        "\n",
        "import mxnet as mx\n",
        "\n",
        "from mxnet import image\n",
        "from mxnet.gluon.data.vision import transforms\n",
        "import gluoncv\n",
        "ctx = mx.cpu(0)\n",
        "\n",
        "#wizualizacja\n",
        "from google.colab.patches import cv2_imshow\n",
        "from matplotlib import pyplot as plt\n",
        "from gluoncv.utils.viz import get_color_pallete\n",
        "import matplotlib.image as mpimg\n",
        "\n",
        "# biblioteki pomocnicze\n",
        "import time\n",
        "import os\n",
        "import cv2\n",
        "import numpy as np"
      ],
      "execution_count": null,
      "outputs": []
    },
    {
      "cell_type": "markdown",
      "metadata": {
        "id": "kBV3b59e_TYE"
      },
      "source": [
        "#1. Wczytanie wytrenowanego modelu na zbiorze Cityscapes"
      ]
    },
    {
      "cell_type": "markdown",
      "source": [
        "W celu wczytania wytrenowanego modelu użyjemy jeden z modeli dostępnych w **model zoo**:\n",
        " https://cv.gluon.ai/model_zoo/segmentation.html ze zbioru **Cityscapes**.\n",
        "\n",
        "Ze względu na czas działania polecane są modele korzystające z **resnet50** oraz **fastscnn**.\n",
        "\n",
        "**Uwaga:** model **DANET** ma niezgodny interfejs i jego użycie wymaga zmian w kodzie.\n",
        "Model **deeplab_v3b_plus_wideresnet_citys** - ma problemy z działaniem w GoogleColab."
      ],
      "metadata": {
        "id": "E8ISHoefoiM5"
      }
    },
    {
      "cell_type": "code",
      "metadata": {
        "id": "ee18g_wz9hkS"
      },
      "source": [
        "model = gluoncv.model_zoo.get_model('fastscnn_citys', pretrained=True)"
      ],
      "execution_count": null,
      "outputs": []
    },
    {
      "cell_type": "code",
      "metadata": {
        "id": "YkQ7C9AN9K6H"
      },
      "source": [
        "# wczytanie danych z dysku google (dane dostarczone w załączniku do laboratorium)\n",
        "# należy wgrać dane na dysk google\n",
        "from google.colab import drive\n",
        "drive.mount('/content/gdrive')\n",
        "os.chdir(\"/content/gdrive/MyDrive/TODO/\") #tutaj ustaw odpowiednią ściężkę"
      ],
      "execution_count": null,
      "outputs": []
    },
    {
      "cell_type": "markdown",
      "metadata": {
        "id": "fdh5alG2TW-4"
      },
      "source": [
        "Uruchomienie modelu na przykładowym obrazie"
      ]
    },
    {
      "cell_type": "code",
      "metadata": {
        "id": "VTHgy7JS-hko"
      },
      "source": [
        "filepath = \"imgs/val/munster/munster_000000_000019_leftImg8bit.png\"\n",
        "\n",
        "from gluoncv.data.transforms.presets.segmentation import test_transform\n",
        "\n",
        "img = image.imread(filepath)\n",
        "img = test_transform(img, ctx) # normalizacja obrazu\n",
        "output = model.predict(img)\n",
        "predict = mx.nd.squeeze(mx.nd.argmax(output, 1)).asnumpy() # argmax zwraca indeks przewidywanej klasy"
      ],
      "execution_count": null,
      "outputs": []
    },
    {
      "cell_type": "code",
      "metadata": {
        "id": "w5OUelyk941Q"
      },
      "source": [
        "# wyświetlenie obrazu i maski\n",
        "cv2_imshow(cv2.imread(filepath))\n",
        "mask = get_color_pallete(predict, 'citys')\n",
        "opencvmask = cv2.cvtColor(np.array(mask), cv2.COLOR_RGB2BGR)\n",
        "plt.imshow(mask)\n",
        "plt.show()"
      ],
      "execution_count": null,
      "outputs": []
    },
    {
      "cell_type": "markdown",
      "metadata": {
        "id": "jDUVYsJw_Zkf"
      },
      "source": [
        "#Zadanie 1. Obliczenie metryki pixel accuracy [1 pkt.]"
      ]
    },
    {
      "cell_type": "markdown",
      "metadata": {
        "id": "ICdpbdkwlIGr"
      },
      "source": [
        "W tym ćwiczeniu Twoim zadaniem jest uzupełnienie kodu funkcji compute_pix_acc obliczącej proporcję poprawnie sklasyfikowanych pikseli.\n",
        "**W funkcji należy ignorować piksele dla których etykieta (label) wynosi -1.**\n",
        "Oczekiwana wartość wynosi około 90%."
      ]
    },
    {
      "cell_type": "code",
      "metadata": {
        "id": "hgRu_-yOBrDy"
      },
      "source": [
        "def compute_pix_acc(prediction, label):\n",
        "    total_pixels = TODO\n",
        "    correct_pixels = TODO\n",
        "    return correct_pixels / total_pixels"
      ],
      "execution_count": null,
      "outputs": []
    },
    {
      "cell_type": "code",
      "metadata": {
        "id": "GMRdUhjOAGET"
      },
      "source": [
        "model = gluoncv.model_zoo.get_model('icnet_resnet50_citys', pretrained=True)\n",
        "\n",
        "img_root_dir = \"imgs/val/munster\"\n",
        "label_root_dir = \"labels/val/munster\"\n",
        "NUM_CLASSES = 19\n",
        "CLASSES = (\"road\", \"sidewalk\", \"building\", \"wall\", \"fence\",\n",
        "               \"pole\", \"traffic light\", \"traffic sign\", \"vegetation\",\n",
        "               \"terrain\", \"sky\", \"person\", \"rider\", \"car\", \"truck\",\n",
        "               \"bus\", \"train\", \"motorcycle\", \"bicyle\")\n",
        "\n",
        "# mapowanie z pliku label na klasy używane w zbiorze Cityscapes do ewaluacji\n",
        "# wartość -1 oznacza klasy, które nie są brane pod uwagę przy ewaluacji (\"tło\", \"niebo\", \"brak etykiety\")\n",
        "cityscapes_mapping = np.array([-1, -1, -1, -1, -1, -1,\n",
        "                    -1, 0, 1, 2, -1, -1,\n",
        "                    3, 4, 5, -1, -1, -1,\n",
        "                    6, -1, 7, 8, 9, 10,\n",
        "                    11, 12, 13, 14, 15, 16,\n",
        "                    -1, -1, 17, 18])\n",
        "mapper = lambda x: cityscapes_mapping[x]\n",
        "\n",
        "imgs = os.listdir(img_root_dir)\n",
        "filename = imgs[0]\n",
        "label_name = filename.replace(\"leftImg8bit\", \"gtFine_labelIds\")\n",
        "label_path = os.path.join(label_root_dir, label_name)\n",
        "img_path = os.path.join(img_root_dir, filename)\n",
        "img = cv2.imread(img_path)\n",
        "img = mx.nd.array(img)\n",
        "img = test_transform(img, ctx)\n",
        "output = model.predict(img)\n",
        "predict = mx.nd.squeeze(mx.nd.argmax(output, 1)).asnumpy()\n",
        "predict = predict.astype('int')\n",
        "label = cv2.imread(label_path).astype('int')[:,:,0]\n",
        "label = mapper(label)\n",
        "pix_acc = compute_pix_acc(predict, label)\n",
        "print(pix_acc)\n"
      ],
      "execution_count": null,
      "outputs": []
    },
    {
      "cell_type": "markdown",
      "metadata": {
        "id": "ZkjLkd9zogJ4"
      },
      "source": [
        "# Zadanie 2. Obliczenie metryki meanIoU [3 pkt.]\n",
        "W tym celu należy dla każdej klasy obliczyć metrykę Intersection over Union i następnie obliczyć średnią dla każdej z klas. Przyjmij, że do ewaluacji bierzemy tylko klasy, które posiadają więcej niż 1500 pikseli w pliku etykiet (aby usunąć nieistotne obiekty)"
      ]
    },
    {
      "cell_type": "code",
      "metadata": {
        "id": "8cjFA-3vJLWF"
      },
      "source": [
        "def compute_miou(prediction, label):\n",
        "    class_accs= []\n",
        "    num_classes = 19\n",
        "    for class_id in range(0, num_classes):\n",
        "        tp = TODO\n",
        "        fp = TODO\n",
        "        fn = TODO\n",
        "        target_pix = np.sum(label == class_id)\n",
        "        if (target_pix > 1500):\n",
        "            iou = TODO\n",
        "    return -1\n",
        "\n",
        "\n",
        "img_root_dir = \"imgs/val/munster\"\n",
        "label_root_dir = \"labels/val/munster\"\n",
        "NUM_CLASS = 19\n",
        "\n",
        "cityscapes_mapping = np.array([-1, -1, -1, -1, -1, -1,\n",
        "                    -1, 0, 1, 2, -1, -1,\n",
        "                    3, 4, 5, -1, -1, -1,\n",
        "                    6, -1, 7, 8, 9, 10,\n",
        "                    11, 12, 13, 14, 15, 16,\n",
        "                    -1, -1, 17, 18])\n",
        "mapper = lambda x: cityscapes_mapping[x]\n",
        "\n",
        "imgs = os.listdir(img_root_dir)\n",
        "filename = imgs[0]\n",
        "label_name = filename.replace(\"leftImg8bit\", \"gtFine_labelIds\")\n",
        "label_path = os.path.join(label_root_dir, label_name)\n",
        "img_path = os.path.join(img_root_dir, filename)\n",
        "img = image.imread(img_path)\n",
        "img = test_transform(img, ctx)\n",
        "output = model.predict(img)\n",
        "predict = mx.nd.squeeze(mx.nd.argmax(output, 1)).asnumpy()\n",
        "predict = predict.astype('int')\n",
        "label = cv2.imread(label_path).astype('int')[:,:,0]\n",
        "label = mapper(label)\n",
        "pix_acc = compute_miou(predict, label)\n",
        "print(pix_acc)"
      ],
      "execution_count": null,
      "outputs": []
    },
    {
      "cell_type": "markdown",
      "metadata": {
        "id": "5ABOb-3kDe_N"
      },
      "source": [
        "#Zadanie 3. Obliczenie dokładności dla 2 wybranych modeli [2 pkt.]"
      ]
    },
    {
      "cell_type": "markdown",
      "metadata": {
        "id": "QeOzL518pKmf"
      },
      "source": [
        "W tym zadaniu Twoim celem jest obliczenie dokładności pix_acc oraz mIoU dla 2 wybranych modeli. Zapisz również czas inferencji (Frames Per Second)."
      ]
    },
    {
      "cell_type": "code",
      "metadata": {
        "id": "dIMUnIVjP23n"
      },
      "source": [
        "model = gluoncv.model_zoo.get_model('icnet_resnet50_citys', pretrained=True)\n",
        "\n",
        "NUM_TEST_IMGS = 20 #FOR FASTER DEBUGGIN\n",
        "\n",
        "# ...\n",
        "# ...\n",
        "\n",
        "start = time.time()\n",
        "\n",
        "for idx, filename in enumerate(imgs):\n",
        "    label_name = filename.replace(\"leftImg8bit\", \"gtFine_labelIds\")\n",
        "    label_path = os.path.join(label_root_dir, label_name)\n",
        "    img_path = os.path.join(img_root_dir, filename)\n",
        "    img = cv2.imread(img_path)\n",
        "    img = mx.nd.array(img)\n",
        "    img = test_transform(img, ctx)\n",
        "    print(idx)\n",
        "\n",
        "    output = model.predict(img)\n",
        "\n",
        "    predict = mx.nd.squeeze(mx.nd.argmax(output, 1)).asnumpy()\n",
        "\n",
        "    predict = predict.astype('int')\n",
        "\n",
        "    label = cv2.imread(label_path).astype('int')[:,:,0]\n",
        "    label = mapper(label)\n",
        "\n",
        "    #obliczenie metryki dla każdego obrazu\n",
        "\n",
        "    if idx >= NUM_TEST_IMGS:\n",
        "        break\n",
        "\n",
        "# zapisz końcowe metryki na zbiorze danych\n",
        "\n",
        "diff = time.time() - start\n",
        "secs_per_image = diff / float(NUM_TEST_IMGS)\n",
        "\n",
        "print(\"FPS\", 1./secs_per_image)"
      ],
      "execution_count": null,
      "outputs": []
    },
    {
      "cell_type": "markdown",
      "metadata": {
        "id": "l2F0tKDNDkLZ"
      },
      "source": [
        "# Zadanie 4. Obliczenie wrażliwości modeli na szum [1 pkt.]"
      ]
    },
    {
      "cell_type": "markdown",
      "metadata": {
        "id": "52dDPhkepgem"
      },
      "source": [
        "Oblicz dokładność modeli po dodaniu szumu gaussowskiego (**dla dwóch różnych wartości wariancji**). W tym celu wykorzystaj funkcję napisaną w poprzednim ćwiczeniu laboratoryjnym.\n",
        "\n",
        "Wyniki **dopisz do tabeli z poprzedniego zadania.**"
      ]
    },
    {
      "cell_type": "code",
      "metadata": {
        "id": "P37gSoYiDtoZ"
      },
      "source": [
        "# Definicja funkcji dodającej szum gaussowski\n",
        "def add_noise(input_img, var = 0.0):\n",
        "    mean = 0.0\n",
        "    sigma = var**0.5\n",
        "    gauss = np.random.normal(mean,sigma,input_img.size)\n",
        "    gauss = gauss.reshape(input_img.shape[0], input_img.shape[1], input_img.shape[2]).astype('uint8')\n",
        "    # Dodaj szum do obrazu\n",
        "    img_gauss = cv2.add(input_img,gauss)\n",
        "    return img_gauss"
      ],
      "execution_count": null,
      "outputs": []
    },
    {
      "cell_type": "code",
      "source": [],
      "metadata": {
        "id": "KRulotfTXp6f"
      },
      "execution_count": null,
      "outputs": []
    },
    {
      "cell_type": "code",
      "metadata": {
        "id": "LBuCuMnlqy9v"
      },
      "source": [
        "#TODO"
      ],
      "execution_count": null,
      "outputs": []
    },
    {
      "cell_type": "markdown",
      "metadata": {
        "id": "p6_f7RUZpvVm"
      },
      "source": [
        "# Zadanie 5. Model ensembling [3 pkt.]\n",
        "W tym ćwiczeniu wykorzystmay wiele modeli (model ensemling) do poprawy dokładności działania modelu. **Użyj 2 wybranych przez Ciebie modeli** (zwróć uwagę na czas przetwarzania). W celu uzyskania końcowej predykcji można wziąć średnią arytmetyczną predykcji z modeli.\n",
        "Przetestuj również wrażliwość tej techniki na szum (używając jednej z wariancji użytych w poprzednim ćwiczeniu).\n",
        "\n",
        "W sprawozdaniu wklej kawałek kodu odpowiedzialny za agregację wyników."
      ]
    },
    {
      "cell_type": "code",
      "metadata": {
        "id": "VshNDEAXEcwh"
      },
      "source": [
        "# TODO"
      ],
      "execution_count": null,
      "outputs": []
    }
  ]
}
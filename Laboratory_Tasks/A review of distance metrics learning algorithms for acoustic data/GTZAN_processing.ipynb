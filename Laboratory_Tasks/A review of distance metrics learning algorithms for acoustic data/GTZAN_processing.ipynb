{
  "cells": [
    {
      "cell_type": "markdown",
      "metadata": {
        "id": "O0xKLm0nStNF"
      },
      "source": [
        "##### AI TECH - Akademia Innowacyjnych Zastosowań Technologii Cyfrowych. Programu Operacyjnego Polska Cyfrowa na lata 2014-2020\n",
        "<hr>"
      ]
    },
    {
      "cell_type": "markdown",
      "metadata": {
        "id": "54lHcAtLStNG"
      },
      "source": [
        "<br>\n",
        "<br>\n",
        "<br>\n",
        "<br>\n",
        "<br>\n",
        "<br>\n",
        "<br>\n",
        "<center>\n",
        "    <h1 style = \"font-size:48px; font-weight:normal\"><b>AI</b>-TECH</style></h1>\n",
        "    <br>\n",
        "<br>\n",
        "<br>\n",
        "<br>\n",
        "    <h1 style = \"font-size:24px; font-weight:normal\">LABORATORIUM 4</style></h1>\n",
        "    <h1 style = \"font-size:24px\">z Przetwarzania multimediów w systemach decyzyjnych</style></h1>\n",
        "    <h1 style = \"font-size:24px\">Przegląd algorytmów uczących się metryk dystansu dla\n",
        "danych akustycznych</style></h1>\n",
        "    <h1 style = \"font-size:24px\">Przemysław Rośleń</style></h1>\n",
        "    <h3 style = \"font-size:21px\">przetwarzanie zbioru GTZAN sparametryzowanego za pomocą spektrogramów i MFCC-gramów</h3>\n",
        "    <h3 style =\n",
        "</center>\n",
        "<br>\n",
        "<br>\n",
        "<br>\n",
        "<br>\n",
        "<br>\n",
        "<br>\n",
        "<br>\n",
        "<br>\n",
        "<br>\n",
        "    </body>\n",
        "    </html>"
      ]
    },
    {
      "cell_type": "markdown",
      "metadata": {
        "id": "mcfJe78bStNH"
      },
      "source": [
        "<center>\n",
        "Projekt współfinansowany ze środków Unii Europejskiej w ramach Europejskiego Funduszu Rozwoju Regionalnego\n",
        "Program Operacyjny Polska Cyfrowa na lata 2014-2020,\n",
        "Oś Priorytetowa nr 3 \"Cyfrowe kompetencje społeczeństwa\" Działanie  nr 3.2 \"Innowacyjne rozwiązania na rzecz aktywizacji cyfrowej\"\n",
        "Tytuł projektu:  „Akademia Innowacyjnych Zastosowań Technologii Cyfrowych (AI Tech)”\n",
        "    </center>"
      ]
    },
    {
      "cell_type": "markdown",
      "metadata": {
        "id": "7j1lmuNBStNH"
      },
      "source": [
        "<hr>"
      ]
    },
    {
      "cell_type": "markdown",
      "metadata": {
        "id": "oz9xKGfyStNH"
      },
      "source": [
        "# Pobranie danych z Kaggle\n"
      ]
    },
    {
      "cell_type": "markdown",
      "metadata": {
        "id": "kPG_vIeWStNI"
      },
      "source": [
        "W ćwiczeniu zilustrujemy przetwarzanie sygnałów akustycznych za pomocą przetwarzania nagrań muzycznych. Jednym ze zbiorów danych często wybieranych do nauki przetwarzania sygnałów muzycznych jest zbiór GTZAN. Niestety, w bibliotece Tensorflow Datasets, która zwykle jest wygodnym wyborem do pozyskiwania danych, pobieranie tego zbioru danych następuje z bardzo wolnego serwera, dlatego w tym ćwiczeniu zalecane jest posłużenie się danymi pobranymi z serwisu Kaggle:<br/>\n",
        "https://www.kaggle.com/andradaolteanu/gtzan-dataset-music-genre-classification\n",
        "<br/><br/>\n",
        "Pobrane archiwum (archive.zip) należy następnie załadować na własny dysk Google Drive (do głównego folderu), a ten podłączyć do środowiska Google Colab. W menu plików maszyny wirtualnej pojawi się możliwość skopiowania pliku do maszyny wirtualnej, co należy uczynić wykonując komórkę poniżej:"
      ]
    },
    {
      "cell_type": "code",
      "execution_count": null,
      "metadata": {
        "colab": {
          "base_uri": "https://localhost:8080/"
        },
        "id": "Mpu8gpfgU1fZ",
        "outputId": "bb614e53-3bf8-4755-976b-cbdcdb1386b0"
      },
      "outputs": [
        {
          "output_type": "stream",
          "name": "stdout",
          "text": [
            "Mounted at /content/drive\n"
          ]
        }
      ],
      "source": [
        "from google.colab import drive\n",
        "drive.mount('/content/drive')"
      ]
    },
    {
      "cell_type": "markdown",
      "metadata": {
        "id": "1hlbvWynU-If"
      },
      "source": [
        "Następnie można wykonać poniższą komórkę w celu rozpakowania archiwum. Zakłada ona, że archiwum jest w głównym folderze dysku, skąd jest ono kopiowane do pamięci sesji i rozpakowywane."
      ]
    },
    {
      "cell_type": "code",
      "execution_count": null,
      "metadata": {
        "colab": {
          "base_uri": "https://localhost:8080/"
        },
        "id": "Ec3pRdNqStNI",
        "outputId": "a6966da7-3654-4690-99cb-05664b8d4a89"
      },
      "outputs": [
        {
          "output_type": "stream",
          "name": "stdout",
          "text": [
            "Archive:  archive.zip\n",
            "  inflating: Data/features_30_sec.csv  \n",
            "  inflating: Data/features_3_sec.csv  \n",
            "  inflating: Data/genres_original/blues/blues.00000.wav  \n",
            "  inflating: Data/genres_original/blues/blues.00001.wav  \n",
            "  inflating: Data/genres_original/blues/blues.00002.wav  \n",
            "  inflating: Data/genres_original/blues/blues.00003.wav  \n",
            "  inflating: Data/genres_original/blues/blues.00004.wav  \n",
            "  inflating: Data/genres_original/blues/blues.00005.wav  \n",
            "  inflating: Data/genres_original/blues/blues.00006.wav  \n",
            "  inflating: Data/genres_original/blues/blues.00007.wav  \n",
            "  inflating: Data/genres_original/blues/blues.00008.wav  \n",
            "  inflating: Data/genres_original/blues/blues.00009.wav  \n",
            "  inflating: Data/genres_original/blues/blues.00010.wav  \n",
            "  inflating: Data/genres_original/blues/blues.00011.wav  \n",
            "  inflating: Data/genres_original/blues/blues.00012.wav  \n",
            "  inflating: Data/genres_original/blues/blues.00013.wav  \n",
            "  inflating: Data/genres_original/blues/blues.00014.wav  \n",
            "  inflating: Data/genres_original/blues/blues.00015.wav  \n",
            "  inflating: Data/genres_original/blues/blues.00016.wav  \n",
            "  inflating: Data/genres_original/blues/blues.00017.wav  \n",
            "  inflating: Data/genres_original/blues/blues.00018.wav  \n",
            "  inflating: Data/genres_original/blues/blues.00019.wav  \n",
            "  inflating: Data/genres_original/blues/blues.00020.wav  \n",
            "  inflating: Data/genres_original/blues/blues.00021.wav  \n",
            "  inflating: Data/genres_original/blues/blues.00022.wav  \n",
            "  inflating: Data/genres_original/blues/blues.00023.wav  \n",
            "  inflating: Data/genres_original/blues/blues.00024.wav  \n",
            "  inflating: Data/genres_original/blues/blues.00025.wav  \n",
            "  inflating: Data/genres_original/blues/blues.00026.wav  \n",
            "  inflating: Data/genres_original/blues/blues.00027.wav  \n",
            "  inflating: Data/genres_original/blues/blues.00028.wav  \n",
            "  inflating: Data/genres_original/blues/blues.00029.wav  \n",
            "  inflating: Data/genres_original/blues/blues.00030.wav  \n",
            "  inflating: Data/genres_original/blues/blues.00031.wav  \n",
            "  inflating: Data/genres_original/blues/blues.00032.wav  \n",
            "  inflating: Data/genres_original/blues/blues.00033.wav  \n",
            "  inflating: Data/genres_original/blues/blues.00034.wav  \n",
            "  inflating: Data/genres_original/blues/blues.00035.wav  \n",
            "  inflating: Data/genres_original/blues/blues.00036.wav  \n",
            "  inflating: Data/genres_original/blues/blues.00037.wav  \n",
            "  inflating: Data/genres_original/blues/blues.00038.wav  \n",
            "  inflating: Data/genres_original/blues/blues.00039.wav  \n",
            "  inflating: Data/genres_original/blues/blues.00040.wav  \n",
            "  inflating: Data/genres_original/blues/blues.00041.wav  \n",
            "  inflating: Data/genres_original/blues/blues.00042.wav  \n",
            "  inflating: Data/genres_original/blues/blues.00043.wav  \n",
            "  inflating: Data/genres_original/blues/blues.00044.wav  \n",
            "  inflating: Data/genres_original/blues/blues.00045.wav  \n",
            "  inflating: Data/genres_original/blues/blues.00046.wav  \n",
            "  inflating: Data/genres_original/blues/blues.00047.wav  \n",
            "  inflating: Data/genres_original/blues/blues.00048.wav  \n",
            "  inflating: Data/genres_original/blues/blues.00049.wav  \n",
            "  inflating: Data/genres_original/blues/blues.00050.wav  \n",
            "  inflating: Data/genres_original/blues/blues.00051.wav  \n",
            "  inflating: Data/genres_original/blues/blues.00052.wav  \n",
            "  inflating: Data/genres_original/blues/blues.00053.wav  \n",
            "  inflating: Data/genres_original/blues/blues.00054.wav  \n",
            "  inflating: Data/genres_original/blues/blues.00055.wav  \n",
            "  inflating: Data/genres_original/blues/blues.00056.wav  \n",
            "  inflating: Data/genres_original/blues/blues.00057.wav  \n",
            "  inflating: Data/genres_original/blues/blues.00058.wav  \n",
            "  inflating: Data/genres_original/blues/blues.00059.wav  \n",
            "  inflating: Data/genres_original/blues/blues.00060.wav  \n",
            "  inflating: Data/genres_original/blues/blues.00061.wav  \n",
            "  inflating: Data/genres_original/blues/blues.00062.wav  \n",
            "  inflating: Data/genres_original/blues/blues.00063.wav  \n",
            "  inflating: Data/genres_original/blues/blues.00064.wav  \n",
            "  inflating: Data/genres_original/blues/blues.00065.wav  \n",
            "  inflating: Data/genres_original/blues/blues.00066.wav  \n",
            "  inflating: Data/genres_original/blues/blues.00067.wav  \n",
            "  inflating: Data/genres_original/blues/blues.00068.wav  \n",
            "  inflating: Data/genres_original/blues/blues.00069.wav  \n",
            "  inflating: Data/genres_original/blues/blues.00070.wav  \n",
            "  inflating: Data/genres_original/blues/blues.00071.wav  \n",
            "  inflating: Data/genres_original/blues/blues.00072.wav  \n",
            "  inflating: Data/genres_original/blues/blues.00073.wav  \n",
            "  inflating: Data/genres_original/blues/blues.00074.wav  \n",
            "  inflating: Data/genres_original/blues/blues.00075.wav  \n",
            "  inflating: Data/genres_original/blues/blues.00076.wav  \n",
            "  inflating: Data/genres_original/blues/blues.00077.wav  \n",
            "  inflating: Data/genres_original/blues/blues.00078.wav  \n",
            "  inflating: Data/genres_original/blues/blues.00079.wav  \n",
            "  inflating: Data/genres_original/blues/blues.00080.wav  \n",
            "  inflating: Data/genres_original/blues/blues.00081.wav  \n",
            "  inflating: Data/genres_original/blues/blues.00082.wav  \n",
            "  inflating: Data/genres_original/blues/blues.00083.wav  \n",
            "  inflating: Data/genres_original/blues/blues.00084.wav  \n",
            "  inflating: Data/genres_original/blues/blues.00085.wav  \n",
            "  inflating: Data/genres_original/blues/blues.00086.wav  \n",
            "  inflating: Data/genres_original/blues/blues.00087.wav  \n",
            "  inflating: Data/genres_original/blues/blues.00088.wav  \n",
            "  inflating: Data/genres_original/blues/blues.00089.wav  \n",
            "  inflating: Data/genres_original/blues/blues.00090.wav  \n",
            "  inflating: Data/genres_original/blues/blues.00091.wav  \n",
            "  inflating: Data/genres_original/blues/blues.00092.wav  \n",
            "  inflating: Data/genres_original/blues/blues.00093.wav  \n",
            "  inflating: Data/genres_original/blues/blues.00094.wav  \n",
            "  inflating: Data/genres_original/blues/blues.00095.wav  \n",
            "  inflating: Data/genres_original/blues/blues.00096.wav  \n",
            "  inflating: Data/genres_original/blues/blues.00097.wav  \n",
            "  inflating: Data/genres_original/blues/blues.00098.wav  \n",
            "  inflating: Data/genres_original/blues/blues.00099.wav  \n",
            "  inflating: Data/genres_original/classical/classical.00000.wav  \n",
            "  inflating: Data/genres_original/classical/classical.00001.wav  \n",
            "  inflating: Data/genres_original/classical/classical.00002.wav  \n",
            "  inflating: Data/genres_original/classical/classical.00003.wav  \n",
            "  inflating: Data/genres_original/classical/classical.00004.wav  \n",
            "  inflating: Data/genres_original/classical/classical.00005.wav  \n",
            "  inflating: Data/genres_original/classical/classical.00006.wav  \n",
            "  inflating: Data/genres_original/classical/classical.00007.wav  \n",
            "  inflating: Data/genres_original/classical/classical.00008.wav  \n",
            "  inflating: Data/genres_original/classical/classical.00009.wav  \n",
            "  inflating: Data/genres_original/classical/classical.00010.wav  \n",
            "  inflating: Data/genres_original/classical/classical.00011.wav  \n",
            "  inflating: Data/genres_original/classical/classical.00012.wav  \n",
            "  inflating: Data/genres_original/classical/classical.00013.wav  \n",
            "  inflating: Data/genres_original/classical/classical.00014.wav  \n",
            "  inflating: Data/genres_original/classical/classical.00015.wav  \n",
            "  inflating: Data/genres_original/classical/classical.00016.wav  \n",
            "  inflating: Data/genres_original/classical/classical.00017.wav  \n",
            "  inflating: Data/genres_original/classical/classical.00018.wav  \n",
            "  inflating: Data/genres_original/classical/classical.00019.wav  \n",
            "  inflating: Data/genres_original/classical/classical.00020.wav  \n",
            "  inflating: Data/genres_original/classical/classical.00021.wav  \n",
            "  inflating: Data/genres_original/classical/classical.00022.wav  \n",
            "  inflating: Data/genres_original/classical/classical.00023.wav  \n",
            "  inflating: Data/genres_original/classical/classical.00024.wav  \n",
            "  inflating: Data/genres_original/classical/classical.00025.wav  \n",
            "  inflating: Data/genres_original/classical/classical.00026.wav  \n",
            "  inflating: Data/genres_original/classical/classical.00027.wav  \n",
            "  inflating: Data/genres_original/classical/classical.00028.wav  \n",
            "  inflating: Data/genres_original/classical/classical.00029.wav  \n",
            "  inflating: Data/genres_original/classical/classical.00030.wav  \n",
            "  inflating: Data/genres_original/classical/classical.00031.wav  \n",
            "  inflating: Data/genres_original/classical/classical.00032.wav  \n",
            "  inflating: Data/genres_original/classical/classical.00033.wav  \n",
            "  inflating: Data/genres_original/classical/classical.00034.wav  \n",
            "  inflating: Data/genres_original/classical/classical.00035.wav  \n",
            "  inflating: Data/genres_original/classical/classical.00036.wav  \n",
            "  inflating: Data/genres_original/classical/classical.00037.wav  \n",
            "  inflating: Data/genres_original/classical/classical.00038.wav  \n",
            "  inflating: Data/genres_original/classical/classical.00039.wav  \n",
            "  inflating: Data/genres_original/classical/classical.00040.wav  \n",
            "  inflating: Data/genres_original/classical/classical.00041.wav  \n",
            "  inflating: Data/genres_original/classical/classical.00042.wav  \n",
            "  inflating: Data/genres_original/classical/classical.00043.wav  \n",
            "  inflating: Data/genres_original/classical/classical.00044.wav  \n",
            "  inflating: Data/genres_original/classical/classical.00045.wav  \n",
            "  inflating: Data/genres_original/classical/classical.00046.wav  \n",
            "  inflating: Data/genres_original/classical/classical.00047.wav  \n",
            "  inflating: Data/genres_original/classical/classical.00048.wav  \n",
            "  inflating: Data/genres_original/classical/classical.00049.wav  \n",
            "  inflating: Data/genres_original/classical/classical.00050.wav  \n",
            "  inflating: Data/genres_original/classical/classical.00051.wav  \n",
            "  inflating: Data/genres_original/classical/classical.00052.wav  \n",
            "  inflating: Data/genres_original/classical/classical.00053.wav  \n",
            "  inflating: Data/genres_original/classical/classical.00054.wav  \n",
            "  inflating: Data/genres_original/classical/classical.00055.wav  \n",
            "  inflating: Data/genres_original/classical/classical.00056.wav  \n",
            "  inflating: Data/genres_original/classical/classical.00057.wav  \n",
            "  inflating: Data/genres_original/classical/classical.00058.wav  \n",
            "  inflating: Data/genres_original/classical/classical.00059.wav  \n",
            "  inflating: Data/genres_original/classical/classical.00060.wav  \n",
            "  inflating: Data/genres_original/classical/classical.00061.wav  \n",
            "  inflating: Data/genres_original/classical/classical.00062.wav  \n",
            "  inflating: Data/genres_original/classical/classical.00063.wav  \n",
            "  inflating: Data/genres_original/classical/classical.00064.wav  \n",
            "  inflating: Data/genres_original/classical/classical.00065.wav  \n",
            "  inflating: Data/genres_original/classical/classical.00066.wav  \n",
            "  inflating: Data/genres_original/classical/classical.00067.wav  \n",
            "  inflating: Data/genres_original/classical/classical.00068.wav  \n",
            "  inflating: Data/genres_original/classical/classical.00069.wav  \n",
            "  inflating: Data/genres_original/classical/classical.00070.wav  \n",
            "  inflating: Data/genres_original/classical/classical.00071.wav  \n",
            "  inflating: Data/genres_original/classical/classical.00072.wav  \n",
            "  inflating: Data/genres_original/classical/classical.00073.wav  \n",
            "  inflating: Data/genres_original/classical/classical.00074.wav  \n",
            "  inflating: Data/genres_original/classical/classical.00075.wav  \n",
            "  inflating: Data/genres_original/classical/classical.00076.wav  \n",
            "  inflating: Data/genres_original/classical/classical.00077.wav  \n",
            "  inflating: Data/genres_original/classical/classical.00078.wav  \n",
            "  inflating: Data/genres_original/classical/classical.00079.wav  \n",
            "  inflating: Data/genres_original/classical/classical.00080.wav  \n",
            "  inflating: Data/genres_original/classical/classical.00081.wav  \n",
            "  inflating: Data/genres_original/classical/classical.00082.wav  \n",
            "  inflating: Data/genres_original/classical/classical.00083.wav  \n",
            "  inflating: Data/genres_original/classical/classical.00084.wav  \n",
            "  inflating: Data/genres_original/classical/classical.00085.wav  \n",
            "  inflating: Data/genres_original/classical/classical.00086.wav  \n",
            "  inflating: Data/genres_original/classical/classical.00087.wav  \n",
            "  inflating: Data/genres_original/classical/classical.00088.wav  \n",
            "  inflating: Data/genres_original/classical/classical.00089.wav  \n",
            "  inflating: Data/genres_original/classical/classical.00090.wav  \n",
            "  inflating: Data/genres_original/classical/classical.00091.wav  \n",
            "  inflating: Data/genres_original/classical/classical.00092.wav  \n",
            "  inflating: Data/genres_original/classical/classical.00093.wav  \n",
            "  inflating: Data/genres_original/classical/classical.00094.wav  \n",
            "  inflating: Data/genres_original/classical/classical.00095.wav  \n",
            "  inflating: Data/genres_original/classical/classical.00096.wav  \n",
            "  inflating: Data/genres_original/classical/classical.00097.wav  \n",
            "  inflating: Data/genres_original/classical/classical.00098.wav  \n",
            "  inflating: Data/genres_original/classical/classical.00099.wav  \n",
            "  inflating: Data/genres_original/country/country.00000.wav  \n",
            "  inflating: Data/genres_original/country/country.00001.wav  \n",
            "  inflating: Data/genres_original/country/country.00002.wav  \n",
            "  inflating: Data/genres_original/country/country.00003.wav  \n",
            "  inflating: Data/genres_original/country/country.00004.wav  \n",
            "  inflating: Data/genres_original/country/country.00005.wav  \n",
            "  inflating: Data/genres_original/country/country.00006.wav  \n",
            "  inflating: Data/genres_original/country/country.00007.wav  \n",
            "  inflating: Data/genres_original/country/country.00008.wav  \n",
            "  inflating: Data/genres_original/country/country.00009.wav  \n",
            "  inflating: Data/genres_original/country/country.00010.wav  \n",
            "  inflating: Data/genres_original/country/country.00011.wav  \n",
            "  inflating: Data/genres_original/country/country.00012.wav  \n",
            "  inflating: Data/genres_original/country/country.00013.wav  \n",
            "  inflating: Data/genres_original/country/country.00014.wav  \n",
            "  inflating: Data/genres_original/country/country.00015.wav  \n",
            "  inflating: Data/genres_original/country/country.00016.wav  \n",
            "  inflating: Data/genres_original/country/country.00017.wav  \n",
            "  inflating: Data/genres_original/country/country.00018.wav  \n",
            "  inflating: Data/genres_original/country/country.00019.wav  \n",
            "  inflating: Data/genres_original/country/country.00020.wav  \n",
            "  inflating: Data/genres_original/country/country.00021.wav  \n",
            "  inflating: Data/genres_original/country/country.00022.wav  \n",
            "  inflating: Data/genres_original/country/country.00023.wav  \n",
            "  inflating: Data/genres_original/country/country.00024.wav  \n",
            "  inflating: Data/genres_original/country/country.00025.wav  \n",
            "  inflating: Data/genres_original/country/country.00026.wav  \n",
            "  inflating: Data/genres_original/country/country.00027.wav  \n",
            "  inflating: Data/genres_original/country/country.00028.wav  \n",
            "  inflating: Data/genres_original/country/country.00029.wav  \n",
            "  inflating: Data/genres_original/country/country.00030.wav  \n",
            "  inflating: Data/genres_original/country/country.00031.wav  \n",
            "  inflating: Data/genres_original/country/country.00032.wav  \n",
            "  inflating: Data/genres_original/country/country.00033.wav  \n",
            "  inflating: Data/genres_original/country/country.00034.wav  \n",
            "  inflating: Data/genres_original/country/country.00035.wav  \n",
            "  inflating: Data/genres_original/country/country.00036.wav  \n",
            "  inflating: Data/genres_original/country/country.00037.wav  \n",
            "  inflating: Data/genres_original/country/country.00038.wav  \n",
            "  inflating: Data/genres_original/country/country.00039.wav  \n",
            "  inflating: Data/genres_original/country/country.00040.wav  \n",
            "  inflating: Data/genres_original/country/country.00041.wav  \n",
            "  inflating: Data/genres_original/country/country.00042.wav  \n",
            "  inflating: Data/genres_original/country/country.00043.wav  \n",
            "  inflating: Data/genres_original/country/country.00044.wav  \n",
            "  inflating: Data/genres_original/country/country.00045.wav  \n",
            "  inflating: Data/genres_original/country/country.00046.wav  \n",
            "  inflating: Data/genres_original/country/country.00047.wav  \n",
            "  inflating: Data/genres_original/country/country.00048.wav  \n",
            "  inflating: Data/genres_original/country/country.00049.wav  \n",
            "  inflating: Data/genres_original/country/country.00050.wav  \n",
            "  inflating: Data/genres_original/country/country.00051.wav  \n",
            "  inflating: Data/genres_original/country/country.00052.wav  \n",
            "  inflating: Data/genres_original/country/country.00053.wav  \n",
            "  inflating: Data/genres_original/country/country.00054.wav  \n",
            "  inflating: Data/genres_original/country/country.00055.wav  \n",
            "  inflating: Data/genres_original/country/country.00056.wav  \n",
            "  inflating: Data/genres_original/country/country.00057.wav  \n",
            "  inflating: Data/genres_original/country/country.00058.wav  \n",
            "  inflating: Data/genres_original/country/country.00059.wav  \n",
            "  inflating: Data/genres_original/country/country.00060.wav  \n",
            "  inflating: Data/genres_original/country/country.00061.wav  \n",
            "  inflating: Data/genres_original/country/country.00062.wav  \n",
            "  inflating: Data/genres_original/country/country.00063.wav  \n",
            "  inflating: Data/genres_original/country/country.00064.wav  \n",
            "  inflating: Data/genres_original/country/country.00065.wav  \n",
            "  inflating: Data/genres_original/country/country.00066.wav  \n",
            "  inflating: Data/genres_original/country/country.00067.wav  \n",
            "  inflating: Data/genres_original/country/country.00068.wav  \n",
            "  inflating: Data/genres_original/country/country.00069.wav  \n",
            "  inflating: Data/genres_original/country/country.00070.wav  \n",
            "  inflating: Data/genres_original/country/country.00071.wav  \n",
            "  inflating: Data/genres_original/country/country.00072.wav  \n",
            "  inflating: Data/genres_original/country/country.00073.wav  \n",
            "  inflating: Data/genres_original/country/country.00074.wav  \n",
            "  inflating: Data/genres_original/country/country.00075.wav  \n",
            "  inflating: Data/genres_original/country/country.00076.wav  \n",
            "  inflating: Data/genres_original/country/country.00077.wav  \n",
            "  inflating: Data/genres_original/country/country.00078.wav  \n",
            "  inflating: Data/genres_original/country/country.00079.wav  \n",
            "  inflating: Data/genres_original/country/country.00080.wav  \n",
            "  inflating: Data/genres_original/country/country.00081.wav  \n",
            "  inflating: Data/genres_original/country/country.00082.wav  \n",
            "  inflating: Data/genres_original/country/country.00083.wav  \n",
            "  inflating: Data/genres_original/country/country.00084.wav  \n",
            "  inflating: Data/genres_original/country/country.00085.wav  \n",
            "  inflating: Data/genres_original/country/country.00086.wav  \n",
            "  inflating: Data/genres_original/country/country.00087.wav  \n",
            "  inflating: Data/genres_original/country/country.00088.wav  \n",
            "  inflating: Data/genres_original/country/country.00089.wav  \n",
            "  inflating: Data/genres_original/country/country.00090.wav  \n",
            "  inflating: Data/genres_original/country/country.00091.wav  \n",
            "  inflating: Data/genres_original/country/country.00092.wav  \n",
            "  inflating: Data/genres_original/country/country.00093.wav  \n",
            "  inflating: Data/genres_original/country/country.00094.wav  \n",
            "  inflating: Data/genres_original/country/country.00095.wav  \n",
            "  inflating: Data/genres_original/country/country.00096.wav  \n",
            "  inflating: Data/genres_original/country/country.00097.wav  \n",
            "  inflating: Data/genres_original/country/country.00098.wav  \n",
            "  inflating: Data/genres_original/country/country.00099.wav  \n",
            "  inflating: Data/genres_original/disco/disco.00000.wav  \n",
            "  inflating: Data/genres_original/disco/disco.00001.wav  \n",
            "  inflating: Data/genres_original/disco/disco.00002.wav  \n",
            "  inflating: Data/genres_original/disco/disco.00003.wav  \n",
            "  inflating: Data/genres_original/disco/disco.00004.wav  \n",
            "  inflating: Data/genres_original/disco/disco.00005.wav  \n",
            "  inflating: Data/genres_original/disco/disco.00006.wav  \n",
            "  inflating: Data/genres_original/disco/disco.00007.wav  \n",
            "  inflating: Data/genres_original/disco/disco.00008.wav  \n",
            "  inflating: Data/genres_original/disco/disco.00009.wav  \n",
            "  inflating: Data/genres_original/disco/disco.00010.wav  \n",
            "  inflating: Data/genres_original/disco/disco.00011.wav  \n",
            "  inflating: Data/genres_original/disco/disco.00012.wav  \n",
            "  inflating: Data/genres_original/disco/disco.00013.wav  \n",
            "  inflating: Data/genres_original/disco/disco.00014.wav  \n",
            "  inflating: Data/genres_original/disco/disco.00015.wav  \n",
            "  inflating: Data/genres_original/disco/disco.00016.wav  \n",
            "  inflating: Data/genres_original/disco/disco.00017.wav  \n",
            "  inflating: Data/genres_original/disco/disco.00018.wav  \n",
            "  inflating: Data/genres_original/disco/disco.00019.wav  \n",
            "  inflating: Data/genres_original/disco/disco.00020.wav  \n",
            "  inflating: Data/genres_original/disco/disco.00021.wav  \n",
            "  inflating: Data/genres_original/disco/disco.00022.wav  \n",
            "  inflating: Data/genres_original/disco/disco.00023.wav  \n",
            "  inflating: Data/genres_original/disco/disco.00024.wav  \n",
            "  inflating: Data/genres_original/disco/disco.00025.wav  \n",
            "  inflating: Data/genres_original/disco/disco.00026.wav  \n",
            "  inflating: Data/genres_original/disco/disco.00027.wav  \n",
            "  inflating: Data/genres_original/disco/disco.00028.wav  \n",
            "  inflating: Data/genres_original/disco/disco.00029.wav  \n",
            "  inflating: Data/genres_original/disco/disco.00030.wav  \n",
            "  inflating: Data/genres_original/disco/disco.00031.wav  \n",
            "  inflating: Data/genres_original/disco/disco.00032.wav  \n",
            "  inflating: Data/genres_original/disco/disco.00033.wav  \n",
            "  inflating: Data/genres_original/disco/disco.00034.wav  \n",
            "  inflating: Data/genres_original/disco/disco.00035.wav  \n",
            "  inflating: Data/genres_original/disco/disco.00036.wav  \n",
            "  inflating: Data/genres_original/disco/disco.00037.wav  \n",
            "  inflating: Data/genres_original/disco/disco.00038.wav  \n",
            "  inflating: Data/genres_original/disco/disco.00039.wav  \n",
            "  inflating: Data/genres_original/disco/disco.00040.wav  \n",
            "  inflating: Data/genres_original/disco/disco.00041.wav  \n",
            "  inflating: Data/genres_original/disco/disco.00042.wav  \n",
            "  inflating: Data/genres_original/disco/disco.00043.wav  \n",
            "  inflating: Data/genres_original/disco/disco.00044.wav  \n",
            "  inflating: Data/genres_original/disco/disco.00045.wav  \n",
            "  inflating: Data/genres_original/disco/disco.00046.wav  \n",
            "  inflating: Data/genres_original/disco/disco.00047.wav  \n",
            "  inflating: Data/genres_original/disco/disco.00048.wav  \n",
            "  inflating: Data/genres_original/disco/disco.00049.wav  \n",
            "  inflating: Data/genres_original/disco/disco.00050.wav  \n",
            "  inflating: Data/genres_original/disco/disco.00051.wav  \n",
            "  inflating: Data/genres_original/disco/disco.00052.wav  \n",
            "  inflating: Data/genres_original/disco/disco.00053.wav  \n",
            "  inflating: Data/genres_original/disco/disco.00054.wav  \n",
            "  inflating: Data/genres_original/disco/disco.00055.wav  \n",
            "  inflating: Data/genres_original/disco/disco.00056.wav  \n",
            "  inflating: Data/genres_original/disco/disco.00057.wav  \n",
            "  inflating: Data/genres_original/disco/disco.00058.wav  \n",
            "  inflating: Data/genres_original/disco/disco.00059.wav  \n",
            "  inflating: Data/genres_original/disco/disco.00060.wav  \n",
            "  inflating: Data/genres_original/disco/disco.00061.wav  \n",
            "  inflating: Data/genres_original/disco/disco.00062.wav  \n",
            "  inflating: Data/genres_original/disco/disco.00063.wav  \n",
            "  inflating: Data/genres_original/disco/disco.00064.wav  \n",
            "  inflating: Data/genres_original/disco/disco.00065.wav  \n",
            "  inflating: Data/genres_original/disco/disco.00066.wav  \n",
            "  inflating: Data/genres_original/disco/disco.00067.wav  \n",
            "  inflating: Data/genres_original/disco/disco.00068.wav  \n",
            "  inflating: Data/genres_original/disco/disco.00069.wav  \n",
            "  inflating: Data/genres_original/disco/disco.00070.wav  \n",
            "  inflating: Data/genres_original/disco/disco.00071.wav  \n",
            "  inflating: Data/genres_original/disco/disco.00072.wav  \n",
            "  inflating: Data/genres_original/disco/disco.00073.wav  \n",
            "  inflating: Data/genres_original/disco/disco.00074.wav  \n",
            "  inflating: Data/genres_original/disco/disco.00075.wav  \n",
            "  inflating: Data/genres_original/disco/disco.00076.wav  \n",
            "  inflating: Data/genres_original/disco/disco.00077.wav  \n",
            "  inflating: Data/genres_original/disco/disco.00078.wav  \n",
            "  inflating: Data/genres_original/disco/disco.00079.wav  \n",
            "  inflating: Data/genres_original/disco/disco.00080.wav  \n",
            "  inflating: Data/genres_original/disco/disco.00081.wav  \n",
            "  inflating: Data/genres_original/disco/disco.00082.wav  \n",
            "  inflating: Data/genres_original/disco/disco.00083.wav  \n",
            "  inflating: Data/genres_original/disco/disco.00084.wav  \n",
            "  inflating: Data/genres_original/disco/disco.00085.wav  \n",
            "  inflating: Data/genres_original/disco/disco.00086.wav  \n",
            "  inflating: Data/genres_original/disco/disco.00087.wav  \n",
            "  inflating: Data/genres_original/disco/disco.00088.wav  \n",
            "  inflating: Data/genres_original/disco/disco.00089.wav  \n",
            "  inflating: Data/genres_original/disco/disco.00090.wav  \n",
            "  inflating: Data/genres_original/disco/disco.00091.wav  \n",
            "  inflating: Data/genres_original/disco/disco.00092.wav  \n",
            "  inflating: Data/genres_original/disco/disco.00093.wav  \n",
            "  inflating: Data/genres_original/disco/disco.00094.wav  \n",
            "  inflating: Data/genres_original/disco/disco.00095.wav  \n",
            "  inflating: Data/genres_original/disco/disco.00096.wav  \n",
            "  inflating: Data/genres_original/disco/disco.00097.wav  \n",
            "  inflating: Data/genres_original/disco/disco.00098.wav  \n",
            "  inflating: Data/genres_original/disco/disco.00099.wav  \n",
            "  inflating: Data/genres_original/hiphop/hiphop.00000.wav  \n",
            "  inflating: Data/genres_original/hiphop/hiphop.00001.wav  \n",
            "  inflating: Data/genres_original/hiphop/hiphop.00002.wav  \n",
            "  inflating: Data/genres_original/hiphop/hiphop.00003.wav  \n",
            "  inflating: Data/genres_original/hiphop/hiphop.00004.wav  \n",
            "  inflating: Data/genres_original/hiphop/hiphop.00005.wav  \n",
            "  inflating: Data/genres_original/hiphop/hiphop.00006.wav  \n",
            "  inflating: Data/genres_original/hiphop/hiphop.00007.wav  \n",
            "  inflating: Data/genres_original/hiphop/hiphop.00008.wav  \n",
            "  inflating: Data/genres_original/hiphop/hiphop.00009.wav  \n",
            "  inflating: Data/genres_original/hiphop/hiphop.00010.wav  \n",
            "  inflating: Data/genres_original/hiphop/hiphop.00011.wav  \n",
            "  inflating: Data/genres_original/hiphop/hiphop.00012.wav  \n",
            "  inflating: Data/genres_original/hiphop/hiphop.00013.wav  \n",
            "  inflating: Data/genres_original/hiphop/hiphop.00014.wav  \n",
            "  inflating: Data/genres_original/hiphop/hiphop.00015.wav  \n",
            "  inflating: Data/genres_original/hiphop/hiphop.00016.wav  \n",
            "  inflating: Data/genres_original/hiphop/hiphop.00017.wav  \n",
            "  inflating: Data/genres_original/hiphop/hiphop.00018.wav  \n",
            "  inflating: Data/genres_original/hiphop/hiphop.00019.wav  \n",
            "  inflating: Data/genres_original/hiphop/hiphop.00020.wav  \n",
            "  inflating: Data/genres_original/hiphop/hiphop.00021.wav  \n",
            "  inflating: Data/genres_original/hiphop/hiphop.00022.wav  \n",
            "  inflating: Data/genres_original/hiphop/hiphop.00023.wav  \n",
            "  inflating: Data/genres_original/hiphop/hiphop.00024.wav  \n",
            "  inflating: Data/genres_original/hiphop/hiphop.00025.wav  \n",
            "  inflating: Data/genres_original/hiphop/hiphop.00026.wav  \n",
            "  inflating: Data/genres_original/hiphop/hiphop.00027.wav  \n",
            "  inflating: Data/genres_original/hiphop/hiphop.00028.wav  \n",
            "  inflating: Data/genres_original/hiphop/hiphop.00029.wav  \n",
            "  inflating: Data/genres_original/hiphop/hiphop.00030.wav  \n",
            "  inflating: Data/genres_original/hiphop/hiphop.00031.wav  \n",
            "  inflating: Data/genres_original/hiphop/hiphop.00032.wav  \n",
            "  inflating: Data/genres_original/hiphop/hiphop.00033.wav  \n",
            "  inflating: Data/genres_original/hiphop/hiphop.00034.wav  \n",
            "  inflating: Data/genres_original/hiphop/hiphop.00035.wav  \n",
            "  inflating: Data/genres_original/hiphop/hiphop.00036.wav  \n",
            "  inflating: Data/genres_original/hiphop/hiphop.00037.wav  \n",
            "  inflating: Data/genres_original/hiphop/hiphop.00038.wav  \n",
            "  inflating: Data/genres_original/hiphop/hiphop.00039.wav  \n",
            "  inflating: Data/genres_original/hiphop/hiphop.00040.wav  \n",
            "  inflating: Data/genres_original/hiphop/hiphop.00041.wav  \n",
            "  inflating: Data/genres_original/hiphop/hiphop.00042.wav  \n",
            "  inflating: Data/genres_original/hiphop/hiphop.00043.wav  \n",
            "  inflating: Data/genres_original/hiphop/hiphop.00044.wav  \n",
            "  inflating: Data/genres_original/hiphop/hiphop.00045.wav  \n",
            "  inflating: Data/genres_original/hiphop/hiphop.00046.wav  \n",
            "  inflating: Data/genres_original/hiphop/hiphop.00047.wav  \n",
            "  inflating: Data/genres_original/hiphop/hiphop.00048.wav  \n",
            "  inflating: Data/genres_original/hiphop/hiphop.00049.wav  \n",
            "  inflating: Data/genres_original/hiphop/hiphop.00050.wav  \n",
            "  inflating: Data/genres_original/hiphop/hiphop.00051.wav  \n",
            "  inflating: Data/genres_original/hiphop/hiphop.00052.wav  \n",
            "  inflating: Data/genres_original/hiphop/hiphop.00053.wav  \n",
            "  inflating: Data/genres_original/hiphop/hiphop.00054.wav  \n",
            "  inflating: Data/genres_original/hiphop/hiphop.00055.wav  \n",
            "  inflating: Data/genres_original/hiphop/hiphop.00056.wav  \n",
            "  inflating: Data/genres_original/hiphop/hiphop.00057.wav  \n",
            "  inflating: Data/genres_original/hiphop/hiphop.00058.wav  \n",
            "  inflating: Data/genres_original/hiphop/hiphop.00059.wav  \n",
            "  inflating: Data/genres_original/hiphop/hiphop.00060.wav  \n",
            "  inflating: Data/genres_original/hiphop/hiphop.00061.wav  \n",
            "  inflating: Data/genres_original/hiphop/hiphop.00062.wav  \n",
            "  inflating: Data/genres_original/hiphop/hiphop.00063.wav  \n",
            "  inflating: Data/genres_original/hiphop/hiphop.00064.wav  \n",
            "  inflating: Data/genres_original/hiphop/hiphop.00065.wav  \n",
            "  inflating: Data/genres_original/hiphop/hiphop.00066.wav  \n",
            "  inflating: Data/genres_original/hiphop/hiphop.00067.wav  \n",
            "  inflating: Data/genres_original/hiphop/hiphop.00068.wav  \n",
            "  inflating: Data/genres_original/hiphop/hiphop.00069.wav  \n",
            "  inflating: Data/genres_original/hiphop/hiphop.00070.wav  \n",
            "  inflating: Data/genres_original/hiphop/hiphop.00071.wav  \n",
            "  inflating: Data/genres_original/hiphop/hiphop.00072.wav  \n",
            "  inflating: Data/genres_original/hiphop/hiphop.00073.wav  \n",
            "  inflating: Data/genres_original/hiphop/hiphop.00074.wav  \n",
            "  inflating: Data/genres_original/hiphop/hiphop.00075.wav  \n",
            "  inflating: Data/genres_original/hiphop/hiphop.00076.wav  \n",
            "  inflating: Data/genres_original/hiphop/hiphop.00077.wav  \n",
            "  inflating: Data/genres_original/hiphop/hiphop.00078.wav  \n",
            "  inflating: Data/genres_original/hiphop/hiphop.00079.wav  \n",
            "  inflating: Data/genres_original/hiphop/hiphop.00080.wav  \n",
            "  inflating: Data/genres_original/hiphop/hiphop.00081.wav  \n",
            "  inflating: Data/genres_original/hiphop/hiphop.00082.wav  \n",
            "  inflating: Data/genres_original/hiphop/hiphop.00083.wav  \n",
            "  inflating: Data/genres_original/hiphop/hiphop.00084.wav  \n",
            "  inflating: Data/genres_original/hiphop/hiphop.00085.wav  \n",
            "  inflating: Data/genres_original/hiphop/hiphop.00086.wav  \n",
            "  inflating: Data/genres_original/hiphop/hiphop.00087.wav  \n",
            "  inflating: Data/genres_original/hiphop/hiphop.00088.wav  \n",
            "  inflating: Data/genres_original/hiphop/hiphop.00089.wav  \n",
            "  inflating: Data/genres_original/hiphop/hiphop.00090.wav  \n",
            "  inflating: Data/genres_original/hiphop/hiphop.00091.wav  \n",
            "  inflating: Data/genres_original/hiphop/hiphop.00092.wav  \n",
            "  inflating: Data/genres_original/hiphop/hiphop.00093.wav  \n",
            "  inflating: Data/genres_original/hiphop/hiphop.00094.wav  \n",
            "  inflating: Data/genres_original/hiphop/hiphop.00095.wav  \n",
            "  inflating: Data/genres_original/hiphop/hiphop.00096.wav  \n",
            "  inflating: Data/genres_original/hiphop/hiphop.00097.wav  \n",
            "  inflating: Data/genres_original/hiphop/hiphop.00098.wav  \n",
            "  inflating: Data/genres_original/hiphop/hiphop.00099.wav  \n",
            "  inflating: Data/genres_original/jazz/jazz.00000.wav  \n",
            "  inflating: Data/genres_original/jazz/jazz.00001.wav  \n",
            "  inflating: Data/genres_original/jazz/jazz.00002.wav  \n",
            "  inflating: Data/genres_original/jazz/jazz.00003.wav  \n",
            "  inflating: Data/genres_original/jazz/jazz.00004.wav  \n",
            "  inflating: Data/genres_original/jazz/jazz.00005.wav  \n",
            "  inflating: Data/genres_original/jazz/jazz.00006.wav  \n",
            "  inflating: Data/genres_original/jazz/jazz.00007.wav  \n",
            "  inflating: Data/genres_original/jazz/jazz.00008.wav  \n",
            "  inflating: Data/genres_original/jazz/jazz.00009.wav  \n",
            "  inflating: Data/genres_original/jazz/jazz.00010.wav  \n",
            "  inflating: Data/genres_original/jazz/jazz.00011.wav  \n",
            "  inflating: Data/genres_original/jazz/jazz.00012.wav  \n",
            "  inflating: Data/genres_original/jazz/jazz.00013.wav  \n",
            "  inflating: Data/genres_original/jazz/jazz.00014.wav  \n",
            "  inflating: Data/genres_original/jazz/jazz.00015.wav  \n",
            "  inflating: Data/genres_original/jazz/jazz.00016.wav  \n",
            "  inflating: Data/genres_original/jazz/jazz.00017.wav  \n",
            "  inflating: Data/genres_original/jazz/jazz.00018.wav  \n",
            "  inflating: Data/genres_original/jazz/jazz.00019.wav  \n",
            "  inflating: Data/genres_original/jazz/jazz.00020.wav  \n",
            "  inflating: Data/genres_original/jazz/jazz.00021.wav  \n",
            "  inflating: Data/genres_original/jazz/jazz.00022.wav  \n",
            "  inflating: Data/genres_original/jazz/jazz.00023.wav  \n",
            "  inflating: Data/genres_original/jazz/jazz.00024.wav  \n",
            "  inflating: Data/genres_original/jazz/jazz.00025.wav  \n",
            "  inflating: Data/genres_original/jazz/jazz.00026.wav  \n",
            "  inflating: Data/genres_original/jazz/jazz.00027.wav  \n",
            "  inflating: Data/genres_original/jazz/jazz.00028.wav  \n",
            "  inflating: Data/genres_original/jazz/jazz.00029.wav  \n",
            "  inflating: Data/genres_original/jazz/jazz.00030.wav  \n",
            "  inflating: Data/genres_original/jazz/jazz.00031.wav  \n",
            "  inflating: Data/genres_original/jazz/jazz.00032.wav  \n",
            "  inflating: Data/genres_original/jazz/jazz.00033.wav  \n",
            "  inflating: Data/genres_original/jazz/jazz.00034.wav  \n",
            "  inflating: Data/genres_original/jazz/jazz.00035.wav  \n",
            "  inflating: Data/genres_original/jazz/jazz.00036.wav  \n",
            "  inflating: Data/genres_original/jazz/jazz.00037.wav  \n",
            "  inflating: Data/genres_original/jazz/jazz.00038.wav  \n",
            "  inflating: Data/genres_original/jazz/jazz.00039.wav  \n",
            "  inflating: Data/genres_original/jazz/jazz.00040.wav  \n",
            "  inflating: Data/genres_original/jazz/jazz.00041.wav  \n",
            "  inflating: Data/genres_original/jazz/jazz.00042.wav  \n",
            "  inflating: Data/genres_original/jazz/jazz.00043.wav  \n",
            "  inflating: Data/genres_original/jazz/jazz.00044.wav  \n",
            "  inflating: Data/genres_original/jazz/jazz.00045.wav  \n",
            "  inflating: Data/genres_original/jazz/jazz.00046.wav  \n",
            "  inflating: Data/genres_original/jazz/jazz.00047.wav  \n",
            "  inflating: Data/genres_original/jazz/jazz.00048.wav  \n",
            "  inflating: Data/genres_original/jazz/jazz.00049.wav  \n",
            "  inflating: Data/genres_original/jazz/jazz.00050.wav  \n",
            "  inflating: Data/genres_original/jazz/jazz.00051.wav  \n",
            "  inflating: Data/genres_original/jazz/jazz.00052.wav  \n",
            "  inflating: Data/genres_original/jazz/jazz.00053.wav  \n",
            "  inflating: Data/genres_original/jazz/jazz.00054.wav  \n",
            "  inflating: Data/genres_original/jazz/jazz.00055.wav  \n",
            "  inflating: Data/genres_original/jazz/jazz.00056.wav  \n",
            "  inflating: Data/genres_original/jazz/jazz.00057.wav  \n",
            "  inflating: Data/genres_original/jazz/jazz.00058.wav  \n",
            "  inflating: Data/genres_original/jazz/jazz.00059.wav  \n",
            "  inflating: Data/genres_original/jazz/jazz.00060.wav  \n",
            "  inflating: Data/genres_original/jazz/jazz.00061.wav  \n",
            "  inflating: Data/genres_original/jazz/jazz.00062.wav  \n",
            "  inflating: Data/genres_original/jazz/jazz.00063.wav  \n",
            "  inflating: Data/genres_original/jazz/jazz.00064.wav  \n",
            "  inflating: Data/genres_original/jazz/jazz.00065.wav  \n",
            "  inflating: Data/genres_original/jazz/jazz.00066.wav  \n",
            "  inflating: Data/genres_original/jazz/jazz.00067.wav  \n",
            "  inflating: Data/genres_original/jazz/jazz.00068.wav  \n",
            "  inflating: Data/genres_original/jazz/jazz.00069.wav  \n",
            "  inflating: Data/genres_original/jazz/jazz.00070.wav  \n",
            "  inflating: Data/genres_original/jazz/jazz.00071.wav  \n",
            "  inflating: Data/genres_original/jazz/jazz.00072.wav  \n",
            "  inflating: Data/genres_original/jazz/jazz.00073.wav  \n",
            "  inflating: Data/genres_original/jazz/jazz.00074.wav  \n",
            "  inflating: Data/genres_original/jazz/jazz.00075.wav  \n",
            "  inflating: Data/genres_original/jazz/jazz.00076.wav  \n",
            "  inflating: Data/genres_original/jazz/jazz.00077.wav  \n",
            "  inflating: Data/genres_original/jazz/jazz.00078.wav  \n",
            "  inflating: Data/genres_original/jazz/jazz.00079.wav  \n",
            "  inflating: Data/genres_original/jazz/jazz.00080.wav  \n",
            "  inflating: Data/genres_original/jazz/jazz.00081.wav  \n",
            "  inflating: Data/genres_original/jazz/jazz.00082.wav  \n",
            "  inflating: Data/genres_original/jazz/jazz.00083.wav  \n",
            "  inflating: Data/genres_original/jazz/jazz.00084.wav  \n",
            "  inflating: Data/genres_original/jazz/jazz.00085.wav  \n",
            "  inflating: Data/genres_original/jazz/jazz.00086.wav  \n",
            "  inflating: Data/genres_original/jazz/jazz.00087.wav  \n",
            "  inflating: Data/genres_original/jazz/jazz.00088.wav  \n",
            "  inflating: Data/genres_original/jazz/jazz.00089.wav  \n",
            "  inflating: Data/genres_original/jazz/jazz.00090.wav  \n",
            "  inflating: Data/genres_original/jazz/jazz.00091.wav  \n",
            "  inflating: Data/genres_original/jazz/jazz.00092.wav  \n",
            "  inflating: Data/genres_original/jazz/jazz.00093.wav  \n",
            "  inflating: Data/genres_original/jazz/jazz.00094.wav  \n",
            "  inflating: Data/genres_original/jazz/jazz.00095.wav  \n",
            "  inflating: Data/genres_original/jazz/jazz.00096.wav  \n",
            "  inflating: Data/genres_original/jazz/jazz.00097.wav  \n",
            "  inflating: Data/genres_original/jazz/jazz.00098.wav  \n",
            "  inflating: Data/genres_original/jazz/jazz.00099.wav  \n",
            "  inflating: Data/genres_original/metal/metal.00000.wav  \n",
            "  inflating: Data/genres_original/metal/metal.00001.wav  \n",
            "  inflating: Data/genres_original/metal/metal.00002.wav  \n",
            "  inflating: Data/genres_original/metal/metal.00003.wav  \n",
            "  inflating: Data/genres_original/metal/metal.00004.wav  \n",
            "  inflating: Data/genres_original/metal/metal.00005.wav  \n",
            "  inflating: Data/genres_original/metal/metal.00006.wav  \n",
            "  inflating: Data/genres_original/metal/metal.00007.wav  \n",
            "  inflating: Data/genres_original/metal/metal.00008.wav  \n",
            "  inflating: Data/genres_original/metal/metal.00009.wav  \n",
            "  inflating: Data/genres_original/metal/metal.00010.wav  \n",
            "  inflating: Data/genres_original/metal/metal.00011.wav  \n",
            "  inflating: Data/genres_original/metal/metal.00012.wav  \n",
            "  inflating: Data/genres_original/metal/metal.00013.wav  \n",
            "  inflating: Data/genres_original/metal/metal.00014.wav  \n",
            "  inflating: Data/genres_original/metal/metal.00015.wav  \n",
            "  inflating: Data/genres_original/metal/metal.00016.wav  \n",
            "  inflating: Data/genres_original/metal/metal.00017.wav  \n",
            "  inflating: Data/genres_original/metal/metal.00018.wav  \n",
            "  inflating: Data/genres_original/metal/metal.00019.wav  \n",
            "  inflating: Data/genres_original/metal/metal.00020.wav  \n",
            "  inflating: Data/genres_original/metal/metal.00021.wav  \n",
            "  inflating: Data/genres_original/metal/metal.00022.wav  \n",
            "  inflating: Data/genres_original/metal/metal.00023.wav  \n",
            "  inflating: Data/genres_original/metal/metal.00024.wav  \n",
            "  inflating: Data/genres_original/metal/metal.00025.wav  \n",
            "  inflating: Data/genres_original/metal/metal.00026.wav  \n",
            "  inflating: Data/genres_original/metal/metal.00027.wav  \n",
            "  inflating: Data/genres_original/metal/metal.00028.wav  \n",
            "  inflating: Data/genres_original/metal/metal.00029.wav  \n",
            "  inflating: Data/genres_original/metal/metal.00030.wav  \n",
            "  inflating: Data/genres_original/metal/metal.00031.wav  \n",
            "  inflating: Data/genres_original/metal/metal.00032.wav  \n",
            "  inflating: Data/genres_original/metal/metal.00033.wav  \n",
            "  inflating: Data/genres_original/metal/metal.00034.wav  \n",
            "  inflating: Data/genres_original/metal/metal.00035.wav  \n",
            "  inflating: Data/genres_original/metal/metal.00036.wav  \n",
            "  inflating: Data/genres_original/metal/metal.00037.wav  \n",
            "  inflating: Data/genres_original/metal/metal.00038.wav  \n",
            "  inflating: Data/genres_original/metal/metal.00039.wav  \n",
            "  inflating: Data/genres_original/metal/metal.00040.wav  \n",
            "  inflating: Data/genres_original/metal/metal.00041.wav  \n",
            "  inflating: Data/genres_original/metal/metal.00042.wav  \n",
            "  inflating: Data/genres_original/metal/metal.00043.wav  \n",
            "  inflating: Data/genres_original/metal/metal.00044.wav  \n",
            "  inflating: Data/genres_original/metal/metal.00045.wav  \n",
            "  inflating: Data/genres_original/metal/metal.00046.wav  \n",
            "  inflating: Data/genres_original/metal/metal.00047.wav  \n",
            "  inflating: Data/genres_original/metal/metal.00048.wav  \n",
            "  inflating: Data/genres_original/metal/metal.00049.wav  \n",
            "  inflating: Data/genres_original/metal/metal.00050.wav  \n",
            "  inflating: Data/genres_original/metal/metal.00051.wav  \n",
            "  inflating: Data/genres_original/metal/metal.00052.wav  \n",
            "  inflating: Data/genres_original/metal/metal.00053.wav  \n",
            "  inflating: Data/genres_original/metal/metal.00054.wav  \n",
            "  inflating: Data/genres_original/metal/metal.00055.wav  \n",
            "  inflating: Data/genres_original/metal/metal.00056.wav  \n",
            "  inflating: Data/genres_original/metal/metal.00057.wav  \n",
            "  inflating: Data/genres_original/metal/metal.00058.wav  \n",
            "  inflating: Data/genres_original/metal/metal.00059.wav  \n",
            "  inflating: Data/genres_original/metal/metal.00060.wav  \n",
            "  inflating: Data/genres_original/metal/metal.00061.wav  \n",
            "  inflating: Data/genres_original/metal/metal.00062.wav  \n",
            "  inflating: Data/genres_original/metal/metal.00063.wav  \n",
            "  inflating: Data/genres_original/metal/metal.00064.wav  \n",
            "  inflating: Data/genres_original/metal/metal.00065.wav  \n",
            "  inflating: Data/genres_original/metal/metal.00066.wav  \n",
            "  inflating: Data/genres_original/metal/metal.00067.wav  \n",
            "  inflating: Data/genres_original/metal/metal.00068.wav  \n",
            "  inflating: Data/genres_original/metal/metal.00069.wav  \n",
            "  inflating: Data/genres_original/metal/metal.00070.wav  \n",
            "  inflating: Data/genres_original/metal/metal.00071.wav  \n",
            "  inflating: Data/genres_original/metal/metal.00072.wav  \n",
            "  inflating: Data/genres_original/metal/metal.00073.wav  \n",
            "  inflating: Data/genres_original/metal/metal.00074.wav  \n",
            "  inflating: Data/genres_original/metal/metal.00075.wav  \n",
            "  inflating: Data/genres_original/metal/metal.00076.wav  \n",
            "  inflating: Data/genres_original/metal/metal.00077.wav  \n",
            "  inflating: Data/genres_original/metal/metal.00078.wav  \n",
            "  inflating: Data/genres_original/metal/metal.00079.wav  \n",
            "  inflating: Data/genres_original/metal/metal.00080.wav  \n",
            "  inflating: Data/genres_original/metal/metal.00081.wav  \n",
            "  inflating: Data/genres_original/metal/metal.00082.wav  \n",
            "  inflating: Data/genres_original/metal/metal.00083.wav  \n",
            "  inflating: Data/genres_original/metal/metal.00084.wav  \n",
            "  inflating: Data/genres_original/metal/metal.00085.wav  \n",
            "  inflating: Data/genres_original/metal/metal.00086.wav  \n",
            "  inflating: Data/genres_original/metal/metal.00087.wav  \n",
            "  inflating: Data/genres_original/metal/metal.00088.wav  \n",
            "  inflating: Data/genres_original/metal/metal.00089.wav  \n",
            "  inflating: Data/genres_original/metal/metal.00090.wav  \n",
            "  inflating: Data/genres_original/metal/metal.00091.wav  \n",
            "  inflating: Data/genres_original/metal/metal.00092.wav  \n",
            "  inflating: Data/genres_original/metal/metal.00093.wav  \n",
            "  inflating: Data/genres_original/metal/metal.00094.wav  \n",
            "  inflating: Data/genres_original/metal/metal.00095.wav  \n",
            "  inflating: Data/genres_original/metal/metal.00096.wav  \n",
            "  inflating: Data/genres_original/metal/metal.00097.wav  \n",
            "  inflating: Data/genres_original/metal/metal.00098.wav  \n",
            "  inflating: Data/genres_original/metal/metal.00099.wav  \n",
            "  inflating: Data/genres_original/pop/pop.00000.wav  \n",
            "  inflating: Data/genres_original/pop/pop.00001.wav  \n",
            "  inflating: Data/genres_original/pop/pop.00002.wav  \n",
            "  inflating: Data/genres_original/pop/pop.00003.wav  \n",
            "  inflating: Data/genres_original/pop/pop.00004.wav  \n",
            "  inflating: Data/genres_original/pop/pop.00005.wav  \n",
            "  inflating: Data/genres_original/pop/pop.00006.wav  \n",
            "  inflating: Data/genres_original/pop/pop.00007.wav  \n",
            "  inflating: Data/genres_original/pop/pop.00008.wav  \n",
            "  inflating: Data/genres_original/pop/pop.00009.wav  \n",
            "  inflating: Data/genres_original/pop/pop.00010.wav  \n",
            "  inflating: Data/genres_original/pop/pop.00011.wav  \n",
            "  inflating: Data/genres_original/pop/pop.00012.wav  \n",
            "  inflating: Data/genres_original/pop/pop.00013.wav  \n",
            "  inflating: Data/genres_original/pop/pop.00014.wav  \n",
            "  inflating: Data/genres_original/pop/pop.00015.wav  \n",
            "  inflating: Data/genres_original/pop/pop.00016.wav  \n",
            "  inflating: Data/genres_original/pop/pop.00017.wav  \n",
            "  inflating: Data/genres_original/pop/pop.00018.wav  \n",
            "  inflating: Data/genres_original/pop/pop.00019.wav  \n",
            "  inflating: Data/genres_original/pop/pop.00020.wav  \n",
            "  inflating: Data/genres_original/pop/pop.00021.wav  \n",
            "  inflating: Data/genres_original/pop/pop.00022.wav  \n",
            "  inflating: Data/genres_original/pop/pop.00023.wav  \n",
            "  inflating: Data/genres_original/pop/pop.00024.wav  \n",
            "  inflating: Data/genres_original/pop/pop.00025.wav  \n",
            "  inflating: Data/genres_original/pop/pop.00026.wav  \n",
            "  inflating: Data/genres_original/pop/pop.00027.wav  \n",
            "  inflating: Data/genres_original/pop/pop.00028.wav  \n",
            "  inflating: Data/genres_original/pop/pop.00029.wav  \n",
            "  inflating: Data/genres_original/pop/pop.00030.wav  \n",
            "  inflating: Data/genres_original/pop/pop.00031.wav  \n",
            "  inflating: Data/genres_original/pop/pop.00032.wav  \n",
            "  inflating: Data/genres_original/pop/pop.00033.wav  \n",
            "  inflating: Data/genres_original/pop/pop.00034.wav  \n",
            "  inflating: Data/genres_original/pop/pop.00035.wav  \n",
            "  inflating: Data/genres_original/pop/pop.00036.wav  \n",
            "  inflating: Data/genres_original/pop/pop.00037.wav  \n",
            "  inflating: Data/genres_original/pop/pop.00038.wav  \n",
            "  inflating: Data/genres_original/pop/pop.00039.wav  \n",
            "  inflating: Data/genres_original/pop/pop.00040.wav  \n",
            "  inflating: Data/genres_original/pop/pop.00041.wav  \n",
            "  inflating: Data/genres_original/pop/pop.00042.wav  \n",
            "  inflating: Data/genres_original/pop/pop.00043.wav  \n",
            "  inflating: Data/genres_original/pop/pop.00044.wav  \n",
            "  inflating: Data/genres_original/pop/pop.00045.wav  \n",
            "  inflating: Data/genres_original/pop/pop.00046.wav  \n",
            "  inflating: Data/genres_original/pop/pop.00047.wav  \n",
            "  inflating: Data/genres_original/pop/pop.00048.wav  \n",
            "  inflating: Data/genres_original/pop/pop.00049.wav  \n",
            "  inflating: Data/genres_original/pop/pop.00050.wav  \n",
            "  inflating: Data/genres_original/pop/pop.00051.wav  \n",
            "  inflating: Data/genres_original/pop/pop.00052.wav  \n",
            "  inflating: Data/genres_original/pop/pop.00053.wav  \n",
            "  inflating: Data/genres_original/pop/pop.00054.wav  \n",
            "  inflating: Data/genres_original/pop/pop.00055.wav  \n",
            "  inflating: Data/genres_original/pop/pop.00056.wav  \n",
            "  inflating: Data/genres_original/pop/pop.00057.wav  \n",
            "  inflating: Data/genres_original/pop/pop.00058.wav  \n",
            "  inflating: Data/genres_original/pop/pop.00059.wav  \n",
            "  inflating: Data/genres_original/pop/pop.00060.wav  \n",
            "  inflating: Data/genres_original/pop/pop.00061.wav  \n",
            "  inflating: Data/genres_original/pop/pop.00062.wav  \n",
            "  inflating: Data/genres_original/pop/pop.00063.wav  \n",
            "  inflating: Data/genres_original/pop/pop.00064.wav  \n",
            "  inflating: Data/genres_original/pop/pop.00065.wav  \n",
            "  inflating: Data/genres_original/pop/pop.00066.wav  \n",
            "  inflating: Data/genres_original/pop/pop.00067.wav  \n",
            "  inflating: Data/genres_original/pop/pop.00068.wav  \n",
            "  inflating: Data/genres_original/pop/pop.00069.wav  \n",
            "  inflating: Data/genres_original/pop/pop.00070.wav  \n",
            "  inflating: Data/genres_original/pop/pop.00071.wav  \n",
            "  inflating: Data/genres_original/pop/pop.00072.wav  \n",
            "  inflating: Data/genres_original/pop/pop.00073.wav  \n",
            "  inflating: Data/genres_original/pop/pop.00074.wav  \n",
            "  inflating: Data/genres_original/pop/pop.00075.wav  \n",
            "  inflating: Data/genres_original/pop/pop.00076.wav  \n",
            "  inflating: Data/genres_original/pop/pop.00077.wav  \n",
            "  inflating: Data/genres_original/pop/pop.00078.wav  \n",
            "  inflating: Data/genres_original/pop/pop.00079.wav  \n",
            "  inflating: Data/genres_original/pop/pop.00080.wav  \n",
            "  inflating: Data/genres_original/pop/pop.00081.wav  \n",
            "  inflating: Data/genres_original/pop/pop.00082.wav  \n",
            "  inflating: Data/genres_original/pop/pop.00083.wav  \n",
            "  inflating: Data/genres_original/pop/pop.00084.wav  \n",
            "  inflating: Data/genres_original/pop/pop.00085.wav  \n",
            "  inflating: Data/genres_original/pop/pop.00086.wav  \n",
            "  inflating: Data/genres_original/pop/pop.00087.wav  \n",
            "  inflating: Data/genres_original/pop/pop.00088.wav  \n",
            "  inflating: Data/genres_original/pop/pop.00089.wav  \n",
            "  inflating: Data/genres_original/pop/pop.00090.wav  \n",
            "  inflating: Data/genres_original/pop/pop.00091.wav  \n",
            "  inflating: Data/genres_original/pop/pop.00092.wav  \n",
            "  inflating: Data/genres_original/pop/pop.00093.wav  \n",
            "  inflating: Data/genres_original/pop/pop.00094.wav  \n",
            "  inflating: Data/genres_original/pop/pop.00095.wav  \n",
            "  inflating: Data/genres_original/pop/pop.00096.wav  \n",
            "  inflating: Data/genres_original/pop/pop.00097.wav  \n",
            "  inflating: Data/genres_original/pop/pop.00098.wav  \n",
            "  inflating: Data/genres_original/pop/pop.00099.wav  \n",
            "  inflating: Data/genres_original/reggae/reggae.00000.wav  \n",
            "  inflating: Data/genres_original/reggae/reggae.00001.wav  \n",
            "  inflating: Data/genres_original/reggae/reggae.00002.wav  \n",
            "  inflating: Data/genres_original/reggae/reggae.00003.wav  \n",
            "  inflating: Data/genres_original/reggae/reggae.00004.wav  \n",
            "  inflating: Data/genres_original/reggae/reggae.00005.wav  \n",
            "  inflating: Data/genres_original/reggae/reggae.00006.wav  \n",
            "  inflating: Data/genres_original/reggae/reggae.00007.wav  \n",
            "  inflating: Data/genres_original/reggae/reggae.00008.wav  \n",
            "  inflating: Data/genres_original/reggae/reggae.00009.wav  \n",
            "  inflating: Data/genres_original/reggae/reggae.00010.wav  \n",
            "  inflating: Data/genres_original/reggae/reggae.00011.wav  \n",
            "  inflating: Data/genres_original/reggae/reggae.00012.wav  \n",
            "  inflating: Data/genres_original/reggae/reggae.00013.wav  \n",
            "  inflating: Data/genres_original/reggae/reggae.00014.wav  \n",
            "  inflating: Data/genres_original/reggae/reggae.00015.wav  \n",
            "  inflating: Data/genres_original/reggae/reggae.00016.wav  \n",
            "  inflating: Data/genres_original/reggae/reggae.00017.wav  \n",
            "  inflating: Data/genres_original/reggae/reggae.00018.wav  \n",
            "  inflating: Data/genres_original/reggae/reggae.00019.wav  \n",
            "  inflating: Data/genres_original/reggae/reggae.00020.wav  \n",
            "  inflating: Data/genres_original/reggae/reggae.00021.wav  \n",
            "  inflating: Data/genres_original/reggae/reggae.00022.wav  \n",
            "  inflating: Data/genres_original/reggae/reggae.00023.wav  \n",
            "  inflating: Data/genres_original/reggae/reggae.00024.wav  \n",
            "  inflating: Data/genres_original/reggae/reggae.00025.wav  \n",
            "  inflating: Data/genres_original/reggae/reggae.00026.wav  \n",
            "  inflating: Data/genres_original/reggae/reggae.00027.wav  \n",
            "  inflating: Data/genres_original/reggae/reggae.00028.wav  \n",
            "  inflating: Data/genres_original/reggae/reggae.00029.wav  \n",
            "  inflating: Data/genres_original/reggae/reggae.00030.wav  \n",
            "  inflating: Data/genres_original/reggae/reggae.00031.wav  \n",
            "  inflating: Data/genres_original/reggae/reggae.00032.wav  \n",
            "  inflating: Data/genres_original/reggae/reggae.00033.wav  \n",
            "  inflating: Data/genres_original/reggae/reggae.00034.wav  \n",
            "  inflating: Data/genres_original/reggae/reggae.00035.wav  \n",
            "  inflating: Data/genres_original/reggae/reggae.00036.wav  \n",
            "  inflating: Data/genres_original/reggae/reggae.00037.wav  \n",
            "  inflating: Data/genres_original/reggae/reggae.00038.wav  \n",
            "  inflating: Data/genres_original/reggae/reggae.00039.wav  \n",
            "  inflating: Data/genres_original/reggae/reggae.00040.wav  \n",
            "  inflating: Data/genres_original/reggae/reggae.00041.wav  \n",
            "  inflating: Data/genres_original/reggae/reggae.00042.wav  \n",
            "  inflating: Data/genres_original/reggae/reggae.00043.wav  \n",
            "  inflating: Data/genres_original/reggae/reggae.00044.wav  \n",
            "  inflating: Data/genres_original/reggae/reggae.00045.wav  \n",
            "  inflating: Data/genres_original/reggae/reggae.00046.wav  \n",
            "  inflating: Data/genres_original/reggae/reggae.00047.wav  \n",
            "  inflating: Data/genres_original/reggae/reggae.00048.wav  \n",
            "  inflating: Data/genres_original/reggae/reggae.00049.wav  \n",
            "  inflating: Data/genres_original/reggae/reggae.00050.wav  \n",
            "  inflating: Data/genres_original/reggae/reggae.00051.wav  \n",
            "  inflating: Data/genres_original/reggae/reggae.00052.wav  \n",
            "  inflating: Data/genres_original/reggae/reggae.00053.wav  \n",
            "  inflating: Data/genres_original/reggae/reggae.00054.wav  \n",
            "  inflating: Data/genres_original/reggae/reggae.00055.wav  \n",
            "  inflating: Data/genres_original/reggae/reggae.00056.wav  \n",
            "  inflating: Data/genres_original/reggae/reggae.00057.wav  \n",
            "  inflating: Data/genres_original/reggae/reggae.00058.wav  \n",
            "  inflating: Data/genres_original/reggae/reggae.00059.wav  \n",
            "  inflating: Data/genres_original/reggae/reggae.00060.wav  \n",
            "  inflating: Data/genres_original/reggae/reggae.00061.wav  \n",
            "  inflating: Data/genres_original/reggae/reggae.00062.wav  \n",
            "  inflating: Data/genres_original/reggae/reggae.00063.wav  \n",
            "  inflating: Data/genres_original/reggae/reggae.00064.wav  \n",
            "  inflating: Data/genres_original/reggae/reggae.00065.wav  \n",
            "  inflating: Data/genres_original/reggae/reggae.00066.wav  \n",
            "  inflating: Data/genres_original/reggae/reggae.00067.wav  \n",
            "  inflating: Data/genres_original/reggae/reggae.00068.wav  \n",
            "  inflating: Data/genres_original/reggae/reggae.00069.wav  \n",
            "  inflating: Data/genres_original/reggae/reggae.00070.wav  \n",
            "  inflating: Data/genres_original/reggae/reggae.00071.wav  \n",
            "  inflating: Data/genres_original/reggae/reggae.00072.wav  \n",
            "  inflating: Data/genres_original/reggae/reggae.00073.wav  \n",
            "  inflating: Data/genres_original/reggae/reggae.00074.wav  \n",
            "  inflating: Data/genres_original/reggae/reggae.00075.wav  \n",
            "  inflating: Data/genres_original/reggae/reggae.00076.wav  \n",
            "  inflating: Data/genres_original/reggae/reggae.00077.wav  \n",
            "  inflating: Data/genres_original/reggae/reggae.00078.wav  \n",
            "  inflating: Data/genres_original/reggae/reggae.00079.wav  \n",
            "  inflating: Data/genres_original/reggae/reggae.00080.wav  \n",
            "  inflating: Data/genres_original/reggae/reggae.00081.wav  \n",
            "  inflating: Data/genres_original/reggae/reggae.00082.wav  \n",
            "  inflating: Data/genres_original/reggae/reggae.00083.wav  \n",
            "  inflating: Data/genres_original/reggae/reggae.00084.wav  \n",
            "  inflating: Data/genres_original/reggae/reggae.00085.wav  \n",
            "  inflating: Data/genres_original/reggae/reggae.00086.wav  \n",
            "  inflating: Data/genres_original/reggae/reggae.00087.wav  \n",
            "  inflating: Data/genres_original/reggae/reggae.00088.wav  \n",
            "  inflating: Data/genres_original/reggae/reggae.00089.wav  \n",
            "  inflating: Data/genres_original/reggae/reggae.00090.wav  \n",
            "  inflating: Data/genres_original/reggae/reggae.00091.wav  \n",
            "  inflating: Data/genres_original/reggae/reggae.00092.wav  \n",
            "  inflating: Data/genres_original/reggae/reggae.00093.wav  \n",
            "  inflating: Data/genres_original/reggae/reggae.00094.wav  \n",
            "  inflating: Data/genres_original/reggae/reggae.00095.wav  \n",
            "  inflating: Data/genres_original/reggae/reggae.00096.wav  \n",
            "  inflating: Data/genres_original/reggae/reggae.00097.wav  \n",
            "  inflating: Data/genres_original/reggae/reggae.00098.wav  \n",
            "  inflating: Data/genres_original/reggae/reggae.00099.wav  \n",
            "  inflating: Data/genres_original/rock/rock.00000.wav  \n",
            "  inflating: Data/genres_original/rock/rock.00001.wav  \n",
            "  inflating: Data/genres_original/rock/rock.00002.wav  \n",
            "  inflating: Data/genres_original/rock/rock.00003.wav  \n",
            "  inflating: Data/genres_original/rock/rock.00004.wav  \n",
            "  inflating: Data/genres_original/rock/rock.00005.wav  \n",
            "  inflating: Data/genres_original/rock/rock.00006.wav  \n",
            "  inflating: Data/genres_original/rock/rock.00007.wav  \n",
            "  inflating: Data/genres_original/rock/rock.00008.wav  \n",
            "  inflating: Data/genres_original/rock/rock.00009.wav  \n",
            "  inflating: Data/genres_original/rock/rock.00010.wav  \n",
            "  inflating: Data/genres_original/rock/rock.00011.wav  \n",
            "  inflating: Data/genres_original/rock/rock.00012.wav  \n",
            "  inflating: Data/genres_original/rock/rock.00013.wav  \n",
            "  inflating: Data/genres_original/rock/rock.00014.wav  \n",
            "  inflating: Data/genres_original/rock/rock.00015.wav  \n",
            "  inflating: Data/genres_original/rock/rock.00016.wav  \n",
            "  inflating: Data/genres_original/rock/rock.00017.wav  \n",
            "  inflating: Data/genres_original/rock/rock.00018.wav  \n",
            "  inflating: Data/genres_original/rock/rock.00019.wav  \n",
            "  inflating: Data/genres_original/rock/rock.00020.wav  \n",
            "  inflating: Data/genres_original/rock/rock.00021.wav  \n",
            "  inflating: Data/genres_original/rock/rock.00022.wav  \n",
            "  inflating: Data/genres_original/rock/rock.00023.wav  \n",
            "  inflating: Data/genres_original/rock/rock.00024.wav  \n",
            "  inflating: Data/genres_original/rock/rock.00025.wav  \n",
            "  inflating: Data/genres_original/rock/rock.00026.wav  \n",
            "  inflating: Data/genres_original/rock/rock.00027.wav  \n",
            "  inflating: Data/genres_original/rock/rock.00028.wav  \n",
            "  inflating: Data/genres_original/rock/rock.00029.wav  \n",
            "  inflating: Data/genres_original/rock/rock.00030.wav  \n",
            "  inflating: Data/genres_original/rock/rock.00031.wav  \n",
            "  inflating: Data/genres_original/rock/rock.00032.wav  \n",
            "  inflating: Data/genres_original/rock/rock.00033.wav  \n",
            "  inflating: Data/genres_original/rock/rock.00034.wav  \n",
            "  inflating: Data/genres_original/rock/rock.00035.wav  \n",
            "  inflating: Data/genres_original/rock/rock.00036.wav  \n",
            "  inflating: Data/genres_original/rock/rock.00037.wav  \n",
            "  inflating: Data/genres_original/rock/rock.00038.wav  \n",
            "  inflating: Data/genres_original/rock/rock.00039.wav  \n",
            "  inflating: Data/genres_original/rock/rock.00040.wav  \n",
            "  inflating: Data/genres_original/rock/rock.00041.wav  \n",
            "  inflating: Data/genres_original/rock/rock.00042.wav  \n",
            "  inflating: Data/genres_original/rock/rock.00043.wav  \n",
            "  inflating: Data/genres_original/rock/rock.00044.wav  \n",
            "  inflating: Data/genres_original/rock/rock.00045.wav  \n",
            "  inflating: Data/genres_original/rock/rock.00046.wav  \n",
            "  inflating: Data/genres_original/rock/rock.00047.wav  \n",
            "  inflating: Data/genres_original/rock/rock.00048.wav  \n",
            "  inflating: Data/genres_original/rock/rock.00049.wav  \n",
            "  inflating: Data/genres_original/rock/rock.00050.wav  \n",
            "  inflating: Data/genres_original/rock/rock.00051.wav  \n",
            "  inflating: Data/genres_original/rock/rock.00052.wav  \n",
            "  inflating: Data/genres_original/rock/rock.00053.wav  \n",
            "  inflating: Data/genres_original/rock/rock.00054.wav  \n",
            "  inflating: Data/genres_original/rock/rock.00055.wav  \n",
            "  inflating: Data/genres_original/rock/rock.00056.wav  \n",
            "  inflating: Data/genres_original/rock/rock.00057.wav  \n",
            "  inflating: Data/genres_original/rock/rock.00058.wav  \n",
            "  inflating: Data/genres_original/rock/rock.00059.wav  \n",
            "  inflating: Data/genres_original/rock/rock.00060.wav  \n",
            "  inflating: Data/genres_original/rock/rock.00061.wav  \n",
            "  inflating: Data/genres_original/rock/rock.00062.wav  \n",
            "  inflating: Data/genres_original/rock/rock.00063.wav  \n",
            "  inflating: Data/genres_original/rock/rock.00064.wav  \n",
            "  inflating: Data/genres_original/rock/rock.00065.wav  \n",
            "  inflating: Data/genres_original/rock/rock.00066.wav  \n",
            "  inflating: Data/genres_original/rock/rock.00067.wav  \n",
            "  inflating: Data/genres_original/rock/rock.00068.wav  \n",
            "  inflating: Data/genres_original/rock/rock.00069.wav  \n",
            "  inflating: Data/genres_original/rock/rock.00070.wav  \n",
            "  inflating: Data/genres_original/rock/rock.00071.wav  \n",
            "  inflating: Data/genres_original/rock/rock.00072.wav  \n",
            "  inflating: Data/genres_original/rock/rock.00073.wav  \n",
            "  inflating: Data/genres_original/rock/rock.00074.wav  \n",
            "  inflating: Data/genres_original/rock/rock.00075.wav  \n",
            "  inflating: Data/genres_original/rock/rock.00076.wav  \n",
            "  inflating: Data/genres_original/rock/rock.00077.wav  \n",
            "  inflating: Data/genres_original/rock/rock.00078.wav  \n",
            "  inflating: Data/genres_original/rock/rock.00079.wav  \n",
            "  inflating: Data/genres_original/rock/rock.00080.wav  \n",
            "  inflating: Data/genres_original/rock/rock.00081.wav  \n",
            "  inflating: Data/genres_original/rock/rock.00082.wav  \n",
            "  inflating: Data/genres_original/rock/rock.00083.wav  \n",
            "  inflating: Data/genres_original/rock/rock.00084.wav  \n",
            "  inflating: Data/genres_original/rock/rock.00085.wav  \n",
            "  inflating: Data/genres_original/rock/rock.00086.wav  \n",
            "  inflating: Data/genres_original/rock/rock.00087.wav  \n",
            "  inflating: Data/genres_original/rock/rock.00088.wav  \n",
            "  inflating: Data/genres_original/rock/rock.00089.wav  \n",
            "  inflating: Data/genres_original/rock/rock.00090.wav  \n",
            "  inflating: Data/genres_original/rock/rock.00091.wav  \n",
            "  inflating: Data/genres_original/rock/rock.00092.wav  \n",
            "  inflating: Data/genres_original/rock/rock.00093.wav  \n",
            "  inflating: Data/genres_original/rock/rock.00094.wav  \n",
            "  inflating: Data/genres_original/rock/rock.00095.wav  \n",
            "  inflating: Data/genres_original/rock/rock.00096.wav  \n",
            "  inflating: Data/genres_original/rock/rock.00097.wav  \n",
            "  inflating: Data/genres_original/rock/rock.00098.wav  \n",
            "  inflating: Data/genres_original/rock/rock.00099.wav  \n",
            "  inflating: Data/images_original/blues/blues00000.png  \n",
            "  inflating: Data/images_original/blues/blues00001.png  \n",
            "  inflating: Data/images_original/blues/blues00002.png  \n",
            "  inflating: Data/images_original/blues/blues00003.png  \n",
            "  inflating: Data/images_original/blues/blues00004.png  \n",
            "  inflating: Data/images_original/blues/blues00005.png  \n",
            "  inflating: Data/images_original/blues/blues00006.png  \n",
            "  inflating: Data/images_original/blues/blues00007.png  \n",
            "  inflating: Data/images_original/blues/blues00008.png  \n",
            "  inflating: Data/images_original/blues/blues00009.png  \n",
            "  inflating: Data/images_original/blues/blues00010.png  \n",
            "  inflating: Data/images_original/blues/blues00011.png  \n",
            "  inflating: Data/images_original/blues/blues00012.png  \n",
            "  inflating: Data/images_original/blues/blues00013.png  \n",
            "  inflating: Data/images_original/blues/blues00014.png  \n",
            "  inflating: Data/images_original/blues/blues00015.png  \n",
            "  inflating: Data/images_original/blues/blues00016.png  \n",
            "  inflating: Data/images_original/blues/blues00017.png  \n",
            "  inflating: Data/images_original/blues/blues00018.png  \n",
            "  inflating: Data/images_original/blues/blues00019.png  \n",
            "  inflating: Data/images_original/blues/blues00020.png  \n",
            "  inflating: Data/images_original/blues/blues00021.png  \n",
            "  inflating: Data/images_original/blues/blues00022.png  \n",
            "  inflating: Data/images_original/blues/blues00023.png  \n",
            "  inflating: Data/images_original/blues/blues00024.png  \n",
            "  inflating: Data/images_original/blues/blues00025.png  \n",
            "  inflating: Data/images_original/blues/blues00026.png  \n",
            "  inflating: Data/images_original/blues/blues00027.png  \n",
            "  inflating: Data/images_original/blues/blues00028.png  \n",
            "  inflating: Data/images_original/blues/blues00029.png  \n",
            "  inflating: Data/images_original/blues/blues00030.png  \n",
            "  inflating: Data/images_original/blues/blues00031.png  \n",
            "  inflating: Data/images_original/blues/blues00032.png  \n",
            "  inflating: Data/images_original/blues/blues00033.png  \n",
            "  inflating: Data/images_original/blues/blues00034.png  \n",
            "  inflating: Data/images_original/blues/blues00035.png  \n",
            "  inflating: Data/images_original/blues/blues00036.png  \n",
            "  inflating: Data/images_original/blues/blues00037.png  \n",
            "  inflating: Data/images_original/blues/blues00038.png  \n",
            "  inflating: Data/images_original/blues/blues00039.png  \n",
            "  inflating: Data/images_original/blues/blues00040.png  \n",
            "  inflating: Data/images_original/blues/blues00041.png  \n",
            "  inflating: Data/images_original/blues/blues00042.png  \n",
            "  inflating: Data/images_original/blues/blues00043.png  \n",
            "  inflating: Data/images_original/blues/blues00044.png  \n",
            "  inflating: Data/images_original/blues/blues00045.png  \n",
            "  inflating: Data/images_original/blues/blues00046.png  \n",
            "  inflating: Data/images_original/blues/blues00047.png  \n",
            "  inflating: Data/images_original/blues/blues00048.png  \n",
            "  inflating: Data/images_original/blues/blues00049.png  \n",
            "  inflating: Data/images_original/blues/blues00050.png  \n",
            "  inflating: Data/images_original/blues/blues00051.png  \n",
            "  inflating: Data/images_original/blues/blues00052.png  \n",
            "  inflating: Data/images_original/blues/blues00053.png  \n",
            "  inflating: Data/images_original/blues/blues00054.png  \n",
            "  inflating: Data/images_original/blues/blues00055.png  \n",
            "  inflating: Data/images_original/blues/blues00056.png  \n",
            "  inflating: Data/images_original/blues/blues00057.png  \n",
            "  inflating: Data/images_original/blues/blues00058.png  \n",
            "  inflating: Data/images_original/blues/blues00059.png  \n",
            "  inflating: Data/images_original/blues/blues00060.png  \n",
            "  inflating: Data/images_original/blues/blues00061.png  \n",
            "  inflating: Data/images_original/blues/blues00062.png  \n",
            "  inflating: Data/images_original/blues/blues00063.png  \n",
            "  inflating: Data/images_original/blues/blues00064.png  \n",
            "  inflating: Data/images_original/blues/blues00065.png  \n",
            "  inflating: Data/images_original/blues/blues00066.png  \n",
            "  inflating: Data/images_original/blues/blues00067.png  \n",
            "  inflating: Data/images_original/blues/blues00068.png  \n",
            "  inflating: Data/images_original/blues/blues00069.png  \n",
            "  inflating: Data/images_original/blues/blues00070.png  \n",
            "  inflating: Data/images_original/blues/blues00071.png  \n",
            "  inflating: Data/images_original/blues/blues00072.png  \n",
            "  inflating: Data/images_original/blues/blues00073.png  \n",
            "  inflating: Data/images_original/blues/blues00074.png  \n",
            "  inflating: Data/images_original/blues/blues00075.png  \n",
            "  inflating: Data/images_original/blues/blues00076.png  \n",
            "  inflating: Data/images_original/blues/blues00077.png  \n",
            "  inflating: Data/images_original/blues/blues00078.png  \n",
            "  inflating: Data/images_original/blues/blues00079.png  \n",
            "  inflating: Data/images_original/blues/blues00080.png  \n",
            "  inflating: Data/images_original/blues/blues00081.png  \n",
            "  inflating: Data/images_original/blues/blues00082.png  \n",
            "  inflating: Data/images_original/blues/blues00083.png  \n",
            "  inflating: Data/images_original/blues/blues00084.png  \n",
            "  inflating: Data/images_original/blues/blues00085.png  \n",
            "  inflating: Data/images_original/blues/blues00086.png  \n",
            "  inflating: Data/images_original/blues/blues00087.png  \n",
            "  inflating: Data/images_original/blues/blues00088.png  \n",
            "  inflating: Data/images_original/blues/blues00089.png  \n",
            "  inflating: Data/images_original/blues/blues00090.png  \n",
            "  inflating: Data/images_original/blues/blues00091.png  \n",
            "  inflating: Data/images_original/blues/blues00092.png  \n",
            "  inflating: Data/images_original/blues/blues00093.png  \n",
            "  inflating: Data/images_original/blues/blues00094.png  \n",
            "  inflating: Data/images_original/blues/blues00095.png  \n",
            "  inflating: Data/images_original/blues/blues00096.png  \n",
            "  inflating: Data/images_original/blues/blues00097.png  \n",
            "  inflating: Data/images_original/blues/blues00098.png  \n",
            "  inflating: Data/images_original/blues/blues00099.png  \n",
            "  inflating: Data/images_original/classical/classical00000.png  \n",
            "  inflating: Data/images_original/classical/classical00001.png  \n",
            "  inflating: Data/images_original/classical/classical00002.png  \n",
            "  inflating: Data/images_original/classical/classical00003.png  \n",
            "  inflating: Data/images_original/classical/classical00004.png  \n",
            "  inflating: Data/images_original/classical/classical00005.png  \n",
            "  inflating: Data/images_original/classical/classical00006.png  \n",
            "  inflating: Data/images_original/classical/classical00007.png  \n",
            "  inflating: Data/images_original/classical/classical00008.png  \n",
            "  inflating: Data/images_original/classical/classical00009.png  \n",
            "  inflating: Data/images_original/classical/classical00010.png  \n",
            "  inflating: Data/images_original/classical/classical00011.png  \n",
            "  inflating: Data/images_original/classical/classical00012.png  \n",
            "  inflating: Data/images_original/classical/classical00013.png  \n",
            "  inflating: Data/images_original/classical/classical00014.png  \n",
            "  inflating: Data/images_original/classical/classical00015.png  \n",
            "  inflating: Data/images_original/classical/classical00016.png  \n",
            "  inflating: Data/images_original/classical/classical00017.png  \n",
            "  inflating: Data/images_original/classical/classical00018.png  \n",
            "  inflating: Data/images_original/classical/classical00019.png  \n",
            "  inflating: Data/images_original/classical/classical00020.png  \n",
            "  inflating: Data/images_original/classical/classical00021.png  \n",
            "  inflating: Data/images_original/classical/classical00022.png  \n",
            "  inflating: Data/images_original/classical/classical00023.png  \n",
            "  inflating: Data/images_original/classical/classical00024.png  \n",
            "  inflating: Data/images_original/classical/classical00025.png  \n",
            "  inflating: Data/images_original/classical/classical00026.png  \n",
            "  inflating: Data/images_original/classical/classical00027.png  \n",
            "  inflating: Data/images_original/classical/classical00028.png  \n",
            "  inflating: Data/images_original/classical/classical00029.png  \n",
            "  inflating: Data/images_original/classical/classical00030.png  \n",
            "  inflating: Data/images_original/classical/classical00031.png  \n",
            "  inflating: Data/images_original/classical/classical00032.png  \n",
            "  inflating: Data/images_original/classical/classical00033.png  \n",
            "  inflating: Data/images_original/classical/classical00034.png  \n",
            "  inflating: Data/images_original/classical/classical00035.png  \n",
            "  inflating: Data/images_original/classical/classical00036.png  \n",
            "  inflating: Data/images_original/classical/classical00037.png  \n",
            "  inflating: Data/images_original/classical/classical00038.png  \n",
            "  inflating: Data/images_original/classical/classical00039.png  \n",
            "  inflating: Data/images_original/classical/classical00040.png  \n",
            "  inflating: Data/images_original/classical/classical00041.png  \n",
            "  inflating: Data/images_original/classical/classical00042.png  \n",
            "  inflating: Data/images_original/classical/classical00043.png  \n",
            "  inflating: Data/images_original/classical/classical00044.png  \n",
            "  inflating: Data/images_original/classical/classical00045.png  \n",
            "  inflating: Data/images_original/classical/classical00046.png  \n",
            "  inflating: Data/images_original/classical/classical00047.png  \n",
            "  inflating: Data/images_original/classical/classical00048.png  \n",
            "  inflating: Data/images_original/classical/classical00049.png  \n",
            "  inflating: Data/images_original/classical/classical00050.png  \n",
            "  inflating: Data/images_original/classical/classical00051.png  \n",
            "  inflating: Data/images_original/classical/classical00052.png  \n",
            "  inflating: Data/images_original/classical/classical00053.png  \n",
            "  inflating: Data/images_original/classical/classical00054.png  \n",
            "  inflating: Data/images_original/classical/classical00055.png  \n",
            "  inflating: Data/images_original/classical/classical00056.png  \n",
            "  inflating: Data/images_original/classical/classical00057.png  \n",
            "  inflating: Data/images_original/classical/classical00058.png  \n",
            "  inflating: Data/images_original/classical/classical00059.png  \n",
            "  inflating: Data/images_original/classical/classical00060.png  \n",
            "  inflating: Data/images_original/classical/classical00061.png  \n",
            "  inflating: Data/images_original/classical/classical00062.png  \n",
            "  inflating: Data/images_original/classical/classical00063.png  \n",
            "  inflating: Data/images_original/classical/classical00064.png  \n",
            "  inflating: Data/images_original/classical/classical00065.png  \n",
            "  inflating: Data/images_original/classical/classical00066.png  \n",
            "  inflating: Data/images_original/classical/classical00067.png  \n",
            "  inflating: Data/images_original/classical/classical00068.png  \n",
            "  inflating: Data/images_original/classical/classical00069.png  \n",
            "  inflating: Data/images_original/classical/classical00070.png  \n",
            "  inflating: Data/images_original/classical/classical00071.png  \n",
            "  inflating: Data/images_original/classical/classical00072.png  \n",
            "  inflating: Data/images_original/classical/classical00073.png  \n",
            "  inflating: Data/images_original/classical/classical00074.png  \n",
            "  inflating: Data/images_original/classical/classical00075.png  \n",
            "  inflating: Data/images_original/classical/classical00076.png  \n",
            "  inflating: Data/images_original/classical/classical00077.png  \n",
            "  inflating: Data/images_original/classical/classical00078.png  \n",
            "  inflating: Data/images_original/classical/classical00079.png  \n",
            "  inflating: Data/images_original/classical/classical00080.png  \n",
            "  inflating: Data/images_original/classical/classical00081.png  \n",
            "  inflating: Data/images_original/classical/classical00082.png  \n",
            "  inflating: Data/images_original/classical/classical00083.png  \n",
            "  inflating: Data/images_original/classical/classical00084.png  \n",
            "  inflating: Data/images_original/classical/classical00085.png  \n",
            "  inflating: Data/images_original/classical/classical00086.png  \n",
            "  inflating: Data/images_original/classical/classical00087.png  \n",
            "  inflating: Data/images_original/classical/classical00088.png  \n",
            "  inflating: Data/images_original/classical/classical00089.png  \n",
            "  inflating: Data/images_original/classical/classical00090.png  \n",
            "  inflating: Data/images_original/classical/classical00091.png  \n",
            "  inflating: Data/images_original/classical/classical00092.png  \n",
            "  inflating: Data/images_original/classical/classical00093.png  \n",
            "  inflating: Data/images_original/classical/classical00094.png  \n",
            "  inflating: Data/images_original/classical/classical00095.png  \n",
            "  inflating: Data/images_original/classical/classical00096.png  \n",
            "  inflating: Data/images_original/classical/classical00097.png  \n",
            "  inflating: Data/images_original/classical/classical00098.png  \n",
            "  inflating: Data/images_original/classical/classical00099.png  \n",
            "  inflating: Data/images_original/country/country00000.png  \n",
            "  inflating: Data/images_original/country/country00001.png  \n",
            "  inflating: Data/images_original/country/country00002.png  \n",
            "  inflating: Data/images_original/country/country00003.png  \n",
            "  inflating: Data/images_original/country/country00004.png  \n",
            "  inflating: Data/images_original/country/country00005.png  \n",
            "  inflating: Data/images_original/country/country00006.png  \n",
            "  inflating: Data/images_original/country/country00007.png  \n",
            "  inflating: Data/images_original/country/country00008.png  \n",
            "  inflating: Data/images_original/country/country00009.png  \n",
            "  inflating: Data/images_original/country/country00010.png  \n",
            "  inflating: Data/images_original/country/country00011.png  \n",
            "  inflating: Data/images_original/country/country00012.png  \n",
            "  inflating: Data/images_original/country/country00013.png  \n",
            "  inflating: Data/images_original/country/country00014.png  \n",
            "  inflating: Data/images_original/country/country00015.png  \n",
            "  inflating: Data/images_original/country/country00016.png  \n",
            "  inflating: Data/images_original/country/country00017.png  \n",
            "  inflating: Data/images_original/country/country00018.png  \n",
            "  inflating: Data/images_original/country/country00019.png  \n",
            "  inflating: Data/images_original/country/country00020.png  \n",
            "  inflating: Data/images_original/country/country00021.png  \n",
            "  inflating: Data/images_original/country/country00022.png  \n",
            "  inflating: Data/images_original/country/country00023.png  \n",
            "  inflating: Data/images_original/country/country00024.png  \n",
            "  inflating: Data/images_original/country/country00025.png  \n",
            "  inflating: Data/images_original/country/country00026.png  \n",
            "  inflating: Data/images_original/country/country00027.png  \n",
            "  inflating: Data/images_original/country/country00028.png  \n",
            "  inflating: Data/images_original/country/country00029.png  \n",
            "  inflating: Data/images_original/country/country00030.png  \n",
            "  inflating: Data/images_original/country/country00031.png  \n",
            "  inflating: Data/images_original/country/country00032.png  \n",
            "  inflating: Data/images_original/country/country00033.png  \n",
            "  inflating: Data/images_original/country/country00034.png  \n",
            "  inflating: Data/images_original/country/country00035.png  \n",
            "  inflating: Data/images_original/country/country00036.png  \n",
            "  inflating: Data/images_original/country/country00037.png  \n",
            "  inflating: Data/images_original/country/country00038.png  \n",
            "  inflating: Data/images_original/country/country00039.png  \n",
            "  inflating: Data/images_original/country/country00040.png  \n",
            "  inflating: Data/images_original/country/country00041.png  \n",
            "  inflating: Data/images_original/country/country00042.png  \n",
            "  inflating: Data/images_original/country/country00043.png  \n",
            "  inflating: Data/images_original/country/country00044.png  \n",
            "  inflating: Data/images_original/country/country00045.png  \n",
            "  inflating: Data/images_original/country/country00046.png  \n",
            "  inflating: Data/images_original/country/country00047.png  \n",
            "  inflating: Data/images_original/country/country00048.png  \n",
            "  inflating: Data/images_original/country/country00049.png  \n",
            "  inflating: Data/images_original/country/country00050.png  \n",
            "  inflating: Data/images_original/country/country00051.png  \n",
            "  inflating: Data/images_original/country/country00052.png  \n",
            "  inflating: Data/images_original/country/country00053.png  \n",
            "  inflating: Data/images_original/country/country00054.png  \n",
            "  inflating: Data/images_original/country/country00055.png  \n",
            "  inflating: Data/images_original/country/country00056.png  \n",
            "  inflating: Data/images_original/country/country00057.png  \n",
            "  inflating: Data/images_original/country/country00058.png  \n",
            "  inflating: Data/images_original/country/country00059.png  \n",
            "  inflating: Data/images_original/country/country00060.png  \n",
            "  inflating: Data/images_original/country/country00061.png  \n",
            "  inflating: Data/images_original/country/country00062.png  \n",
            "  inflating: Data/images_original/country/country00063.png  \n",
            "  inflating: Data/images_original/country/country00064.png  \n",
            "  inflating: Data/images_original/country/country00065.png  \n",
            "  inflating: Data/images_original/country/country00066.png  \n",
            "  inflating: Data/images_original/country/country00067.png  \n",
            "  inflating: Data/images_original/country/country00068.png  \n",
            "  inflating: Data/images_original/country/country00069.png  \n",
            "  inflating: Data/images_original/country/country00070.png  \n",
            "  inflating: Data/images_original/country/country00071.png  \n",
            "  inflating: Data/images_original/country/country00072.png  \n",
            "  inflating: Data/images_original/country/country00073.png  \n",
            "  inflating: Data/images_original/country/country00074.png  \n",
            "  inflating: Data/images_original/country/country00075.png  \n",
            "  inflating: Data/images_original/country/country00076.png  \n",
            "  inflating: Data/images_original/country/country00077.png  \n",
            "  inflating: Data/images_original/country/country00078.png  \n",
            "  inflating: Data/images_original/country/country00079.png  \n",
            "  inflating: Data/images_original/country/country00080.png  \n",
            "  inflating: Data/images_original/country/country00081.png  \n",
            "  inflating: Data/images_original/country/country00082.png  \n",
            "  inflating: Data/images_original/country/country00083.png  \n",
            "  inflating: Data/images_original/country/country00084.png  \n",
            "  inflating: Data/images_original/country/country00085.png  \n",
            "  inflating: Data/images_original/country/country00086.png  \n",
            "  inflating: Data/images_original/country/country00087.png  \n",
            "  inflating: Data/images_original/country/country00088.png  \n",
            "  inflating: Data/images_original/country/country00089.png  \n",
            "  inflating: Data/images_original/country/country00090.png  \n",
            "  inflating: Data/images_original/country/country00091.png  \n",
            "  inflating: Data/images_original/country/country00092.png  \n",
            "  inflating: Data/images_original/country/country00093.png  \n",
            "  inflating: Data/images_original/country/country00094.png  \n",
            "  inflating: Data/images_original/country/country00095.png  \n",
            "  inflating: Data/images_original/country/country00096.png  \n",
            "  inflating: Data/images_original/country/country00097.png  \n",
            "  inflating: Data/images_original/country/country00098.png  \n",
            "  inflating: Data/images_original/country/country00099.png  \n",
            "  inflating: Data/images_original/disco/disco00000.png  \n",
            "  inflating: Data/images_original/disco/disco00001.png  \n",
            "  inflating: Data/images_original/disco/disco00002.png  \n",
            "  inflating: Data/images_original/disco/disco00003.png  \n",
            "  inflating: Data/images_original/disco/disco00004.png  \n",
            "  inflating: Data/images_original/disco/disco00005.png  \n",
            "  inflating: Data/images_original/disco/disco00006.png  \n",
            "  inflating: Data/images_original/disco/disco00007.png  \n",
            "  inflating: Data/images_original/disco/disco00008.png  \n",
            "  inflating: Data/images_original/disco/disco00009.png  \n",
            "  inflating: Data/images_original/disco/disco00010.png  \n",
            "  inflating: Data/images_original/disco/disco00011.png  \n",
            "  inflating: Data/images_original/disco/disco00012.png  \n",
            "  inflating: Data/images_original/disco/disco00013.png  \n",
            "  inflating: Data/images_original/disco/disco00014.png  \n",
            "  inflating: Data/images_original/disco/disco00015.png  \n",
            "  inflating: Data/images_original/disco/disco00016.png  \n",
            "  inflating: Data/images_original/disco/disco00017.png  \n",
            "  inflating: Data/images_original/disco/disco00018.png  \n",
            "  inflating: Data/images_original/disco/disco00019.png  \n",
            "  inflating: Data/images_original/disco/disco00020.png  \n",
            "  inflating: Data/images_original/disco/disco00021.png  \n",
            "  inflating: Data/images_original/disco/disco00022.png  \n",
            "  inflating: Data/images_original/disco/disco00023.png  \n",
            "  inflating: Data/images_original/disco/disco00024.png  \n",
            "  inflating: Data/images_original/disco/disco00025.png  \n",
            "  inflating: Data/images_original/disco/disco00026.png  \n",
            "  inflating: Data/images_original/disco/disco00027.png  \n",
            "  inflating: Data/images_original/disco/disco00028.png  \n",
            "  inflating: Data/images_original/disco/disco00029.png  \n",
            "  inflating: Data/images_original/disco/disco00030.png  \n",
            "  inflating: Data/images_original/disco/disco00031.png  \n",
            "  inflating: Data/images_original/disco/disco00032.png  \n",
            "  inflating: Data/images_original/disco/disco00033.png  \n",
            "  inflating: Data/images_original/disco/disco00034.png  \n",
            "  inflating: Data/images_original/disco/disco00035.png  \n",
            "  inflating: Data/images_original/disco/disco00036.png  \n",
            "  inflating: Data/images_original/disco/disco00037.png  \n",
            "  inflating: Data/images_original/disco/disco00038.png  \n",
            "  inflating: Data/images_original/disco/disco00039.png  \n",
            "  inflating: Data/images_original/disco/disco00040.png  \n",
            "  inflating: Data/images_original/disco/disco00041.png  \n",
            "  inflating: Data/images_original/disco/disco00042.png  \n",
            "  inflating: Data/images_original/disco/disco00043.png  \n",
            "  inflating: Data/images_original/disco/disco00044.png  \n",
            "  inflating: Data/images_original/disco/disco00045.png  \n",
            "  inflating: Data/images_original/disco/disco00046.png  \n",
            "  inflating: Data/images_original/disco/disco00047.png  \n",
            "  inflating: Data/images_original/disco/disco00048.png  \n",
            "  inflating: Data/images_original/disco/disco00049.png  \n",
            "  inflating: Data/images_original/disco/disco00050.png  \n",
            "  inflating: Data/images_original/disco/disco00051.png  \n",
            "  inflating: Data/images_original/disco/disco00052.png  \n",
            "  inflating: Data/images_original/disco/disco00053.png  \n",
            "  inflating: Data/images_original/disco/disco00054.png  \n",
            "  inflating: Data/images_original/disco/disco00055.png  \n",
            "  inflating: Data/images_original/disco/disco00056.png  \n",
            "  inflating: Data/images_original/disco/disco00057.png  \n",
            "  inflating: Data/images_original/disco/disco00058.png  \n",
            "  inflating: Data/images_original/disco/disco00059.png  \n",
            "  inflating: Data/images_original/disco/disco00060.png  \n",
            "  inflating: Data/images_original/disco/disco00061.png  \n",
            "  inflating: Data/images_original/disco/disco00062.png  \n",
            "  inflating: Data/images_original/disco/disco00063.png  \n",
            "  inflating: Data/images_original/disco/disco00064.png  \n",
            "  inflating: Data/images_original/disco/disco00065.png  \n",
            "  inflating: Data/images_original/disco/disco00066.png  \n",
            "  inflating: Data/images_original/disco/disco00067.png  \n",
            "  inflating: Data/images_original/disco/disco00068.png  \n",
            "  inflating: Data/images_original/disco/disco00069.png  \n",
            "  inflating: Data/images_original/disco/disco00070.png  \n",
            "  inflating: Data/images_original/disco/disco00071.png  \n",
            "  inflating: Data/images_original/disco/disco00072.png  \n",
            "  inflating: Data/images_original/disco/disco00073.png  \n",
            "  inflating: Data/images_original/disco/disco00074.png  \n",
            "  inflating: Data/images_original/disco/disco00075.png  \n",
            "  inflating: Data/images_original/disco/disco00076.png  \n",
            "  inflating: Data/images_original/disco/disco00077.png  \n",
            "  inflating: Data/images_original/disco/disco00078.png  \n",
            "  inflating: Data/images_original/disco/disco00079.png  \n",
            "  inflating: Data/images_original/disco/disco00080.png  \n",
            "  inflating: Data/images_original/disco/disco00081.png  \n",
            "  inflating: Data/images_original/disco/disco00082.png  \n",
            "  inflating: Data/images_original/disco/disco00083.png  \n",
            "  inflating: Data/images_original/disco/disco00084.png  \n",
            "  inflating: Data/images_original/disco/disco00085.png  \n",
            "  inflating: Data/images_original/disco/disco00086.png  \n",
            "  inflating: Data/images_original/disco/disco00087.png  \n",
            "  inflating: Data/images_original/disco/disco00088.png  \n",
            "  inflating: Data/images_original/disco/disco00089.png  \n",
            "  inflating: Data/images_original/disco/disco00090.png  \n",
            "  inflating: Data/images_original/disco/disco00091.png  \n",
            "  inflating: Data/images_original/disco/disco00092.png  \n",
            "  inflating: Data/images_original/disco/disco00093.png  \n",
            "  inflating: Data/images_original/disco/disco00094.png  \n",
            "  inflating: Data/images_original/disco/disco00095.png  \n",
            "  inflating: Data/images_original/disco/disco00096.png  \n",
            "  inflating: Data/images_original/disco/disco00097.png  \n",
            "  inflating: Data/images_original/disco/disco00098.png  \n",
            "  inflating: Data/images_original/disco/disco00099.png  \n",
            "  inflating: Data/images_original/hiphop/hiphop00000.png  \n",
            "  inflating: Data/images_original/hiphop/hiphop00001.png  \n",
            "  inflating: Data/images_original/hiphop/hiphop00002.png  \n",
            "  inflating: Data/images_original/hiphop/hiphop00003.png  \n",
            "  inflating: Data/images_original/hiphop/hiphop00004.png  \n",
            "  inflating: Data/images_original/hiphop/hiphop00005.png  \n",
            "  inflating: Data/images_original/hiphop/hiphop00006.png  \n",
            "  inflating: Data/images_original/hiphop/hiphop00007.png  \n",
            "  inflating: Data/images_original/hiphop/hiphop00008.png  \n",
            "  inflating: Data/images_original/hiphop/hiphop00009.png  \n",
            "  inflating: Data/images_original/hiphop/hiphop00010.png  \n",
            "  inflating: Data/images_original/hiphop/hiphop00011.png  \n",
            "  inflating: Data/images_original/hiphop/hiphop00012.png  \n",
            "  inflating: Data/images_original/hiphop/hiphop00013.png  \n",
            "  inflating: Data/images_original/hiphop/hiphop00014.png  \n",
            "  inflating: Data/images_original/hiphop/hiphop00015.png  \n",
            "  inflating: Data/images_original/hiphop/hiphop00016.png  \n",
            "  inflating: Data/images_original/hiphop/hiphop00017.png  \n",
            "  inflating: Data/images_original/hiphop/hiphop00018.png  \n",
            "  inflating: Data/images_original/hiphop/hiphop00019.png  \n",
            "  inflating: Data/images_original/hiphop/hiphop00020.png  \n",
            "  inflating: Data/images_original/hiphop/hiphop00021.png  \n",
            "  inflating: Data/images_original/hiphop/hiphop00022.png  \n",
            "  inflating: Data/images_original/hiphop/hiphop00023.png  \n",
            "  inflating: Data/images_original/hiphop/hiphop00024.png  \n",
            "  inflating: Data/images_original/hiphop/hiphop00025.png  \n",
            "  inflating: Data/images_original/hiphop/hiphop00026.png  \n",
            "  inflating: Data/images_original/hiphop/hiphop00027.png  \n",
            "  inflating: Data/images_original/hiphop/hiphop00028.png  \n",
            "  inflating: Data/images_original/hiphop/hiphop00029.png  \n",
            "  inflating: Data/images_original/hiphop/hiphop00030.png  \n",
            "  inflating: Data/images_original/hiphop/hiphop00031.png  \n",
            "  inflating: Data/images_original/hiphop/hiphop00032.png  \n",
            "  inflating: Data/images_original/hiphop/hiphop00033.png  \n",
            "  inflating: Data/images_original/hiphop/hiphop00034.png  \n",
            "  inflating: Data/images_original/hiphop/hiphop00035.png  \n",
            "  inflating: Data/images_original/hiphop/hiphop00036.png  \n",
            "  inflating: Data/images_original/hiphop/hiphop00037.png  \n",
            "  inflating: Data/images_original/hiphop/hiphop00038.png  \n",
            "  inflating: Data/images_original/hiphop/hiphop00039.png  \n",
            "  inflating: Data/images_original/hiphop/hiphop00040.png  \n",
            "  inflating: Data/images_original/hiphop/hiphop00041.png  \n",
            "  inflating: Data/images_original/hiphop/hiphop00042.png  \n",
            "  inflating: Data/images_original/hiphop/hiphop00043.png  \n",
            "  inflating: Data/images_original/hiphop/hiphop00044.png  \n",
            "  inflating: Data/images_original/hiphop/hiphop00045.png  \n",
            "  inflating: Data/images_original/hiphop/hiphop00046.png  \n",
            "  inflating: Data/images_original/hiphop/hiphop00047.png  \n",
            "  inflating: Data/images_original/hiphop/hiphop00048.png  \n",
            "  inflating: Data/images_original/hiphop/hiphop00049.png  \n",
            "  inflating: Data/images_original/hiphop/hiphop00050.png  \n",
            "  inflating: Data/images_original/hiphop/hiphop00051.png  \n",
            "  inflating: Data/images_original/hiphop/hiphop00052.png  \n",
            "  inflating: Data/images_original/hiphop/hiphop00053.png  \n",
            "  inflating: Data/images_original/hiphop/hiphop00054.png  \n",
            "  inflating: Data/images_original/hiphop/hiphop00055.png  \n",
            "  inflating: Data/images_original/hiphop/hiphop00056.png  \n",
            "  inflating: Data/images_original/hiphop/hiphop00057.png  \n",
            "  inflating: Data/images_original/hiphop/hiphop00058.png  \n",
            "  inflating: Data/images_original/hiphop/hiphop00059.png  \n",
            "  inflating: Data/images_original/hiphop/hiphop00060.png  \n",
            "  inflating: Data/images_original/hiphop/hiphop00061.png  \n",
            "  inflating: Data/images_original/hiphop/hiphop00062.png  \n",
            "  inflating: Data/images_original/hiphop/hiphop00063.png  \n",
            "  inflating: Data/images_original/hiphop/hiphop00064.png  \n",
            "  inflating: Data/images_original/hiphop/hiphop00065.png  \n",
            "  inflating: Data/images_original/hiphop/hiphop00066.png  \n",
            "  inflating: Data/images_original/hiphop/hiphop00067.png  \n",
            "  inflating: Data/images_original/hiphop/hiphop00068.png  \n",
            "  inflating: Data/images_original/hiphop/hiphop00069.png  \n",
            "  inflating: Data/images_original/hiphop/hiphop00070.png  \n",
            "  inflating: Data/images_original/hiphop/hiphop00071.png  \n",
            "  inflating: Data/images_original/hiphop/hiphop00072.png  \n",
            "  inflating: Data/images_original/hiphop/hiphop00073.png  \n",
            "  inflating: Data/images_original/hiphop/hiphop00074.png  \n",
            "  inflating: Data/images_original/hiphop/hiphop00075.png  \n",
            "  inflating: Data/images_original/hiphop/hiphop00076.png  \n",
            "  inflating: Data/images_original/hiphop/hiphop00077.png  \n",
            "  inflating: Data/images_original/hiphop/hiphop00078.png  \n",
            "  inflating: Data/images_original/hiphop/hiphop00079.png  \n",
            "  inflating: Data/images_original/hiphop/hiphop00080.png  \n",
            "  inflating: Data/images_original/hiphop/hiphop00081.png  \n",
            "  inflating: Data/images_original/hiphop/hiphop00082.png  \n",
            "  inflating: Data/images_original/hiphop/hiphop00083.png  \n",
            "  inflating: Data/images_original/hiphop/hiphop00084.png  \n",
            "  inflating: Data/images_original/hiphop/hiphop00085.png  \n",
            "  inflating: Data/images_original/hiphop/hiphop00086.png  \n",
            "  inflating: Data/images_original/hiphop/hiphop00087.png  \n",
            "  inflating: Data/images_original/hiphop/hiphop00088.png  \n",
            "  inflating: Data/images_original/hiphop/hiphop00089.png  \n",
            "  inflating: Data/images_original/hiphop/hiphop00090.png  \n",
            "  inflating: Data/images_original/hiphop/hiphop00091.png  \n",
            "  inflating: Data/images_original/hiphop/hiphop00092.png  \n",
            "  inflating: Data/images_original/hiphop/hiphop00093.png  \n",
            "  inflating: Data/images_original/hiphop/hiphop00094.png  \n",
            "  inflating: Data/images_original/hiphop/hiphop00095.png  \n",
            "  inflating: Data/images_original/hiphop/hiphop00096.png  \n",
            "  inflating: Data/images_original/hiphop/hiphop00097.png  \n",
            "  inflating: Data/images_original/hiphop/hiphop00098.png  \n",
            "  inflating: Data/images_original/hiphop/hiphop00099.png  \n",
            "  inflating: Data/images_original/jazz/jazz00000.png  \n",
            "  inflating: Data/images_original/jazz/jazz00001.png  \n",
            "  inflating: Data/images_original/jazz/jazz00002.png  \n",
            "  inflating: Data/images_original/jazz/jazz00003.png  \n",
            "  inflating: Data/images_original/jazz/jazz00004.png  \n",
            "  inflating: Data/images_original/jazz/jazz00005.png  \n",
            "  inflating: Data/images_original/jazz/jazz00006.png  \n",
            "  inflating: Data/images_original/jazz/jazz00007.png  \n",
            "  inflating: Data/images_original/jazz/jazz00008.png  \n",
            "  inflating: Data/images_original/jazz/jazz00009.png  \n",
            "  inflating: Data/images_original/jazz/jazz00010.png  \n",
            "  inflating: Data/images_original/jazz/jazz00011.png  \n",
            "  inflating: Data/images_original/jazz/jazz00012.png  \n",
            "  inflating: Data/images_original/jazz/jazz00013.png  \n",
            "  inflating: Data/images_original/jazz/jazz00014.png  \n",
            "  inflating: Data/images_original/jazz/jazz00015.png  \n",
            "  inflating: Data/images_original/jazz/jazz00016.png  \n",
            "  inflating: Data/images_original/jazz/jazz00017.png  \n",
            "  inflating: Data/images_original/jazz/jazz00018.png  \n",
            "  inflating: Data/images_original/jazz/jazz00019.png  \n",
            "  inflating: Data/images_original/jazz/jazz00020.png  \n",
            "  inflating: Data/images_original/jazz/jazz00021.png  \n",
            "  inflating: Data/images_original/jazz/jazz00022.png  \n",
            "  inflating: Data/images_original/jazz/jazz00023.png  \n",
            "  inflating: Data/images_original/jazz/jazz00024.png  \n",
            "  inflating: Data/images_original/jazz/jazz00025.png  \n",
            "  inflating: Data/images_original/jazz/jazz00026.png  \n",
            "  inflating: Data/images_original/jazz/jazz00027.png  \n",
            "  inflating: Data/images_original/jazz/jazz00028.png  \n",
            "  inflating: Data/images_original/jazz/jazz00029.png  \n",
            "  inflating: Data/images_original/jazz/jazz00030.png  \n",
            "  inflating: Data/images_original/jazz/jazz00031.png  \n",
            "  inflating: Data/images_original/jazz/jazz00032.png  \n",
            "  inflating: Data/images_original/jazz/jazz00033.png  \n",
            "  inflating: Data/images_original/jazz/jazz00034.png  \n",
            "  inflating: Data/images_original/jazz/jazz00035.png  \n",
            "  inflating: Data/images_original/jazz/jazz00036.png  \n",
            "  inflating: Data/images_original/jazz/jazz00037.png  \n",
            "  inflating: Data/images_original/jazz/jazz00038.png  \n",
            "  inflating: Data/images_original/jazz/jazz00039.png  \n",
            "  inflating: Data/images_original/jazz/jazz00040.png  \n",
            "  inflating: Data/images_original/jazz/jazz00041.png  \n",
            "  inflating: Data/images_original/jazz/jazz00042.png  \n",
            "  inflating: Data/images_original/jazz/jazz00043.png  \n",
            "  inflating: Data/images_original/jazz/jazz00044.png  \n",
            "  inflating: Data/images_original/jazz/jazz00045.png  \n",
            "  inflating: Data/images_original/jazz/jazz00046.png  \n",
            "  inflating: Data/images_original/jazz/jazz00047.png  \n",
            "  inflating: Data/images_original/jazz/jazz00048.png  \n",
            "  inflating: Data/images_original/jazz/jazz00049.png  \n",
            "  inflating: Data/images_original/jazz/jazz00050.png  \n",
            "  inflating: Data/images_original/jazz/jazz00051.png  \n",
            "  inflating: Data/images_original/jazz/jazz00052.png  \n",
            "  inflating: Data/images_original/jazz/jazz00053.png  \n",
            "  inflating: Data/images_original/jazz/jazz00055.png  \n",
            "  inflating: Data/images_original/jazz/jazz00056.png  \n",
            "  inflating: Data/images_original/jazz/jazz00057.png  \n",
            "  inflating: Data/images_original/jazz/jazz00058.png  \n",
            "  inflating: Data/images_original/jazz/jazz00059.png  \n",
            "  inflating: Data/images_original/jazz/jazz00060.png  \n",
            "  inflating: Data/images_original/jazz/jazz00061.png  \n",
            "  inflating: Data/images_original/jazz/jazz00062.png  \n",
            "  inflating: Data/images_original/jazz/jazz00063.png  \n",
            "  inflating: Data/images_original/jazz/jazz00064.png  \n",
            "  inflating: Data/images_original/jazz/jazz00065.png  \n",
            "  inflating: Data/images_original/jazz/jazz00066.png  \n",
            "  inflating: Data/images_original/jazz/jazz00067.png  \n",
            "  inflating: Data/images_original/jazz/jazz00068.png  \n",
            "  inflating: Data/images_original/jazz/jazz00069.png  \n",
            "  inflating: Data/images_original/jazz/jazz00070.png  \n",
            "  inflating: Data/images_original/jazz/jazz00071.png  \n",
            "  inflating: Data/images_original/jazz/jazz00072.png  \n",
            "  inflating: Data/images_original/jazz/jazz00073.png  \n",
            "  inflating: Data/images_original/jazz/jazz00074.png  \n",
            "  inflating: Data/images_original/jazz/jazz00075.png  \n",
            "  inflating: Data/images_original/jazz/jazz00076.png  \n",
            "  inflating: Data/images_original/jazz/jazz00077.png  \n",
            "  inflating: Data/images_original/jazz/jazz00078.png  \n",
            "  inflating: Data/images_original/jazz/jazz00079.png  \n",
            "  inflating: Data/images_original/jazz/jazz00080.png  \n",
            "  inflating: Data/images_original/jazz/jazz00081.png  \n",
            "  inflating: Data/images_original/jazz/jazz00082.png  \n",
            "  inflating: Data/images_original/jazz/jazz00083.png  \n",
            "  inflating: Data/images_original/jazz/jazz00084.png  \n",
            "  inflating: Data/images_original/jazz/jazz00085.png  \n",
            "  inflating: Data/images_original/jazz/jazz00086.png  \n",
            "  inflating: Data/images_original/jazz/jazz00087.png  \n",
            "  inflating: Data/images_original/jazz/jazz00088.png  \n",
            "  inflating: Data/images_original/jazz/jazz00089.png  \n",
            "  inflating: Data/images_original/jazz/jazz00090.png  \n",
            "  inflating: Data/images_original/jazz/jazz00091.png  \n",
            "  inflating: Data/images_original/jazz/jazz00092.png  \n",
            "  inflating: Data/images_original/jazz/jazz00093.png  \n",
            "  inflating: Data/images_original/jazz/jazz00094.png  \n",
            "  inflating: Data/images_original/jazz/jazz00095.png  \n",
            "  inflating: Data/images_original/jazz/jazz00096.png  \n",
            "  inflating: Data/images_original/jazz/jazz00097.png  \n",
            "  inflating: Data/images_original/jazz/jazz00098.png  \n",
            "  inflating: Data/images_original/jazz/jazz00099.png  \n",
            "  inflating: Data/images_original/metal/metal00000.png  \n",
            "  inflating: Data/images_original/metal/metal00001.png  \n",
            "  inflating: Data/images_original/metal/metal00002.png  \n",
            "  inflating: Data/images_original/metal/metal00003.png  \n",
            "  inflating: Data/images_original/metal/metal00004.png  \n",
            "  inflating: Data/images_original/metal/metal00005.png  \n",
            "  inflating: Data/images_original/metal/metal00006.png  \n",
            "  inflating: Data/images_original/metal/metal00007.png  \n",
            "  inflating: Data/images_original/metal/metal00008.png  \n",
            "  inflating: Data/images_original/metal/metal00009.png  \n",
            "  inflating: Data/images_original/metal/metal00010.png  \n",
            "  inflating: Data/images_original/metal/metal00011.png  \n",
            "  inflating: Data/images_original/metal/metal00012.png  \n",
            "  inflating: Data/images_original/metal/metal00013.png  \n",
            "  inflating: Data/images_original/metal/metal00014.png  \n",
            "  inflating: Data/images_original/metal/metal00015.png  \n",
            "  inflating: Data/images_original/metal/metal00016.png  \n",
            "  inflating: Data/images_original/metal/metal00017.png  \n",
            "  inflating: Data/images_original/metal/metal00018.png  \n",
            "  inflating: Data/images_original/metal/metal00019.png  \n",
            "  inflating: Data/images_original/metal/metal00020.png  \n",
            "  inflating: Data/images_original/metal/metal00021.png  \n",
            "  inflating: Data/images_original/metal/metal00022.png  \n",
            "  inflating: Data/images_original/metal/metal00023.png  \n",
            "  inflating: Data/images_original/metal/metal00024.png  \n",
            "  inflating: Data/images_original/metal/metal00025.png  \n",
            "  inflating: Data/images_original/metal/metal00026.png  \n",
            "  inflating: Data/images_original/metal/metal00027.png  \n",
            "  inflating: Data/images_original/metal/metal00028.png  \n",
            "  inflating: Data/images_original/metal/metal00029.png  \n",
            "  inflating: Data/images_original/metal/metal00030.png  \n",
            "  inflating: Data/images_original/metal/metal00031.png  \n",
            "  inflating: Data/images_original/metal/metal00032.png  \n",
            "  inflating: Data/images_original/metal/metal00033.png  \n",
            "  inflating: Data/images_original/metal/metal00034.png  \n",
            "  inflating: Data/images_original/metal/metal00035.png  \n",
            "  inflating: Data/images_original/metal/metal00036.png  \n",
            "  inflating: Data/images_original/metal/metal00037.png  \n",
            "  inflating: Data/images_original/metal/metal00038.png  \n",
            "  inflating: Data/images_original/metal/metal00039.png  \n",
            "  inflating: Data/images_original/metal/metal00040.png  \n",
            "  inflating: Data/images_original/metal/metal00041.png  \n",
            "  inflating: Data/images_original/metal/metal00042.png  \n",
            "  inflating: Data/images_original/metal/metal00043.png  \n",
            "  inflating: Data/images_original/metal/metal00044.png  \n",
            "  inflating: Data/images_original/metal/metal00045.png  \n",
            "  inflating: Data/images_original/metal/metal00046.png  \n",
            "  inflating: Data/images_original/metal/metal00047.png  \n",
            "  inflating: Data/images_original/metal/metal00048.png  \n",
            "  inflating: Data/images_original/metal/metal00049.png  \n",
            "  inflating: Data/images_original/metal/metal00050.png  \n",
            "  inflating: Data/images_original/metal/metal00051.png  \n",
            "  inflating: Data/images_original/metal/metal00052.png  \n",
            "  inflating: Data/images_original/metal/metal00053.png  \n",
            "  inflating: Data/images_original/metal/metal00054.png  \n",
            "  inflating: Data/images_original/metal/metal00055.png  \n",
            "  inflating: Data/images_original/metal/metal00056.png  \n",
            "  inflating: Data/images_original/metal/metal00057.png  \n",
            "  inflating: Data/images_original/metal/metal00058.png  \n",
            "  inflating: Data/images_original/metal/metal00059.png  \n",
            "  inflating: Data/images_original/metal/metal00060.png  \n",
            "  inflating: Data/images_original/metal/metal00061.png  \n",
            "  inflating: Data/images_original/metal/metal00062.png  \n",
            "  inflating: Data/images_original/metal/metal00063.png  \n",
            "  inflating: Data/images_original/metal/metal00064.png  \n",
            "  inflating: Data/images_original/metal/metal00065.png  \n",
            "  inflating: Data/images_original/metal/metal00066.png  \n",
            "  inflating: Data/images_original/metal/metal00067.png  \n",
            "  inflating: Data/images_original/metal/metal00068.png  \n",
            "  inflating: Data/images_original/metal/metal00069.png  \n",
            "  inflating: Data/images_original/metal/metal00070.png  \n",
            "  inflating: Data/images_original/metal/metal00071.png  \n",
            "  inflating: Data/images_original/metal/metal00072.png  \n",
            "  inflating: Data/images_original/metal/metal00073.png  \n",
            "  inflating: Data/images_original/metal/metal00074.png  \n",
            "  inflating: Data/images_original/metal/metal00075.png  \n",
            "  inflating: Data/images_original/metal/metal00076.png  \n",
            "  inflating: Data/images_original/metal/metal00077.png  \n",
            "  inflating: Data/images_original/metal/metal00078.png  \n",
            "  inflating: Data/images_original/metal/metal00079.png  \n",
            "  inflating: Data/images_original/metal/metal00080.png  \n",
            "  inflating: Data/images_original/metal/metal00081.png  \n",
            "  inflating: Data/images_original/metal/metal00082.png  \n",
            "  inflating: Data/images_original/metal/metal00083.png  \n",
            "  inflating: Data/images_original/metal/metal00084.png  \n",
            "  inflating: Data/images_original/metal/metal00085.png  \n",
            "  inflating: Data/images_original/metal/metal00086.png  \n",
            "  inflating: Data/images_original/metal/metal00087.png  \n",
            "  inflating: Data/images_original/metal/metal00088.png  \n",
            "  inflating: Data/images_original/metal/metal00089.png  \n",
            "  inflating: Data/images_original/metal/metal00090.png  \n",
            "  inflating: Data/images_original/metal/metal00091.png  \n",
            "  inflating: Data/images_original/metal/metal00092.png  \n",
            "  inflating: Data/images_original/metal/metal00093.png  \n",
            "  inflating: Data/images_original/metal/metal00094.png  \n",
            "  inflating: Data/images_original/metal/metal00095.png  \n",
            "  inflating: Data/images_original/metal/metal00096.png  \n",
            "  inflating: Data/images_original/metal/metal00097.png  \n",
            "  inflating: Data/images_original/metal/metal00098.png  \n",
            "  inflating: Data/images_original/metal/metal00099.png  \n",
            "  inflating: Data/images_original/pop/pop00000.png  \n",
            "  inflating: Data/images_original/pop/pop00001.png  \n",
            "  inflating: Data/images_original/pop/pop00002.png  \n",
            "  inflating: Data/images_original/pop/pop00003.png  \n",
            "  inflating: Data/images_original/pop/pop00004.png  \n",
            "  inflating: Data/images_original/pop/pop00005.png  \n",
            "  inflating: Data/images_original/pop/pop00006.png  \n",
            "  inflating: Data/images_original/pop/pop00007.png  \n",
            "  inflating: Data/images_original/pop/pop00008.png  \n",
            "  inflating: Data/images_original/pop/pop00009.png  \n",
            "  inflating: Data/images_original/pop/pop00010.png  \n",
            "  inflating: Data/images_original/pop/pop00011.png  \n",
            "  inflating: Data/images_original/pop/pop00012.png  \n",
            "  inflating: Data/images_original/pop/pop00013.png  \n",
            "  inflating: Data/images_original/pop/pop00014.png  \n",
            "  inflating: Data/images_original/pop/pop00015.png  \n",
            "  inflating: Data/images_original/pop/pop00016.png  \n",
            "  inflating: Data/images_original/pop/pop00017.png  \n",
            "  inflating: Data/images_original/pop/pop00018.png  \n",
            "  inflating: Data/images_original/pop/pop00019.png  \n",
            "  inflating: Data/images_original/pop/pop00020.png  \n",
            "  inflating: Data/images_original/pop/pop00021.png  \n",
            "  inflating: Data/images_original/pop/pop00022.png  \n",
            "  inflating: Data/images_original/pop/pop00023.png  \n",
            "  inflating: Data/images_original/pop/pop00024.png  \n",
            "  inflating: Data/images_original/pop/pop00025.png  \n",
            "  inflating: Data/images_original/pop/pop00026.png  \n",
            "  inflating: Data/images_original/pop/pop00027.png  \n",
            "  inflating: Data/images_original/pop/pop00028.png  \n",
            "  inflating: Data/images_original/pop/pop00029.png  \n",
            "  inflating: Data/images_original/pop/pop00030.png  \n",
            "  inflating: Data/images_original/pop/pop00031.png  \n",
            "  inflating: Data/images_original/pop/pop00032.png  \n",
            "  inflating: Data/images_original/pop/pop00033.png  \n",
            "  inflating: Data/images_original/pop/pop00034.png  \n",
            "  inflating: Data/images_original/pop/pop00035.png  \n",
            "  inflating: Data/images_original/pop/pop00036.png  \n",
            "  inflating: Data/images_original/pop/pop00037.png  \n",
            "  inflating: Data/images_original/pop/pop00038.png  \n",
            "  inflating: Data/images_original/pop/pop00039.png  \n",
            "  inflating: Data/images_original/pop/pop00040.png  \n",
            "  inflating: Data/images_original/pop/pop00041.png  \n",
            "  inflating: Data/images_original/pop/pop00042.png  \n",
            "  inflating: Data/images_original/pop/pop00043.png  \n",
            "  inflating: Data/images_original/pop/pop00044.png  \n",
            "  inflating: Data/images_original/pop/pop00045.png  \n",
            "  inflating: Data/images_original/pop/pop00046.png  \n",
            "  inflating: Data/images_original/pop/pop00047.png  \n",
            "  inflating: Data/images_original/pop/pop00048.png  \n",
            "  inflating: Data/images_original/pop/pop00049.png  \n",
            "  inflating: Data/images_original/pop/pop00050.png  \n",
            "  inflating: Data/images_original/pop/pop00051.png  \n",
            "  inflating: Data/images_original/pop/pop00052.png  \n",
            "  inflating: Data/images_original/pop/pop00053.png  \n",
            "  inflating: Data/images_original/pop/pop00054.png  \n",
            "  inflating: Data/images_original/pop/pop00055.png  \n",
            "  inflating: Data/images_original/pop/pop00056.png  \n",
            "  inflating: Data/images_original/pop/pop00057.png  \n",
            "  inflating: Data/images_original/pop/pop00058.png  \n",
            "  inflating: Data/images_original/pop/pop00059.png  \n",
            "  inflating: Data/images_original/pop/pop00060.png  \n",
            "  inflating: Data/images_original/pop/pop00061.png  \n",
            "  inflating: Data/images_original/pop/pop00062.png  \n",
            "  inflating: Data/images_original/pop/pop00063.png  \n",
            "  inflating: Data/images_original/pop/pop00064.png  \n",
            "  inflating: Data/images_original/pop/pop00065.png  \n",
            "  inflating: Data/images_original/pop/pop00066.png  \n",
            "  inflating: Data/images_original/pop/pop00067.png  \n",
            "  inflating: Data/images_original/pop/pop00068.png  \n",
            "  inflating: Data/images_original/pop/pop00069.png  \n",
            "  inflating: Data/images_original/pop/pop00070.png  \n",
            "  inflating: Data/images_original/pop/pop00071.png  \n",
            "  inflating: Data/images_original/pop/pop00072.png  \n",
            "  inflating: Data/images_original/pop/pop00073.png  \n",
            "  inflating: Data/images_original/pop/pop00074.png  \n",
            "  inflating: Data/images_original/pop/pop00075.png  \n",
            "  inflating: Data/images_original/pop/pop00076.png  \n",
            "  inflating: Data/images_original/pop/pop00077.png  \n",
            "  inflating: Data/images_original/pop/pop00078.png  \n",
            "  inflating: Data/images_original/pop/pop00079.png  \n",
            "  inflating: Data/images_original/pop/pop00080.png  \n",
            "  inflating: Data/images_original/pop/pop00081.png  \n",
            "  inflating: Data/images_original/pop/pop00082.png  \n",
            "  inflating: Data/images_original/pop/pop00083.png  \n",
            "  inflating: Data/images_original/pop/pop00084.png  \n",
            "  inflating: Data/images_original/pop/pop00085.png  \n",
            "  inflating: Data/images_original/pop/pop00086.png  \n",
            "  inflating: Data/images_original/pop/pop00087.png  \n",
            "  inflating: Data/images_original/pop/pop00088.png  \n",
            "  inflating: Data/images_original/pop/pop00089.png  \n",
            "  inflating: Data/images_original/pop/pop00090.png  \n",
            "  inflating: Data/images_original/pop/pop00091.png  \n",
            "  inflating: Data/images_original/pop/pop00092.png  \n",
            "  inflating: Data/images_original/pop/pop00093.png  \n",
            "  inflating: Data/images_original/pop/pop00094.png  \n",
            "  inflating: Data/images_original/pop/pop00095.png  \n",
            "  inflating: Data/images_original/pop/pop00096.png  \n",
            "  inflating: Data/images_original/pop/pop00097.png  \n",
            "  inflating: Data/images_original/pop/pop00098.png  \n",
            "  inflating: Data/images_original/pop/pop00099.png  \n",
            "  inflating: Data/images_original/reggae/reggae00000.png  \n",
            "  inflating: Data/images_original/reggae/reggae00001.png  \n",
            "  inflating: Data/images_original/reggae/reggae00002.png  \n",
            "  inflating: Data/images_original/reggae/reggae00003.png  \n",
            "  inflating: Data/images_original/reggae/reggae00004.png  \n",
            "  inflating: Data/images_original/reggae/reggae00005.png  \n",
            "  inflating: Data/images_original/reggae/reggae00006.png  \n",
            "  inflating: Data/images_original/reggae/reggae00007.png  \n",
            "  inflating: Data/images_original/reggae/reggae00008.png  \n",
            "  inflating: Data/images_original/reggae/reggae00009.png  \n",
            "  inflating: Data/images_original/reggae/reggae00010.png  \n",
            "  inflating: Data/images_original/reggae/reggae00011.png  \n",
            "  inflating: Data/images_original/reggae/reggae00012.png  \n",
            "  inflating: Data/images_original/reggae/reggae00013.png  \n",
            "  inflating: Data/images_original/reggae/reggae00014.png  \n",
            "  inflating: Data/images_original/reggae/reggae00015.png  \n",
            "  inflating: Data/images_original/reggae/reggae00016.png  \n",
            "  inflating: Data/images_original/reggae/reggae00017.png  \n",
            "  inflating: Data/images_original/reggae/reggae00018.png  \n",
            "  inflating: Data/images_original/reggae/reggae00019.png  \n",
            "  inflating: Data/images_original/reggae/reggae00020.png  \n",
            "  inflating: Data/images_original/reggae/reggae00021.png  \n",
            "  inflating: Data/images_original/reggae/reggae00022.png  \n",
            "  inflating: Data/images_original/reggae/reggae00023.png  \n",
            "  inflating: Data/images_original/reggae/reggae00024.png  \n",
            "  inflating: Data/images_original/reggae/reggae00025.png  \n",
            "  inflating: Data/images_original/reggae/reggae00026.png  \n",
            "  inflating: Data/images_original/reggae/reggae00027.png  \n",
            "  inflating: Data/images_original/reggae/reggae00028.png  \n",
            "  inflating: Data/images_original/reggae/reggae00029.png  \n",
            "  inflating: Data/images_original/reggae/reggae00030.png  \n",
            "  inflating: Data/images_original/reggae/reggae00031.png  \n",
            "  inflating: Data/images_original/reggae/reggae00032.png  \n",
            "  inflating: Data/images_original/reggae/reggae00033.png  \n",
            "  inflating: Data/images_original/reggae/reggae00034.png  \n",
            "  inflating: Data/images_original/reggae/reggae00035.png  \n",
            "  inflating: Data/images_original/reggae/reggae00036.png  \n",
            "  inflating: Data/images_original/reggae/reggae00037.png  \n",
            "  inflating: Data/images_original/reggae/reggae00038.png  \n",
            "  inflating: Data/images_original/reggae/reggae00039.png  \n",
            "  inflating: Data/images_original/reggae/reggae00040.png  \n",
            "  inflating: Data/images_original/reggae/reggae00041.png  \n",
            "  inflating: Data/images_original/reggae/reggae00042.png  \n",
            "  inflating: Data/images_original/reggae/reggae00043.png  \n",
            "  inflating: Data/images_original/reggae/reggae00044.png  \n",
            "  inflating: Data/images_original/reggae/reggae00045.png  \n",
            "  inflating: Data/images_original/reggae/reggae00046.png  \n",
            "  inflating: Data/images_original/reggae/reggae00047.png  \n",
            "  inflating: Data/images_original/reggae/reggae00048.png  \n",
            "  inflating: Data/images_original/reggae/reggae00049.png  \n",
            "  inflating: Data/images_original/reggae/reggae00050.png  \n",
            "  inflating: Data/images_original/reggae/reggae00051.png  \n",
            "  inflating: Data/images_original/reggae/reggae00052.png  \n",
            "  inflating: Data/images_original/reggae/reggae00053.png  \n",
            "  inflating: Data/images_original/reggae/reggae00054.png  \n",
            "  inflating: Data/images_original/reggae/reggae00055.png  \n",
            "  inflating: Data/images_original/reggae/reggae00056.png  \n",
            "  inflating: Data/images_original/reggae/reggae00057.png  \n",
            "  inflating: Data/images_original/reggae/reggae00058.png  \n",
            "  inflating: Data/images_original/reggae/reggae00059.png  \n",
            "  inflating: Data/images_original/reggae/reggae00060.png  \n",
            "  inflating: Data/images_original/reggae/reggae00061.png  \n",
            "  inflating: Data/images_original/reggae/reggae00062.png  \n",
            "  inflating: Data/images_original/reggae/reggae00063.png  \n",
            "  inflating: Data/images_original/reggae/reggae00064.png  \n",
            "  inflating: Data/images_original/reggae/reggae00065.png  \n",
            "  inflating: Data/images_original/reggae/reggae00066.png  \n",
            "  inflating: Data/images_original/reggae/reggae00067.png  \n",
            "  inflating: Data/images_original/reggae/reggae00068.png  \n",
            "  inflating: Data/images_original/reggae/reggae00069.png  \n",
            "  inflating: Data/images_original/reggae/reggae00070.png  \n",
            "  inflating: Data/images_original/reggae/reggae00071.png  \n",
            "  inflating: Data/images_original/reggae/reggae00072.png  \n",
            "  inflating: Data/images_original/reggae/reggae00073.png  \n",
            "  inflating: Data/images_original/reggae/reggae00074.png  \n",
            "  inflating: Data/images_original/reggae/reggae00075.png  \n",
            "  inflating: Data/images_original/reggae/reggae00076.png  \n",
            "  inflating: Data/images_original/reggae/reggae00077.png  \n",
            "  inflating: Data/images_original/reggae/reggae00078.png  \n",
            "  inflating: Data/images_original/reggae/reggae00079.png  \n",
            "  inflating: Data/images_original/reggae/reggae00080.png  \n",
            "  inflating: Data/images_original/reggae/reggae00081.png  \n",
            "  inflating: Data/images_original/reggae/reggae00082.png  \n",
            "  inflating: Data/images_original/reggae/reggae00083.png  \n",
            "  inflating: Data/images_original/reggae/reggae00084.png  \n",
            "  inflating: Data/images_original/reggae/reggae00085.png  \n",
            "  inflating: Data/images_original/reggae/reggae00086.png  \n",
            "  inflating: Data/images_original/reggae/reggae00087.png  \n",
            "  inflating: Data/images_original/reggae/reggae00088.png  \n",
            "  inflating: Data/images_original/reggae/reggae00089.png  \n",
            "  inflating: Data/images_original/reggae/reggae00090.png  \n",
            "  inflating: Data/images_original/reggae/reggae00091.png  \n",
            "  inflating: Data/images_original/reggae/reggae00092.png  \n",
            "  inflating: Data/images_original/reggae/reggae00093.png  \n",
            "  inflating: Data/images_original/reggae/reggae00094.png  \n",
            "  inflating: Data/images_original/reggae/reggae00095.png  \n",
            "  inflating: Data/images_original/reggae/reggae00096.png  \n",
            "  inflating: Data/images_original/reggae/reggae00097.png  \n",
            "  inflating: Data/images_original/reggae/reggae00098.png  \n",
            "  inflating: Data/images_original/reggae/reggae00099.png  \n",
            "  inflating: Data/images_original/rock/rock00000.png  \n",
            "  inflating: Data/images_original/rock/rock00001.png  \n",
            "  inflating: Data/images_original/rock/rock00002.png  \n",
            "  inflating: Data/images_original/rock/rock00003.png  \n",
            "  inflating: Data/images_original/rock/rock00004.png  \n",
            "  inflating: Data/images_original/rock/rock00005.png  \n",
            "  inflating: Data/images_original/rock/rock00006.png  \n",
            "  inflating: Data/images_original/rock/rock00007.png  \n",
            "  inflating: Data/images_original/rock/rock00008.png  \n",
            "  inflating: Data/images_original/rock/rock00009.png  \n",
            "  inflating: Data/images_original/rock/rock00010.png  \n",
            "  inflating: Data/images_original/rock/rock00011.png  \n",
            "  inflating: Data/images_original/rock/rock00012.png  \n",
            "  inflating: Data/images_original/rock/rock00013.png  \n",
            "  inflating: Data/images_original/rock/rock00014.png  \n",
            "  inflating: Data/images_original/rock/rock00015.png  \n",
            "  inflating: Data/images_original/rock/rock00016.png  \n",
            "  inflating: Data/images_original/rock/rock00017.png  \n",
            "  inflating: Data/images_original/rock/rock00018.png  \n",
            "  inflating: Data/images_original/rock/rock00019.png  \n",
            "  inflating: Data/images_original/rock/rock00020.png  \n",
            "  inflating: Data/images_original/rock/rock00021.png  \n",
            "  inflating: Data/images_original/rock/rock00022.png  \n",
            "  inflating: Data/images_original/rock/rock00023.png  \n",
            "  inflating: Data/images_original/rock/rock00024.png  \n",
            "  inflating: Data/images_original/rock/rock00025.png  \n",
            "  inflating: Data/images_original/rock/rock00026.png  \n",
            "  inflating: Data/images_original/rock/rock00027.png  \n",
            "  inflating: Data/images_original/rock/rock00028.png  \n",
            "  inflating: Data/images_original/rock/rock00029.png  \n",
            "  inflating: Data/images_original/rock/rock00030.png  \n",
            "  inflating: Data/images_original/rock/rock00031.png  \n",
            "  inflating: Data/images_original/rock/rock00032.png  \n",
            "  inflating: Data/images_original/rock/rock00033.png  \n",
            "  inflating: Data/images_original/rock/rock00034.png  \n",
            "  inflating: Data/images_original/rock/rock00035.png  \n",
            "  inflating: Data/images_original/rock/rock00036.png  \n",
            "  inflating: Data/images_original/rock/rock00037.png  \n",
            "  inflating: Data/images_original/rock/rock00038.png  \n",
            "  inflating: Data/images_original/rock/rock00039.png  \n",
            "  inflating: Data/images_original/rock/rock00040.png  \n",
            "  inflating: Data/images_original/rock/rock00041.png  \n",
            "  inflating: Data/images_original/rock/rock00042.png  \n",
            "  inflating: Data/images_original/rock/rock00043.png  \n",
            "  inflating: Data/images_original/rock/rock00044.png  \n",
            "  inflating: Data/images_original/rock/rock00045.png  \n",
            "  inflating: Data/images_original/rock/rock00046.png  \n",
            "  inflating: Data/images_original/rock/rock00047.png  \n",
            "  inflating: Data/images_original/rock/rock00048.png  \n",
            "  inflating: Data/images_original/rock/rock00049.png  \n",
            "  inflating: Data/images_original/rock/rock00050.png  \n",
            "  inflating: Data/images_original/rock/rock00051.png  \n",
            "  inflating: Data/images_original/rock/rock00052.png  \n",
            "  inflating: Data/images_original/rock/rock00053.png  \n",
            "  inflating: Data/images_original/rock/rock00054.png  \n",
            "  inflating: Data/images_original/rock/rock00055.png  \n",
            "  inflating: Data/images_original/rock/rock00056.png  \n",
            "  inflating: Data/images_original/rock/rock00057.png  \n",
            "  inflating: Data/images_original/rock/rock00058.png  \n",
            "  inflating: Data/images_original/rock/rock00059.png  \n",
            "  inflating: Data/images_original/rock/rock00060.png  \n",
            "  inflating: Data/images_original/rock/rock00061.png  \n",
            "  inflating: Data/images_original/rock/rock00062.png  \n",
            "  inflating: Data/images_original/rock/rock00063.png  \n",
            "  inflating: Data/images_original/rock/rock00064.png  \n",
            "  inflating: Data/images_original/rock/rock00065.png  \n",
            "  inflating: Data/images_original/rock/rock00066.png  \n",
            "  inflating: Data/images_original/rock/rock00067.png  \n",
            "  inflating: Data/images_original/rock/rock00068.png  \n",
            "  inflating: Data/images_original/rock/rock00069.png  \n",
            "  inflating: Data/images_original/rock/rock00070.png  \n",
            "  inflating: Data/images_original/rock/rock00071.png  \n",
            "  inflating: Data/images_original/rock/rock00072.png  \n",
            "  inflating: Data/images_original/rock/rock00073.png  \n",
            "  inflating: Data/images_original/rock/rock00074.png  \n",
            "  inflating: Data/images_original/rock/rock00075.png  \n",
            "  inflating: Data/images_original/rock/rock00076.png  \n",
            "  inflating: Data/images_original/rock/rock00077.png  \n",
            "  inflating: Data/images_original/rock/rock00078.png  \n",
            "  inflating: Data/images_original/rock/rock00079.png  \n",
            "  inflating: Data/images_original/rock/rock00080.png  \n",
            "  inflating: Data/images_original/rock/rock00081.png  \n",
            "  inflating: Data/images_original/rock/rock00082.png  \n",
            "  inflating: Data/images_original/rock/rock00083.png  \n",
            "  inflating: Data/images_original/rock/rock00084.png  \n",
            "  inflating: Data/images_original/rock/rock00085.png  \n",
            "  inflating: Data/images_original/rock/rock00086.png  \n",
            "  inflating: Data/images_original/rock/rock00087.png  \n",
            "  inflating: Data/images_original/rock/rock00088.png  \n",
            "  inflating: Data/images_original/rock/rock00089.png  \n",
            "  inflating: Data/images_original/rock/rock00090.png  \n",
            "  inflating: Data/images_original/rock/rock00091.png  \n",
            "  inflating: Data/images_original/rock/rock00092.png  \n",
            "  inflating: Data/images_original/rock/rock00093.png  \n",
            "  inflating: Data/images_original/rock/rock00094.png  \n",
            "  inflating: Data/images_original/rock/rock00095.png  \n",
            "  inflating: Data/images_original/rock/rock00096.png  \n",
            "  inflating: Data/images_original/rock/rock00097.png  \n",
            "  inflating: Data/images_original/rock/rock00098.png  \n",
            "  inflating: Data/images_original/rock/rock00099.png  \n"
          ]
        }
      ],
      "source": [
        "!cp drive/MyDrive/archive.zip archive.zip\n",
        "!unzip archive.zip"
      ]
    },
    {
      "cell_type": "markdown",
      "metadata": {
        "id": "JeIKvIM5bNBc"
      },
      "source": [
        "Import bibliotek koniecznych do dalszego wykonania ćwiczenia:"
      ]
    },
    {
      "cell_type": "code",
      "execution_count": null,
      "metadata": {
        "id": "V1FS9hVHbO3L"
      },
      "outputs": [],
      "source": [
        "import numpy as np\n",
        "import os\n",
        "from   scipy.io.wavfile import read\n",
        "import matplotlib.pyplot as plt\n",
        "import copy as cp\n",
        "from scipy.fftpack import fft\n",
        "from librosa.feature import mfcc\n",
        "from tqdm import tqdm\n",
        "from tensorflow.keras.optimizers import Adam\n",
        "from tensorflow.keras.layers     import Input, Dense, Conv2D, Flatten, PReLU,ReLU, MaxPooling2D, Lambda\n",
        "from tensorflow.keras.models     import Model\n",
        "from tensorflow.keras.utils      import to_categorical\n",
        "from tensorflow.keras            import backend as K\n",
        "from numpy.linalg                import norm\n",
        "from sklearn.decomposition       import PCA\n",
        "import tensorflow as tf"
      ]
    },
    {
      "cell_type": "markdown",
      "metadata": {
        "id": "HpQYtWkPb--L"
      },
      "source": [
        "# Nastawy pracy algorytmu:"
      ]
    },
    {
      "cell_type": "code",
      "execution_count": null,
      "metadata": {
        "id": "Mtle8t3_b--M"
      },
      "outputs": [],
      "source": [
        "# ------------------------------------------------------------------\n",
        "# Ścieżka do zbioru danych GTZAN:\n",
        "gtzan_dataset_inpath = \"Data/genres_original\"\n",
        "\n",
        "# Nastawy przetwarzania pliku za pomocą spektrogramów\n",
        "frame_length   = 1024 # szerokość okna analizy (w próbkach)\n",
        "overlap_factor = 0.0  # współczynnik nachodzenia się na siebie\n",
        "                      # ramek danych (okien analizy)\n",
        "\n",
        "# Nastawy przetwarzania pliku za pomocą MFCC-gramów:\n",
        "n_mfcc         = 40   # liczba współczynników MFCC w ramce\n",
        "n_fft          = 1024 # długość FFT wykorzystana do obliczenia\n",
        "                      # współczynników MFCC\n",
        "fft_window     = np.ones(frame_length) # funkcja okna\n",
        "# Inne okna można wygenerować funkcjami z:\n",
        "# https://numpy.org/doc/stable/reference/routines.window.html\n",
        "\n",
        "parameterization_method = 'spectrogram'\n",
        "# parameterization_method = 'mfcc'\n",
        "\n",
        "# ------------------------------------------------------------------\n",
        "training_ratio   = 0.9\n",
        "embedding_length = 50\n",
        "\n",
        "# Nastawy algorytmu treningu\n",
        "learning_rate       = 0.01\n",
        "batches_per_epoch   = 15\n",
        "batch_size          = 8\n",
        "num_training_epochs = 100\n",
        "\n",
        "# Nastawy algorytmu uczącego się metryk odległości\n",
        "margin            = 100  # ograniczenie na docelową odległość między klastrami punktów\n",
        "distance_norm     = 'euclidean' # metryka odległości Ln, może być też 1,2, czy np.inf\n",
        "\n",
        "# Nazwy folderów na dane:\n",
        "folder_model_weights    = \"_weights\"\n",
        "folder_repspace_preview = \"_previews\""
      ]
    },
    {
      "cell_type": "markdown",
      "metadata": {
        "id": "OM6ttA0SalkI"
      },
      "source": [
        "# Parametryzacja zbioru GTZAN"
      ]
    },
    {
      "cell_type": "markdown",
      "metadata": {
        "id": "80YLa697apPu"
      },
      "source": [
        "Po pozyskaniu danych możliwe staje się przeanalizowanie danych. Najpierw wykorzystamy do tego analizę za pomocą algorytmu FFT, a dokładniej - spektrogramów. Wpierw zdefiniujmy kilka funkcji pomocnicznych:"
      ]
    },
    {
      "cell_type": "code",
      "execution_count": null,
      "metadata": {
        "id": "NkQ994cYcqTa",
        "colab": {
          "base_uri": "https://localhost:8080/"
        },
        "outputId": "b52659b5-7011-4809-f70b-1159065456c7"
      },
      "outputs": [
        {
          "output_type": "stream",
          "name": "stdout",
          "text": [
            "\n",
            "Odczyt i parametryzacja plików z dysku:\n"
          ]
        },
        {
          "output_type": "stream",
          "name": "stderr",
          "text": [
            "100%|██████████| 1000/1000 [00:20<00:00, 49.35it/s]\n"
          ]
        }
      ],
      "source": [
        "# Funkcja wycinająca wybrany fragment sygnału o zadanej szybkości próbkowania fs\n",
        "# (miejsca cięć podajemy w sekundach)\n",
        "def obtain_signal_slice(insignal, fs, cut_start, cut_stop):\n",
        "    cut_start_idx = int(fs*cut_start)\n",
        "    cut_stop_idx  = int(fs*cut_stop)\n",
        "\n",
        "    if cut_stop_idx>len(insignal):\n",
        "        raise RuntimeError(\"błąd - czas zakończenia cięcia jest późniejszy niż długość nagrania\")\n",
        "\n",
        "    output_slice = insignal[cut_start_idx:cut_stop_idx]\n",
        "    return output_slice\n",
        "\n",
        "# Pomocnicza funkcja do podziału danych na ramki:\n",
        "#    - możliwe jest zadanie długości ramki,\n",
        "#    - oraz okreslenie, w jakim ułamku ramki te powinny na siebie nachodzić\n",
        "#    (tzw. overlap factor).\n",
        "def split_to_frames(insignal, frame_length, overlap_factor):\n",
        "    shift_factor        = frame_length*(1-overlap_factor)\n",
        "    target_frames_count = (len(insignal)-frame_length)/shift_factor\n",
        "    shift_factor        = int(shift_factor)\n",
        "    target_frames_count = int(target_frames_count)\n",
        "    output_data         = np.zeros((frame_length, target_frames_count))\n",
        "\n",
        "    for i in range(target_frames_count):\n",
        "        frame_start      = i*shift_factor\n",
        "        frame_end        = frame_start + frame_length\n",
        "        output_data[:,i] = insignal[frame_start:frame_end]\n",
        "\n",
        "    return output_data\n",
        "\n",
        "# Funkcja licząca spektrogram na podstawie danych audio podzielonych na ramki\n",
        "def frames_to_spectrogram(frames_mtx, fft_window):\n",
        "    output_data = cp.copy(frames_mtx)\n",
        "    for i in range(output_data.shape[1]):\n",
        "        output_data[:,i] = np.abs(fft(output_data[:,i]*fft_window))\n",
        "\n",
        "    output_data = output_data[0:output_data.shape[0]//2,:]\n",
        "    return output_data\n",
        "\n",
        "# Funkcja która łącznie dzieli sygnał na ramki i liczy spektrogram.\n",
        "def signal_to_spectrogram(ex, frame_length, overlap_factor, fft_window):\n",
        "    split_ex    = split_to_frames(ex, frame_length, overlap_factor)\n",
        "    spectrogram = frames_to_spectrogram(split_ex, fft_window)\n",
        "    return spectrogram\n",
        "\n",
        "\n",
        "parameterized_audio = []\n",
        "labels              = []\n",
        "fs                  = None\n",
        "\n",
        "# Sprawdzenie plików do odczytu\n",
        "num_files = 0\n",
        "for folder_name in os.listdir(gtzan_dataset_inpath):\n",
        "    subfolder_path = os.path.join(gtzan_dataset_inpath,folder_name)\n",
        "    for fname in os.listdir(subfolder_path):\n",
        "        _, ext = os.path.splitext(fname)\n",
        "        if ext == '.wav':\n",
        "            num_files += 1\n",
        "\n",
        "# Odczyt plików do pamięci\n",
        "error_prompts = []\n",
        "\n",
        "print()\n",
        "print(\"Odczyt i parametryzacja plików z dysku:\")\n",
        "pbar = tqdm(total=num_files)\n",
        "# Odczyt plików ze zbioru danych:\n",
        "for folder_name in os.listdir(gtzan_dataset_inpath):\n",
        "    subfolder_path = os.path.join(gtzan_dataset_inpath,folder_name)\n",
        "    for fname in os.listdir(subfolder_path):\n",
        "        # Upewniamy się, że odczytujemy plik .wav zawsze o takich samych nastawach jak np.\n",
        "        # szybkość próbkowania.\n",
        "        _, ext = os.path.splitext(fname)\n",
        "        if ext == '.wav':\n",
        "            fpath = os.path.join(subfolder_path, fname)\n",
        "            try:\n",
        "                fs_infile, audio_data  = read(fpath)\n",
        "\n",
        "                if fs is None:\n",
        "                    fs = fs_infile\n",
        "                else:\n",
        "                    if fs != fs_infile:\n",
        "                        print(f\"warning: sampling frequency of file {fname} does not match sample rates of other files, stopping data reading\")\n",
        "\n",
        "                audio_data  = audio_data.astype(float)\n",
        "\n",
        "                # Pobierane jest jednocześnie wiele wycinków by zwielokrotnić liczbę przykładów treningowich.\n",
        "                # Bez tego przykładów jest na tyle mało, że grozi to zanikiem zbieżności algorytmu\n",
        "                # (sieć zwróci wartości NaN i taką też wartość będą miały jej wagi)\n",
        "                for cut_start, cut_stop in [(2,5),(5,8),(8,11),(11,14),(14,17),(17,20),(20,23),(23,26)]:\n",
        "                    audio_slice = obtain_signal_slice(audio_data, fs, cut_start, cut_stop)\n",
        "\n",
        "                    # Normalizujemy wycięty z sygnału audio fragment\n",
        "                    audio_slice = audio_slice/np.max(np.abs(audio_slice))\n",
        "\n",
        "                    # Parametryzujemy sygnał\"\n",
        "                    if parameterization_method == 'spectrogram':\n",
        "                        parameterized_example = signal_to_spectrogram(audio_slice, frame_length, overlap_factor, fft_window)\n",
        "                    else:\n",
        "                        parameterized_example = mfcc(audio_slice, sr=fs, n_mfcc=n_mfcc, n_fft=n_fft)\n",
        "\n",
        "                    # Normalizujemy pozyskany zestaw parametrów\n",
        "                    parameterized_example = parameterized_example/np.max(np.abs(parameterized_example))\n",
        "\n",
        "                    # Zwracamy wygenerowany przykład i etykietę do głównego zbioru przykładów/etykiet.\n",
        "                    parameterized_audio.append(parameterized_example)\n",
        "                    labels.append(folder_name)\n",
        "            except:\n",
        "                error_prompts.append(f\"unreadable file: {fname}, the file was omitted\")\n",
        "            pbar.update(1)\n",
        "pbar.close()\n",
        "\n",
        "labels = np.array(labels)\n",
        "\n",
        "# Przygotowanie wymiarów w strukturze przechowującej dane - konieczne są wymiary:\n",
        "# (liczba przykładów, długość ramki, nr ramki, 1), 1 wynika z faktu, że mamy sygnał\n",
        "# jednokanałowy (mono).\n",
        "parameterized_audio = np.dstack(parameterized_audio)\n",
        "parameterized_audio = np.moveaxis(parameterized_audio,-1,0)\n",
        "parameterized_audio = parameterized_audio[np.newaxis,:]\n",
        "parameterized_audio = np.moveaxis(parameterized_audio,0,-1)\n",
        "\n",
        "np.random.seed(42) # blokujemy generator, by mieć powtarzalne wyniki\n",
        "\n",
        "# Losowo zmieniamy kolejność przykładów:\n",
        "shuffling_pattern   = np.arange(parameterized_audio.shape[0])\n",
        "np.random.shuffle(shuffling_pattern)\n",
        "parameterized_audio[shuffling_pattern]\n",
        "num_training = int(training_ratio*parameterized_audio.shape[0])\n",
        "num_test     = parameterized_audio.shape[0] - num_training\n",
        "\n",
        "# Dzielimy pulę przykładów na docelowe zbiory:\n",
        "trn_X  = parameterized_audio[shuffling_pattern][0:num_training]\n",
        "test_X = parameterized_audio[shuffling_pattern][num_training:len(parameterized_audio)-1]\n",
        "trn_Y  = labels[shuffling_pattern][0:num_training]\n",
        "test_Y = labels[shuffling_pattern][num_training:len(labels)-1]"
      ]
    },
    {
      "cell_type": "markdown",
      "metadata": {
        "id": "S3GvhYB-pENK"
      },
      "source": [
        "# Uruchomienie algorytmu triplet loss"
      ]
    },
    {
      "cell_type": "code",
      "execution_count": null,
      "metadata": {
        "colab": {
          "base_uri": "https://localhost:8080/"
        },
        "id": "-rbkNqoBpCAc",
        "outputId": "8dc37b7d-35c7-47aa-fe5d-802efb134723"
      },
      "outputs": [
        {
          "output_type": "stream",
          "name": "stdout",
          "text": [
            "Struktura kodera:\n",
            "Model: \"model\"\n",
            "_________________________________________________________________\n",
            " Layer (type)                Output Shape              Param #   \n",
            "=================================================================\n",
            " left_input (InputLayer)     [(None, 512, 63, 1)]      0         \n",
            "                                                                 \n",
            " conv2d (Conv2D)             (None, 512, 63, 8)        258088    \n",
            "                                                                 \n",
            " max_pooling2d (MaxPooling2  (None, 256, 15, 8)        0         \n",
            " D)                                                              \n",
            "                                                                 \n",
            " conv2d_1 (Conv2D)           (None, 256, 15, 8)        30984     \n",
            "                                                                 \n",
            " max_pooling2d_1 (MaxPoolin  (None, 128, 3, 8)         0         \n",
            " g2D)                                                            \n",
            "                                                                 \n",
            " flatten (Flatten)           (None, 3072)              0         \n",
            "                                                                 \n",
            " dense (Dense)               (None, 128)               393344    \n",
            "                                                                 \n",
            " dense_1 (Dense)             (None, 50)                6450      \n",
            "                                                                 \n",
            "=================================================================\n",
            "Total params: 688866 (2.63 MB)\n",
            "Trainable params: 688866 (2.63 MB)\n",
            "Non-trainable params: 0 (0.00 Byte)\n",
            "_________________________________________________________________\n",
            "\n",
            "trening sieci neuronowej algorytmem triplet loss został rozpoczęty\n",
            "\n",
            "epoka: 1\n"
          ]
        },
        {
          "output_type": "stream",
          "name": "stderr",
          "text": [
            "100%|██████████| 15/15 [01:13<00:00,  4.92s/it]\n",
            "WARNING:tensorflow:5 out of the last 5 calls to <function _BaseOptimizer._update_step_xla at 0x7a72dc364160> triggered tf.function retracing. Tracing is expensive and the excessive number of tracings could be due to (1) creating @tf.function repeatedly in a loop, (2) passing tensors with different shapes, (3) passing Python objects instead of tensors. For (1), please define your @tf.function outside of the loop. For (2), @tf.function has reduce_retracing=True option that can avoid unnecessary retracing. For (3), please refer to https://www.tensorflow.org/guide/function#controlling_retracing and https://www.tensorflow.org/api_docs/python/tf/function for  more details.\n",
            "WARNING:tensorflow:6 out of the last 6 calls to <function _BaseOptimizer._update_step_xla at 0x7a72dc364160> triggered tf.function retracing. Tracing is expensive and the excessive number of tracings could be due to (1) creating @tf.function repeatedly in a loop, (2) passing tensors with different shapes, (3) passing Python objects instead of tensors. For (1), please define your @tf.function outside of the loop. For (2), @tf.function has reduce_retracing=True option that can avoid unnecessary retracing. For (3), please refer to https://www.tensorflow.org/guide/function#controlling_retracing and https://www.tensorflow.org/api_docs/python/tf/function for  more details.\n"
          ]
        },
        {
          "output_type": "stream",
          "name": "stdout",
          "text": [
            "wartość straty trójkowej (triplet loss): 99.97330474853516\n",
            "\n",
            "epoka: 2\n"
          ]
        },
        {
          "output_type": "stream",
          "name": "stderr",
          "text": [
            "100%|██████████| 15/15 [01:09<00:00,  4.62s/it]\n"
          ]
        },
        {
          "output_type": "stream",
          "name": "stdout",
          "text": [
            "wartość straty trójkowej (triplet loss): 99.38506317138672\n",
            "\n",
            "epoka: 3\n"
          ]
        },
        {
          "output_type": "stream",
          "name": "stderr",
          "text": [
            "100%|██████████| 15/15 [01:07<00:00,  4.47s/it]\n"
          ]
        },
        {
          "output_type": "stream",
          "name": "stdout",
          "text": [
            "wartość straty trójkowej (triplet loss): 98.63790893554688\n",
            "\n",
            "epoka: 4\n"
          ]
        },
        {
          "output_type": "stream",
          "name": "stderr",
          "text": [
            "100%|██████████| 15/15 [01:08<00:00,  4.56s/it]\n"
          ]
        },
        {
          "output_type": "stream",
          "name": "stdout",
          "text": [
            "wartość straty trójkowej (triplet loss): 98.24645233154297\n",
            "\n",
            "epoka: 5\n"
          ]
        },
        {
          "output_type": "stream",
          "name": "stderr",
          "text": [
            "100%|██████████| 15/15 [01:07<00:00,  4.48s/it]\n"
          ]
        },
        {
          "output_type": "stream",
          "name": "stdout",
          "text": [
            "wartość straty trójkowej (triplet loss): 93.36732482910156\n",
            "\n",
            "epoka: 6\n"
          ]
        },
        {
          "output_type": "stream",
          "name": "stderr",
          "text": [
            "100%|██████████| 15/15 [01:07<00:00,  4.52s/it]\n"
          ]
        },
        {
          "output_type": "stream",
          "name": "stdout",
          "text": [
            "wartość straty trójkowej (triplet loss): 88.20439147949219\n",
            "\n",
            "epoka: 7\n"
          ]
        },
        {
          "output_type": "stream",
          "name": "stderr",
          "text": [
            "100%|██████████| 15/15 [01:11<00:00,  4.75s/it]\n"
          ]
        },
        {
          "output_type": "stream",
          "name": "stdout",
          "text": [
            "wartość straty trójkowej (triplet loss): 87.67740631103516\n",
            "\n",
            "epoka: 8\n"
          ]
        },
        {
          "output_type": "stream",
          "name": "stderr",
          "text": [
            "100%|██████████| 15/15 [01:25<00:00,  5.71s/it]\n"
          ]
        },
        {
          "output_type": "stream",
          "name": "stdout",
          "text": [
            "wartość straty trójkowej (triplet loss): 98.56150817871094\n",
            "\n",
            "epoka: 9\n"
          ]
        },
        {
          "output_type": "stream",
          "name": "stderr",
          "text": [
            "100%|██████████| 15/15 [01:26<00:00,  5.75s/it]\n"
          ]
        },
        {
          "output_type": "stream",
          "name": "stdout",
          "text": [
            "wartość straty trójkowej (triplet loss): 121.72907257080078\n",
            "\n",
            "epoka: 10\n"
          ]
        },
        {
          "output_type": "stream",
          "name": "stderr",
          "text": [
            "100%|██████████| 15/15 [01:41<00:00,  6.74s/it]\n"
          ]
        },
        {
          "output_type": "stream",
          "name": "stdout",
          "text": [
            "wartość straty trójkowej (triplet loss): 114.79512786865234\n",
            "\n",
            "epoka: 11\n"
          ]
        },
        {
          "output_type": "stream",
          "name": "stderr",
          "text": [
            "100%|██████████| 15/15 [01:36<00:00,  6.44s/it]\n"
          ]
        },
        {
          "output_type": "stream",
          "name": "stdout",
          "text": [
            "wartość straty trójkowej (triplet loss): 103.69446563720703\n",
            "\n",
            "epoka: 12\n"
          ]
        },
        {
          "output_type": "stream",
          "name": "stderr",
          "text": [
            "100%|██████████| 15/15 [01:35<00:00,  6.39s/it]\n"
          ]
        },
        {
          "output_type": "stream",
          "name": "stdout",
          "text": [
            "wartość straty trójkowej (triplet loss): 100.64543914794922\n",
            "\n",
            "epoka: 13\n"
          ]
        },
        {
          "output_type": "stream",
          "name": "stderr",
          "text": [
            "100%|██████████| 15/15 [01:24<00:00,  5.65s/it]\n"
          ]
        },
        {
          "output_type": "stream",
          "name": "stdout",
          "text": [
            "wartość straty trójkowej (triplet loss): 90.0953140258789\n",
            "\n",
            "epoka: 14\n"
          ]
        },
        {
          "output_type": "stream",
          "name": "stderr",
          "text": [
            "100%|██████████| 15/15 [01:30<00:00,  6.06s/it]\n"
          ]
        },
        {
          "output_type": "stream",
          "name": "stdout",
          "text": [
            "wartość straty trójkowej (triplet loss): 107.55682373046875\n",
            "\n",
            "epoka: 15\n"
          ]
        },
        {
          "output_type": "stream",
          "name": "stderr",
          "text": [
            "100%|██████████| 15/15 [01:39<00:00,  6.62s/it]\n"
          ]
        },
        {
          "output_type": "stream",
          "name": "stdout",
          "text": [
            "wartość straty trójkowej (triplet loss): 99.67866516113281\n",
            "\n",
            "epoka: 16\n"
          ]
        },
        {
          "output_type": "stream",
          "name": "stderr",
          "text": [
            "100%|██████████| 15/15 [01:33<00:00,  6.26s/it]\n"
          ]
        },
        {
          "output_type": "stream",
          "name": "stdout",
          "text": [
            "wartość straty trójkowej (triplet loss): 90.75672149658203\n",
            "\n",
            "epoka: 17\n"
          ]
        },
        {
          "output_type": "stream",
          "name": "stderr",
          "text": [
            "100%|██████████| 15/15 [01:35<00:00,  6.38s/it]\n"
          ]
        },
        {
          "output_type": "stream",
          "name": "stdout",
          "text": [
            "wartość straty trójkowej (triplet loss): 105.37847137451172\n",
            "\n",
            "epoka: 18\n"
          ]
        },
        {
          "output_type": "stream",
          "name": "stderr",
          "text": [
            "100%|██████████| 15/15 [01:33<00:00,  6.26s/it]\n"
          ]
        },
        {
          "output_type": "stream",
          "name": "stdout",
          "text": [
            "wartość straty trójkowej (triplet loss): 108.17215728759766\n",
            "\n",
            "epoka: 19\n"
          ]
        },
        {
          "output_type": "stream",
          "name": "stderr",
          "text": [
            "100%|██████████| 15/15 [01:29<00:00,  5.98s/it]\n"
          ]
        },
        {
          "output_type": "stream",
          "name": "stdout",
          "text": [
            "wartość straty trójkowej (triplet loss): 101.56655883789062\n",
            "\n",
            "epoka: 20\n"
          ]
        },
        {
          "output_type": "stream",
          "name": "stderr",
          "text": [
            "100%|██████████| 15/15 [01:30<00:00,  6.04s/it]\n"
          ]
        },
        {
          "output_type": "stream",
          "name": "stdout",
          "text": [
            "wartość straty trójkowej (triplet loss): 115.9610824584961\n",
            "\n",
            "epoka: 21\n"
          ]
        },
        {
          "output_type": "stream",
          "name": "stderr",
          "text": [
            "100%|██████████| 15/15 [01:21<00:00,  5.42s/it]\n"
          ]
        },
        {
          "output_type": "stream",
          "name": "stdout",
          "text": [
            "wartość straty trójkowej (triplet loss): 95.04310607910156\n",
            "\n",
            "epoka: 22\n"
          ]
        },
        {
          "output_type": "stream",
          "name": "stderr",
          "text": [
            "100%|██████████| 15/15 [01:22<00:00,  5.47s/it]\n"
          ]
        },
        {
          "output_type": "stream",
          "name": "stdout",
          "text": [
            "wartość straty trójkowej (triplet loss): 91.60382080078125\n",
            "\n",
            "epoka: 23\n"
          ]
        },
        {
          "output_type": "stream",
          "name": "stderr",
          "text": [
            "100%|██████████| 15/15 [01:28<00:00,  5.87s/it]\n"
          ]
        },
        {
          "output_type": "stream",
          "name": "stdout",
          "text": [
            "wartość straty trójkowej (triplet loss): 91.34745788574219\n",
            "\n",
            "epoka: 24\n"
          ]
        },
        {
          "output_type": "stream",
          "name": "stderr",
          "text": [
            "100%|██████████| 15/15 [01:17<00:00,  5.19s/it]\n"
          ]
        },
        {
          "output_type": "stream",
          "name": "stdout",
          "text": [
            "wartość straty trójkowej (triplet loss): 77.14071655273438\n",
            "\n",
            "epoka: 25\n"
          ]
        },
        {
          "output_type": "stream",
          "name": "stderr",
          "text": [
            "100%|██████████| 15/15 [01:15<00:00,  5.03s/it]\n"
          ]
        },
        {
          "output_type": "stream",
          "name": "stdout",
          "text": [
            "wartość straty trójkowej (triplet loss): 92.91228485107422\n",
            "\n",
            "epoka: 26\n"
          ]
        },
        {
          "output_type": "stream",
          "name": "stderr",
          "text": [
            "100%|██████████| 15/15 [01:30<00:00,  6.04s/it]\n"
          ]
        },
        {
          "output_type": "stream",
          "name": "stdout",
          "text": [
            "wartość straty trójkowej (triplet loss): 87.26453399658203\n",
            "\n",
            "epoka: 27\n"
          ]
        },
        {
          "output_type": "stream",
          "name": "stderr",
          "text": [
            "100%|██████████| 15/15 [01:28<00:00,  5.90s/it]\n"
          ]
        },
        {
          "output_type": "stream",
          "name": "stdout",
          "text": [
            "wartość straty trójkowej (triplet loss): 95.30926513671875\n",
            "\n",
            "epoka: 28\n"
          ]
        },
        {
          "output_type": "stream",
          "name": "stderr",
          "text": [
            "100%|██████████| 15/15 [01:29<00:00,  5.99s/it]\n"
          ]
        },
        {
          "output_type": "stream",
          "name": "stdout",
          "text": [
            "wartość straty trójkowej (triplet loss): 93.111328125\n",
            "\n",
            "epoka: 29\n"
          ]
        },
        {
          "output_type": "stream",
          "name": "stderr",
          "text": [
            "100%|██████████| 15/15 [01:36<00:00,  6.44s/it]\n"
          ]
        },
        {
          "output_type": "stream",
          "name": "stdout",
          "text": [
            "wartość straty trójkowej (triplet loss): 104.52838134765625\n",
            "\n",
            "epoka: 30\n"
          ]
        },
        {
          "output_type": "stream",
          "name": "stderr",
          "text": [
            "100%|██████████| 15/15 [01:39<00:00,  6.64s/it]\n"
          ]
        },
        {
          "output_type": "stream",
          "name": "stdout",
          "text": [
            "wartość straty trójkowej (triplet loss): 104.70945739746094\n",
            "\n",
            "epoka: 31\n"
          ]
        },
        {
          "output_type": "stream",
          "name": "stderr",
          "text": [
            "100%|██████████| 15/15 [01:38<00:00,  6.60s/it]\n"
          ]
        },
        {
          "output_type": "stream",
          "name": "stdout",
          "text": [
            "wartość straty trójkowej (triplet loss): 112.3338623046875\n",
            "\n",
            "epoka: 32\n"
          ]
        },
        {
          "output_type": "stream",
          "name": "stderr",
          "text": [
            "100%|██████████| 15/15 [01:37<00:00,  6.49s/it]\n"
          ]
        },
        {
          "output_type": "stream",
          "name": "stdout",
          "text": [
            "wartość straty trójkowej (triplet loss): 104.6269760131836\n",
            "\n",
            "epoka: 33\n"
          ]
        },
        {
          "output_type": "stream",
          "name": "stderr",
          "text": [
            "100%|██████████| 15/15 [01:41<00:00,  6.75s/it]\n"
          ]
        },
        {
          "output_type": "stream",
          "name": "stdout",
          "text": [
            "wartość straty trójkowej (triplet loss): 103.1689453125\n",
            "\n",
            "epoka: 34\n"
          ]
        },
        {
          "output_type": "stream",
          "name": "stderr",
          "text": [
            "100%|██████████| 15/15 [01:35<00:00,  6.40s/it]\n"
          ]
        },
        {
          "output_type": "stream",
          "name": "stdout",
          "text": [
            "wartość straty trójkowej (triplet loss): 106.15631103515625\n",
            "\n",
            "epoka: 35\n"
          ]
        },
        {
          "output_type": "stream",
          "name": "stderr",
          "text": [
            "100%|██████████| 15/15 [01:35<00:00,  6.39s/it]\n"
          ]
        },
        {
          "output_type": "stream",
          "name": "stdout",
          "text": [
            "wartość straty trójkowej (triplet loss): 90.21835327148438\n",
            "\n",
            "epoka: 36\n"
          ]
        },
        {
          "output_type": "stream",
          "name": "stderr",
          "text": [
            "100%|██████████| 15/15 [01:30<00:00,  6.03s/it]\n"
          ]
        },
        {
          "output_type": "stream",
          "name": "stdout",
          "text": [
            "wartość straty trójkowej (triplet loss): 97.03795623779297\n",
            "\n",
            "epoka: 37\n"
          ]
        },
        {
          "output_type": "stream",
          "name": "stderr",
          "text": [
            "100%|██████████| 15/15 [01:52<00:00,  7.53s/it]\n"
          ]
        },
        {
          "output_type": "stream",
          "name": "stdout",
          "text": [
            "wartość straty trójkowej (triplet loss): 96.50143432617188\n",
            "\n",
            "epoka: 38\n"
          ]
        },
        {
          "output_type": "stream",
          "name": "stderr",
          "text": [
            "100%|██████████| 15/15 [01:42<00:00,  6.83s/it]\n"
          ]
        },
        {
          "output_type": "stream",
          "name": "stdout",
          "text": [
            "wartość straty trójkowej (triplet loss): 94.65493774414062\n",
            "\n",
            "epoka: 39\n"
          ]
        },
        {
          "output_type": "stream",
          "name": "stderr",
          "text": [
            "100%|██████████| 15/15 [01:43<00:00,  6.88s/it]\n"
          ]
        },
        {
          "output_type": "stream",
          "name": "stdout",
          "text": [
            "wartość straty trójkowej (triplet loss): 95.90357971191406\n",
            "\n",
            "epoka: 40\n"
          ]
        },
        {
          "output_type": "stream",
          "name": "stderr",
          "text": [
            "100%|██████████| 15/15 [01:36<00:00,  6.42s/it]\n"
          ]
        },
        {
          "output_type": "stream",
          "name": "stdout",
          "text": [
            "wartość straty trójkowej (triplet loss): 108.916748046875\n",
            "\n",
            "epoka: 41\n"
          ]
        },
        {
          "output_type": "stream",
          "name": "stderr",
          "text": [
            "100%|██████████| 15/15 [01:39<00:00,  6.62s/it]\n"
          ]
        },
        {
          "output_type": "stream",
          "name": "stdout",
          "text": [
            "wartość straty trójkowej (triplet loss): 98.37442779541016\n",
            "\n",
            "epoka: 42\n"
          ]
        },
        {
          "output_type": "stream",
          "name": "stderr",
          "text": [
            "100%|██████████| 15/15 [01:34<00:00,  6.27s/it]\n"
          ]
        },
        {
          "output_type": "stream",
          "name": "stdout",
          "text": [
            "wartość straty trójkowej (triplet loss): 89.29704284667969\n",
            "\n",
            "epoka: 43\n"
          ]
        },
        {
          "output_type": "stream",
          "name": "stderr",
          "text": [
            "100%|██████████| 15/15 [01:39<00:00,  6.65s/it]\n"
          ]
        },
        {
          "output_type": "stream",
          "name": "stdout",
          "text": [
            "wartość straty trójkowej (triplet loss): 106.8957748413086\n",
            "\n",
            "epoka: 44\n"
          ]
        },
        {
          "output_type": "stream",
          "name": "stderr",
          "text": [
            "100%|██████████| 15/15 [01:46<00:00,  7.07s/it]\n"
          ]
        },
        {
          "output_type": "stream",
          "name": "stdout",
          "text": [
            "wartość straty trójkowej (triplet loss): 87.76994323730469\n",
            "\n",
            "epoka: 45\n"
          ]
        },
        {
          "output_type": "stream",
          "name": "stderr",
          "text": [
            "100%|██████████| 15/15 [01:50<00:00,  7.40s/it]\n"
          ]
        },
        {
          "output_type": "stream",
          "name": "stdout",
          "text": [
            "wartość straty trójkowej (triplet loss): 95.12391662597656\n",
            "\n",
            "epoka: 46\n"
          ]
        },
        {
          "output_type": "stream",
          "name": "stderr",
          "text": [
            "100%|██████████| 15/15 [01:41<00:00,  6.79s/it]\n"
          ]
        },
        {
          "output_type": "stream",
          "name": "stdout",
          "text": [
            "wartość straty trójkowej (triplet loss): 88.24798583984375\n",
            "\n",
            "epoka: 47\n"
          ]
        },
        {
          "output_type": "stream",
          "name": "stderr",
          "text": [
            "100%|██████████| 15/15 [01:41<00:00,  6.74s/it]\n"
          ]
        },
        {
          "output_type": "stream",
          "name": "stdout",
          "text": [
            "wartość straty trójkowej (triplet loss): 101.74258422851562\n",
            "\n",
            "epoka: 48\n"
          ]
        },
        {
          "output_type": "stream",
          "name": "stderr",
          "text": [
            "100%|██████████| 15/15 [01:45<00:00,  7.02s/it]\n"
          ]
        },
        {
          "output_type": "stream",
          "name": "stdout",
          "text": [
            "wartość straty trójkowej (triplet loss): 92.06668853759766\n",
            "\n",
            "epoka: 49\n"
          ]
        },
        {
          "output_type": "stream",
          "name": "stderr",
          "text": [
            "100%|██████████| 15/15 [02:02<00:00,  8.19s/it]\n"
          ]
        },
        {
          "output_type": "stream",
          "name": "stdout",
          "text": [
            "wartość straty trójkowej (triplet loss): 100.25626373291016\n",
            "\n",
            "epoka: 50\n"
          ]
        },
        {
          "output_type": "stream",
          "name": "stderr",
          "text": [
            "100%|██████████| 15/15 [01:52<00:00,  7.47s/it]\n"
          ]
        },
        {
          "output_type": "stream",
          "name": "stdout",
          "text": [
            "wartość straty trójkowej (triplet loss): 101.56737518310547\n",
            "\n",
            "epoka: 51\n"
          ]
        },
        {
          "output_type": "stream",
          "name": "stderr",
          "text": [
            "100%|██████████| 15/15 [01:52<00:00,  7.52s/it]\n"
          ]
        },
        {
          "output_type": "stream",
          "name": "stdout",
          "text": [
            "wartość straty trójkowej (triplet loss): 96.79759979248047\n",
            "\n",
            "epoka: 52\n"
          ]
        },
        {
          "output_type": "stream",
          "name": "stderr",
          "text": [
            "100%|██████████| 15/15 [01:59<00:00,  7.95s/it]\n"
          ]
        },
        {
          "output_type": "stream",
          "name": "stdout",
          "text": [
            "wartość straty trójkowej (triplet loss): 100.056640625\n",
            "\n",
            "epoka: 53\n"
          ]
        },
        {
          "output_type": "stream",
          "name": "stderr",
          "text": [
            "100%|██████████| 15/15 [01:40<00:00,  6.73s/it]\n"
          ]
        },
        {
          "output_type": "stream",
          "name": "stdout",
          "text": [
            "wartość straty trójkowej (triplet loss): 98.88005828857422\n",
            "\n",
            "epoka: 54\n"
          ]
        },
        {
          "output_type": "stream",
          "name": "stderr",
          "text": [
            "100%|██████████| 15/15 [01:46<00:00,  7.11s/it]\n"
          ]
        },
        {
          "output_type": "stream",
          "name": "stdout",
          "text": [
            "wartość straty trójkowej (triplet loss): 106.97080993652344\n",
            "\n",
            "epoka: 55\n"
          ]
        },
        {
          "output_type": "stream",
          "name": "stderr",
          "text": [
            "100%|██████████| 15/15 [01:51<00:00,  7.44s/it]\n"
          ]
        },
        {
          "output_type": "stream",
          "name": "stdout",
          "text": [
            "wartość straty trójkowej (triplet loss): 112.60447692871094\n",
            "\n",
            "epoka: 56\n"
          ]
        },
        {
          "output_type": "stream",
          "name": "stderr",
          "text": [
            "100%|██████████| 15/15 [02:00<00:00,  8.04s/it]\n"
          ]
        },
        {
          "output_type": "stream",
          "name": "stdout",
          "text": [
            "wartość straty trójkowej (triplet loss): 112.76580047607422\n",
            "\n",
            "epoka: 57\n"
          ]
        },
        {
          "output_type": "stream",
          "name": "stderr",
          "text": [
            "100%|██████████| 15/15 [01:43<00:00,  6.93s/it]\n"
          ]
        },
        {
          "output_type": "stream",
          "name": "stdout",
          "text": [
            "wartość straty trójkowej (triplet loss): 96.09980773925781\n",
            "\n",
            "epoka: 58\n"
          ]
        },
        {
          "output_type": "stream",
          "name": "stderr",
          "text": [
            "100%|██████████| 15/15 [01:52<00:00,  7.51s/it]\n"
          ]
        },
        {
          "output_type": "stream",
          "name": "stdout",
          "text": [
            "wartość straty trójkowej (triplet loss): 96.02725982666016\n",
            "\n",
            "epoka: 59\n"
          ]
        },
        {
          "output_type": "stream",
          "name": "stderr",
          "text": [
            "100%|██████████| 15/15 [01:51<00:00,  7.42s/it]\n"
          ]
        },
        {
          "output_type": "stream",
          "name": "stdout",
          "text": [
            "wartość straty trójkowej (triplet loss): 106.71268463134766\n",
            "\n",
            "epoka: 60\n"
          ]
        },
        {
          "output_type": "stream",
          "name": "stderr",
          "text": [
            "100%|██████████| 15/15 [01:50<00:00,  7.33s/it]\n"
          ]
        },
        {
          "output_type": "stream",
          "name": "stdout",
          "text": [
            "wartość straty trójkowej (triplet loss): 104.1552734375\n",
            "\n",
            "epoka: 61\n"
          ]
        },
        {
          "output_type": "stream",
          "name": "stderr",
          "text": [
            "100%|██████████| 15/15 [02:03<00:00,  8.24s/it]\n"
          ]
        },
        {
          "output_type": "stream",
          "name": "stdout",
          "text": [
            "wartość straty trójkowej (triplet loss): 102.31024932861328\n",
            "\n",
            "epoka: 62\n"
          ]
        },
        {
          "output_type": "stream",
          "name": "stderr",
          "text": [
            "100%|██████████| 15/15 [02:02<00:00,  8.13s/it]\n"
          ]
        },
        {
          "output_type": "stream",
          "name": "stdout",
          "text": [
            "wartość straty trójkowej (triplet loss): 105.50225830078125\n",
            "\n",
            "epoka: 63\n"
          ]
        },
        {
          "output_type": "stream",
          "name": "stderr",
          "text": [
            "100%|██████████| 15/15 [01:45<00:00,  7.00s/it]\n"
          ]
        },
        {
          "output_type": "stream",
          "name": "stdout",
          "text": [
            "wartość straty trójkowej (triplet loss): 104.6317367553711\n",
            "\n",
            "epoka: 64\n"
          ]
        },
        {
          "output_type": "stream",
          "name": "stderr",
          "text": [
            "100%|██████████| 15/15 [01:48<00:00,  7.20s/it]\n"
          ]
        },
        {
          "output_type": "stream",
          "name": "stdout",
          "text": [
            "wartość straty trójkowej (triplet loss): 113.24169158935547\n",
            "\n",
            "epoka: 65\n"
          ]
        },
        {
          "output_type": "stream",
          "name": "stderr",
          "text": [
            "100%|██████████| 15/15 [01:51<00:00,  7.46s/it]\n"
          ]
        },
        {
          "output_type": "stream",
          "name": "stdout",
          "text": [
            "wartość straty trójkowej (triplet loss): 90.47171020507812\n",
            "\n",
            "epoka: 66\n"
          ]
        },
        {
          "output_type": "stream",
          "name": "stderr",
          "text": [
            "100%|██████████| 15/15 [01:42<00:00,  6.84s/it]\n"
          ]
        },
        {
          "output_type": "stream",
          "name": "stdout",
          "text": [
            "wartość straty trójkowej (triplet loss): 104.6254653930664\n",
            "\n",
            "epoka: 67\n"
          ]
        },
        {
          "output_type": "stream",
          "name": "stderr",
          "text": [
            "100%|██████████| 15/15 [01:39<00:00,  6.64s/it]\n"
          ]
        },
        {
          "output_type": "stream",
          "name": "stdout",
          "text": [
            "wartość straty trójkowej (triplet loss): 91.81787872314453\n",
            "\n",
            "epoka: 68\n"
          ]
        },
        {
          "output_type": "stream",
          "name": "stderr",
          "text": [
            "100%|██████████| 15/15 [01:52<00:00,  7.52s/it]\n"
          ]
        },
        {
          "output_type": "stream",
          "name": "stdout",
          "text": [
            "wartość straty trójkowej (triplet loss): 99.05733489990234\n",
            "\n",
            "epoka: 69\n"
          ]
        },
        {
          "output_type": "stream",
          "name": "stderr",
          "text": [
            "100%|██████████| 15/15 [01:42<00:00,  6.85s/it]\n"
          ]
        },
        {
          "output_type": "stream",
          "name": "stdout",
          "text": [
            "wartość straty trójkowej (triplet loss): 86.1026840209961\n",
            "\n",
            "epoka: 70\n"
          ]
        },
        {
          "output_type": "stream",
          "name": "stderr",
          "text": [
            "100%|██████████| 15/15 [01:43<00:00,  6.92s/it]\n"
          ]
        },
        {
          "output_type": "stream",
          "name": "stdout",
          "text": [
            "wartość straty trójkowej (triplet loss): 93.70159912109375\n",
            "\n",
            "epoka: 71\n"
          ]
        },
        {
          "output_type": "stream",
          "name": "stderr",
          "text": [
            "100%|██████████| 15/15 [01:39<00:00,  6.65s/it]\n"
          ]
        },
        {
          "output_type": "stream",
          "name": "stdout",
          "text": [
            "wartość straty trójkowej (triplet loss): 97.68399047851562\n",
            "\n",
            "epoka: 72\n"
          ]
        },
        {
          "output_type": "stream",
          "name": "stderr",
          "text": [
            "100%|██████████| 15/15 [01:48<00:00,  7.22s/it]\n"
          ]
        },
        {
          "output_type": "stream",
          "name": "stdout",
          "text": [
            "wartość straty trójkowej (triplet loss): 99.0323715209961\n",
            "\n",
            "epoka: 73\n"
          ]
        },
        {
          "output_type": "stream",
          "name": "stderr",
          "text": [
            "100%|██████████| 15/15 [02:08<00:00,  8.56s/it]\n"
          ]
        },
        {
          "output_type": "stream",
          "name": "stdout",
          "text": [
            "wartość straty trójkowej (triplet loss): 91.76520538330078\n",
            "\n",
            "epoka: 74\n"
          ]
        },
        {
          "output_type": "stream",
          "name": "stderr",
          "text": [
            "100%|██████████| 15/15 [01:51<00:00,  7.44s/it]\n"
          ]
        },
        {
          "output_type": "stream",
          "name": "stdout",
          "text": [
            "wartość straty trójkowej (triplet loss): 91.56147003173828\n",
            "\n",
            "epoka: 75\n"
          ]
        },
        {
          "output_type": "stream",
          "name": "stderr",
          "text": [
            "100%|██████████| 15/15 [01:43<00:00,  6.92s/it]\n"
          ]
        },
        {
          "output_type": "stream",
          "name": "stdout",
          "text": [
            "wartość straty trójkowej (triplet loss): 105.03343200683594\n",
            "\n",
            "epoka: 76\n"
          ]
        },
        {
          "output_type": "stream",
          "name": "stderr",
          "text": [
            "100%|██████████| 15/15 [01:54<00:00,  7.62s/it]\n"
          ]
        },
        {
          "output_type": "stream",
          "name": "stdout",
          "text": [
            "wartość straty trójkowej (triplet loss): 103.72200012207031\n",
            "\n",
            "epoka: 77\n"
          ]
        },
        {
          "output_type": "stream",
          "name": "stderr",
          "text": [
            "100%|██████████| 15/15 [02:06<00:00,  8.41s/it]\n"
          ]
        },
        {
          "output_type": "stream",
          "name": "stdout",
          "text": [
            "wartość straty trójkowej (triplet loss): 100.20342254638672\n",
            "\n",
            "epoka: 78\n"
          ]
        },
        {
          "output_type": "stream",
          "name": "stderr",
          "text": [
            "100%|██████████| 15/15 [02:09<00:00,  8.65s/it]\n"
          ]
        },
        {
          "output_type": "stream",
          "name": "stdout",
          "text": [
            "wartość straty trójkowej (triplet loss): 103.54148864746094\n",
            "\n",
            "epoka: 79\n"
          ]
        },
        {
          "output_type": "stream",
          "name": "stderr",
          "text": [
            "100%|██████████| 15/15 [02:08<00:00,  8.54s/it]\n"
          ]
        },
        {
          "output_type": "stream",
          "name": "stdout",
          "text": [
            "wartość straty trójkowej (triplet loss): 109.3708724975586\n",
            "\n",
            "epoka: 80\n"
          ]
        },
        {
          "output_type": "stream",
          "name": "stderr",
          "text": [
            "100%|██████████| 15/15 [02:18<00:00,  9.23s/it]\n"
          ]
        },
        {
          "output_type": "stream",
          "name": "stdout",
          "text": [
            "wartość straty trójkowej (triplet loss): 106.68109130859375\n",
            "\n",
            "epoka: 81\n"
          ]
        },
        {
          "output_type": "stream",
          "name": "stderr",
          "text": [
            "100%|██████████| 15/15 [01:56<00:00,  7.76s/it]\n"
          ]
        },
        {
          "output_type": "stream",
          "name": "stdout",
          "text": [
            "wartość straty trójkowej (triplet loss): 95.33999633789062\n",
            "\n",
            "epoka: 82\n"
          ]
        },
        {
          "output_type": "stream",
          "name": "stderr",
          "text": [
            "100%|██████████| 15/15 [01:49<00:00,  7.30s/it]\n"
          ]
        },
        {
          "output_type": "stream",
          "name": "stdout",
          "text": [
            "wartość straty trójkowej (triplet loss): 95.30863189697266\n",
            "\n",
            "epoka: 83\n"
          ]
        },
        {
          "output_type": "stream",
          "name": "stderr",
          "text": [
            "100%|██████████| 15/15 [01:44<00:00,  6.96s/it]\n"
          ]
        },
        {
          "output_type": "stream",
          "name": "stdout",
          "text": [
            "wartość straty trójkowej (triplet loss): 90.21990203857422\n",
            "\n",
            "epoka: 84\n"
          ]
        },
        {
          "output_type": "stream",
          "name": "stderr",
          "text": [
            "100%|██████████| 15/15 [01:51<00:00,  7.40s/it]\n"
          ]
        },
        {
          "output_type": "stream",
          "name": "stdout",
          "text": [
            "wartość straty trójkowej (triplet loss): 84.89138793945312\n",
            "\n",
            "epoka: 85\n"
          ]
        },
        {
          "output_type": "stream",
          "name": "stderr",
          "text": [
            "100%|██████████| 15/15 [02:04<00:00,  8.27s/it]\n"
          ]
        },
        {
          "output_type": "stream",
          "name": "stdout",
          "text": [
            "wartość straty trójkowej (triplet loss): 92.95348358154297\n",
            "\n",
            "epoka: 86\n"
          ]
        },
        {
          "output_type": "stream",
          "name": "stderr",
          "text": [
            "100%|██████████| 15/15 [02:04<00:00,  8.31s/it]\n"
          ]
        },
        {
          "output_type": "stream",
          "name": "stdout",
          "text": [
            "wartość straty trójkowej (triplet loss): 105.20913696289062\n",
            "\n",
            "epoka: 87\n"
          ]
        },
        {
          "output_type": "stream",
          "name": "stderr",
          "text": [
            "100%|██████████| 15/15 [02:00<00:00,  8.01s/it]\n"
          ]
        },
        {
          "output_type": "stream",
          "name": "stdout",
          "text": [
            "wartość straty trójkowej (triplet loss): 100.64664459228516\n",
            "\n",
            "epoka: 88\n"
          ]
        },
        {
          "output_type": "stream",
          "name": "stderr",
          "text": [
            "100%|██████████| 15/15 [01:58<00:00,  7.89s/it]\n"
          ]
        },
        {
          "output_type": "stream",
          "name": "stdout",
          "text": [
            "wartość straty trójkowej (triplet loss): 106.98130798339844\n",
            "\n",
            "epoka: 89\n"
          ]
        },
        {
          "output_type": "stream",
          "name": "stderr",
          "text": [
            "100%|██████████| 15/15 [01:51<00:00,  7.44s/it]\n"
          ]
        },
        {
          "output_type": "stream",
          "name": "stdout",
          "text": [
            "wartość straty trójkowej (triplet loss): 111.41108703613281\n",
            "\n",
            "epoka: 90\n"
          ]
        },
        {
          "output_type": "stream",
          "name": "stderr",
          "text": [
            "100%|██████████| 15/15 [02:10<00:00,  8.68s/it]\n"
          ]
        },
        {
          "output_type": "stream",
          "name": "stdout",
          "text": [
            "wartość straty trójkowej (triplet loss): 97.09367370605469\n",
            "\n",
            "epoka: 91\n"
          ]
        },
        {
          "output_type": "stream",
          "name": "stderr",
          "text": [
            "100%|██████████| 15/15 [02:04<00:00,  8.32s/it]\n"
          ]
        },
        {
          "output_type": "stream",
          "name": "stdout",
          "text": [
            "wartość straty trójkowej (triplet loss): 102.39924621582031\n",
            "\n",
            "epoka: 92\n"
          ]
        },
        {
          "output_type": "stream",
          "name": "stderr",
          "text": [
            "100%|██████████| 15/15 [02:25<00:00,  9.71s/it]\n"
          ]
        },
        {
          "output_type": "stream",
          "name": "stdout",
          "text": [
            "wartość straty trójkowej (triplet loss): 92.60772705078125\n",
            "\n",
            "epoka: 93\n"
          ]
        },
        {
          "output_type": "stream",
          "name": "stderr",
          "text": [
            "100%|██████████| 15/15 [02:06<00:00,  8.44s/it]\n"
          ]
        },
        {
          "output_type": "stream",
          "name": "stdout",
          "text": [
            "wartość straty trójkowej (triplet loss): 116.83936309814453\n",
            "\n",
            "epoka: 94\n"
          ]
        },
        {
          "output_type": "stream",
          "name": "stderr",
          "text": [
            "100%|██████████| 15/15 [01:55<00:00,  7.70s/it]\n"
          ]
        },
        {
          "output_type": "stream",
          "name": "stdout",
          "text": [
            "wartość straty trójkowej (triplet loss): 95.37211608886719\n",
            "\n",
            "epoka: 95\n"
          ]
        },
        {
          "output_type": "stream",
          "name": "stderr",
          "text": [
            "100%|██████████| 15/15 [02:01<00:00,  8.07s/it]\n"
          ]
        },
        {
          "output_type": "stream",
          "name": "stdout",
          "text": [
            "wartość straty trójkowej (triplet loss): 99.2235336303711\n",
            "\n",
            "epoka: 96\n"
          ]
        },
        {
          "output_type": "stream",
          "name": "stderr",
          "text": [
            "100%|██████████| 15/15 [02:16<00:00,  9.13s/it]\n"
          ]
        },
        {
          "output_type": "stream",
          "name": "stdout",
          "text": [
            "wartość straty trójkowej (triplet loss): 98.89839172363281\n",
            "\n",
            "epoka: 97\n"
          ]
        },
        {
          "output_type": "stream",
          "name": "stderr",
          "text": [
            "100%|██████████| 15/15 [02:18<00:00,  9.26s/it]\n"
          ]
        },
        {
          "output_type": "stream",
          "name": "stdout",
          "text": [
            "wartość straty trójkowej (triplet loss): 115.97030639648438\n",
            "\n",
            "epoka: 98\n"
          ]
        },
        {
          "output_type": "stream",
          "name": "stderr",
          "text": [
            "100%|██████████| 15/15 [02:10<00:00,  8.68s/it]\n"
          ]
        },
        {
          "output_type": "stream",
          "name": "stdout",
          "text": [
            "wartość straty trójkowej (triplet loss): 101.7298583984375\n",
            "\n",
            "epoka: 99\n"
          ]
        },
        {
          "output_type": "stream",
          "name": "stderr",
          "text": [
            "100%|██████████| 15/15 [02:09<00:00,  8.63s/it]\n"
          ]
        },
        {
          "output_type": "stream",
          "name": "stdout",
          "text": [
            "wartość straty trójkowej (triplet loss): 104.53811645507812\n",
            "\n",
            "epoka: 100\n"
          ]
        },
        {
          "output_type": "stream",
          "name": "stderr",
          "text": [
            "100%|██████████| 15/15 [01:52<00:00,  7.48s/it]\n"
          ]
        },
        {
          "output_type": "stream",
          "name": "stdout",
          "text": [
            "wartość straty trójkowej (triplet loss): 99.93914794921875\n",
            "\n"
          ]
        }
      ],
      "source": [
        "# --------------------------------------------------------------------\n",
        "# Definicja modelu kodera:\n",
        "# --------------------------------------------------------------------\n",
        "\n",
        "input_dims = parameterized_audio.shape[1::]\n",
        "\n",
        "network_input = Input(shape=input_dims, name=\"left_input\")\n",
        "x = Conv2D(8,(2,2),  activation=PReLU(), padding='same')(network_input)\n",
        "x = MaxPooling2D((2,4))(x)\n",
        "x = Conv2D(8,(2,2),  activation=PReLU(), padding='same')(x)\n",
        "x = MaxPooling2D((2,4))(x)\n",
        "x = Flatten()(x)\n",
        "x = Dense(128)(x)\n",
        "embedding_vector = Dense(embedding_length, activation=None)(x)\n",
        "encoder_model    = Model(inputs=network_input, outputs=embedding_vector)\n",
        "\n",
        "print(\"Struktura kodera:\")\n",
        "encoder_model.summary()\n",
        "print()\n",
        "\n",
        "# --------------------------------------------------------------------\n",
        "\n",
        "# Funkcja straty trójkowej (ang. triplet loss). Struktura samej funkcji straty jest dość prosta, a jej\n",
        "# główna idea zawarta jest w linijce obliczającej wartość zmiennej partial_losses.\n",
        "def triplet_loss_function(anchor_repr, positive_repr, negative_repr, distance_norm='euclidean', margin=1, return_partials = False):\n",
        "    distance_ap    = tf.norm(anchor_repr - positive_repr, ord=distance_norm, axis=1)\n",
        "    distance_an    = tf.norm(anchor_repr - negative_repr, ord=distance_norm, axis=1)\n",
        "    partial_losses = tf.math.maximum(0, distance_ap - distance_an + margin)\n",
        "    loss_value     = tf.math.reduce_mean(partial_losses)\n",
        "\n",
        "    if return_partials:\n",
        "        return partial_losses\n",
        "    else:\n",
        "        return loss_value\n",
        "\n",
        "# Poważnym problemem do rozwiązania w trakcie treningu sieci jest pozyskiwanie trójek reprezentacji,\n",
        "# które nie generują wartości funkcji straty równej zeru. Dlatego też generowanie trójek przykładów\n",
        "# (ang. triplet mining) ma dość złożoną postać w postaci dwóch funkcji poniżej:\n",
        "\n",
        "# Generowanie pojedynczej trójki wzorców do treningu:\n",
        "def mine_triplet(trn_X, trn_Y):\n",
        "\n",
        "    # Na początku sprawdzamy, jakie klasy mamy do dyspozycji i wybieramy klasę kotwicy (ang. anchor):\n",
        "    classes_available = np.unique(trn_Y)\n",
        "    anchor_class      = np.random.choice(classes_available)\n",
        "\n",
        "    # Dla wygody podzielimy sobie zbiór na dane z klasy kotwicy i spoza tej klasy:\n",
        "    anchor_class_examples    = trn_X[trn_Y==anchor_class]\n",
        "    nonanchor_class_examples = trn_X[trn_Y!=anchor_class]\n",
        "\n",
        "    # Następnie wybieramy indeks konkretnego przykładu kotwicy i przykładu pozytywnego\n",
        "    # czyli takiego, który należy do tej samej klasy co kotwica:\n",
        "    anchor_pattern_idx    = np.random.choice(len(anchor_class_examples),1)\n",
        "    positive_pattern_idx  = np.random.choice(len(anchor_class_examples),1)\n",
        "\n",
        "    # Jeśli wylosowaliśmy takie same indeksy, to losujemy jeszcze raz, aż uzyskamy różne indeksy:\n",
        "    while positive_pattern_idx == anchor_pattern_idx:\n",
        "        positive_pattern_idx  = np.random.choice(len(anchor_class_examples),1)\n",
        "\n",
        "    # Na koniec losujemy przykład negatywny (spoza klasy kotwicy):\n",
        "    negative_pattern_idx  = np.random.choice(len(nonanchor_class_examples),1)\n",
        "\n",
        "    # Przygotowujemy dane do zwrócenia z funkcji, pobieramy wzorce spod wybranych indeksów\n",
        "    # i przekazujemy je do dalszej części skryptu.\n",
        "    anchor_pattern   = anchor_class_examples[anchor_pattern_idx]\n",
        "    positive_pattern = anchor_class_examples[positive_pattern_idx]\n",
        "    negative_pattern = nonanchor_class_examples[negative_pattern_idx]\n",
        "\n",
        "    return (anchor_pattern, positive_pattern, negative_pattern)\n",
        "\n",
        "# Proces treningu przeprowadzany jest w podgrupach danych (ang. batches), stąd nie wystarczy tylko generować trójek danych,\n",
        "# konieczne jest także określenie sposobu generowania całych podgrup:\n",
        "def mine_batch_of_triplets(encoder_model, trn_X, trn_Y, batch_size, input_dims, distance_norm='euclidean', margin=1, eps=0.001):\n",
        "\n",
        "    # Na początku określamy jaki kształt ma macierz przechowująca grupę danych.\n",
        "    # Rezerwujemy też miejsce na macierze przechowujące poszczególne składowe trójek\n",
        "    # reprezentacji.\n",
        "    batch_matrix_shape = tuple([batch_size] + list(input_dims))\n",
        "    anchors_mtx        = np.zeros(batch_matrix_shape)\n",
        "    positive_mtx       = np.zeros(batch_matrix_shape)\n",
        "    negative_mtx       = np.zeros(batch_matrix_shape)\n",
        "\n",
        "    # Główną trudnością w generowaniu trójek przykładów jest wybranie takich trójek, które\n",
        "    # charakteryzują się wartością straty większą od 0 (bo jeśli wartość ta jest równa 0, to\n",
        "    # przykład taki jest bezużyteczny w treningu - nie generuje poprawek dla wag sieci).\n",
        "    #\n",
        "    # Dlatego w pierwszym przejściu poniższej pętli generujemy wstępne propozycje trójek w grupie danych,\n",
        "    # a następnie jeszcze raz generujemy trójki, dla których strata trójkowa wynosi 0:\n",
        "    first_pass = True\n",
        "    while True:\n",
        "        # Policzmy reprezentacje dla wybranych trójek przykładów:\n",
        "        representations_anchor   = encoder_model(anchors_mtx)\n",
        "        representations_positive = encoder_model(positive_mtx)\n",
        "        representations_negative = encoder_model(negative_mtx)\n",
        "\n",
        "        # Teraz obliczmy funkcję straty dla wybranego zestawu trójek wzorców:\n",
        "        partial_losses = triplet_loss_function(representations_anchor, representations_positive, representations_negative, distance_norm, margin, return_partials = True)\n",
        "\n",
        "        # Zobaczmy, gdzie wartość straty jest bliska zeru (mniejsza od eps):\n",
        "        zero_loss_triplet_mask = partial_losses.numpy() <= eps\n",
        "\n",
        "        # Jeśli którakolwiek wartość straty jest równa zeru to...\n",
        "        if zero_loss_triplet_mask.any() or first_pass:\n",
        "            for i in range(batch_size):\n",
        "                # ... losujemy nową trójkę w miejsce tej, która dała zerową stratę i jeszcze raz\n",
        "                # sprawdzamy, czy w naszej grupie danych wszystkie trójki generują niezerową\n",
        "                # wartość funkcji straty.\n",
        "                if (zero_loss_triplet_mask[i] == False) and (not first_pass): continue\n",
        "                anchor_pattern, positive_pattern, negative_pattern = mine_triplet(trn_X, trn_Y)\n",
        "                anchors_mtx[i,::]  = anchor_pattern\n",
        "                positive_mtx[i,::] = positive_pattern\n",
        "                negative_mtx[i,::] = negative_pattern\n",
        "        else:\n",
        "            break\n",
        "\n",
        "        first_pass = False\n",
        "\n",
        "    loss_value = tf.math.reduce_mean(partial_losses)\n",
        "    return anchors_mtx, positive_mtx, negative_mtx, representations_anchor, representations_positive, representations_negative, loss_value\n",
        "\n",
        "# Przygotowanie środowiska pracy:\n",
        "if not os.path.isdir(folder_repspace_preview): os.mkdir(folder_repspace_preview)\n",
        "if not os.path.isdir(folder_model_weights):    os.mkdir(folder_model_weights)\n",
        "\n",
        "# Jeśli w folderze z wizualizacjami pozostały pliki po poprzednim uruchomieniu skryptu, to\n",
        "# te pliki usuwamy.\n",
        "for fname in os.listdir(folder_repspace_preview):\n",
        "    fpath = os.path.join(folder_repspace_preview, fname)\n",
        "    os.remove(fpath)\n",
        "\n",
        "# Opcjonalnie - można załadować wagi modelu:\n",
        "# if os.path.isfile(os.path.join(folder_model_weights,'model_weights.h5')):\n",
        "    # try:\n",
        "        # encoder_model.load_weights(os.path.join(folder_model_weights,\"model_weights.h5\"))\n",
        "    # except ValueError as e:\n",
        "        # print()\n",
        "        # print(\"uwaga: nie udało się wczytać poprzednich wag modelu (np. dlatego, że zmieniła się struktura sieci, lub z innego powodu)\")\n",
        "        # print(\"opis błędu odczytu:\")\n",
        "        # print(e)\n",
        "        # print()\n",
        "\n",
        "# Na koniec rozpoczynamy właściwy trening sieci:\n",
        "optimizer     = tf.keras.optimizers.Adam(learning_rate)\n",
        "\n",
        "print(\"trening sieci neuronowej algorytmem triplet loss został rozpoczęty\")\n",
        "print()\n",
        "\n",
        "# trenujemy, aż nie otrzymamy sygnału wstrzymania z klawiatury (ctrl+c):\n",
        "for epoch_number in range(1, num_training_epochs+1):\n",
        "\n",
        "    # --------------------------------------------------------\n",
        "    # właściwy algorytm treningu sieci:\n",
        "\n",
        "    print(f\"epoka: {epoch_number}\")\n",
        "\n",
        "    # Korzystamy z własnego zdefiniowania algorytmu treningu, stąd musimy posłuzyć się kontekstem GradientTape:\n",
        "    with tf.GradientTape() as tape:\n",
        "        accumulated_loss = 0\n",
        "\n",
        "        # Dla każdej grupy danych:\n",
        "        for batch_idx in tqdm(range(batches_per_epoch)):\n",
        "            # Wygeneruj trójki przykładów, które generują niezerową wartość funkcji straty:\n",
        "            anchors_mtx, positive_mtx, negative_mtx, representations_anchor, representations_positive, representations_negative, loss_value = mine_batch_of_triplets(encoder_model, trn_X, trn_Y, batch_size, input_dims, distance_norm, margin)\n",
        "\n",
        "            # Dodajemy stratę grupy danych do zmiennej, która na koniec wykonania wewnętrznej pętli będzie zawierać\n",
        "            # średnią wartość straty dla całej epoki:\n",
        "            accumulated_loss += loss_value*tf.constant(1./batches_per_epoch)\n",
        "\n",
        "    # Wylicz gradienty na podstawie funkcji straty:\n",
        "    grads = tape.gradient(accumulated_loss, encoder_model.trainable_weights)\n",
        "\n",
        "    # Zaaplikuj poprawki do wag sieci za pomocą algorytmu wstecznej propagacji błędów\n",
        "    optimizer.apply_gradients(zip(grads, encoder_model.trainable_weights))\n",
        "\n",
        "    # --------------------------------------------------------\n",
        "    # wizualizacja, zapis wag i raportowanie postępów\n",
        "    info_text = f\"wartość straty trójkowej (triplet loss): {accumulated_loss}\"\n",
        "    print(info_text)\n",
        "    print()\n",
        "\n",
        "    # Wizualizacja przestrzeni reprezentacji za pomocą PCA, jest to konieczne,\n",
        "    # bo wizualizacja ma tylko 2 wymiary, a reprezentacje typowo mają wymiarów\n",
        "    # znacznie więcej.\n",
        "    try:\n",
        "        test_embeddings = encoder_model(test_X)\n",
        "        pca             = PCA(n_components=2, svd_solver='full')\n",
        "        reduced         = pca.fit_transform(test_embeddings)\n",
        "    except:\n",
        "        print(\"wykonanie PCA nie powiodło się - model najprawdopdobniej utracił zbieżność, ostatnie poprawne wagi są zachowane na dysku\")\n",
        "        break\n",
        "\n",
        "    # Zapis wag do późniejszego użycia:\n",
        "    encoder_model.save_weights(os.path.join(folder_model_weights,'model_weights.h5'),save_format=\"h5\")\n",
        "\n",
        "    # Rysujemy obliczoną wcześniej wizualizację i zapisujemy na dysk:\n",
        "    plt.figure(figsize=(16,9))\n",
        "    for class_name in np.unique(test_Y):\n",
        "        mask = test_Y == class_name\n",
        "        plt.scatter(reduced[mask,0],reduced[mask,1], label=class_name, s=10)\n",
        "    plt.legend()\n",
        "    plt.title(info_text)\n",
        "    plt.grid()\n",
        "\n",
        "    epoch_num_str = str(epoch_number).zfill(5)\n",
        "    plt.savefig(os.path.join(folder_repspace_preview,f\"preview_{epoch_num_str}.png\"))\n",
        "    plt.close()\n",
        "\n",
        "    epoch_number += 1\n"
      ]
    }
  ],
  "metadata": {
    "accelerator": "GPU",
    "colab": {
      "provenance": [],
      "toc_visible": true,
      "gpuType": "T4"
    },
    "kernelspec": {
      "display_name": "Python 3",
      "name": "python3"
    },
    "language_info": {
      "codemirror_mode": {
        "name": "ipython",
        "version": 3
      },
      "file_extension": ".py",
      "mimetype": "text/x-python",
      "name": "python",
      "nbconvert_exporter": "python",
      "pygments_lexer": "ipython3",
      "version": "3.8.9"
    }
  },
  "nbformat": 4,
  "nbformat_minor": 0
}